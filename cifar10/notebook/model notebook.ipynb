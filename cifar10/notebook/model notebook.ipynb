{
  "nbformat": 4,
  "nbformat_minor": 0,
  "metadata": {
    "accelerator": "GPU",
    "colab": {
      "name": "semi_supervised(2)(1)(1)_BRAHIM.ipynb",
      "version": "0.3.2",
      "provenance": [],
      "collapsed_sections": []
    },
    "kernelspec": {
      "display_name": "Python 3",
      "language": "python",
      "name": "python3"
    },
    "language_info": {
      "codemirror_mode": {
        "name": "ipython",
        "version": 3
      },
      "file_extension": ".py",
      "mimetype": "text/x-python",
      "name": "python",
      "nbconvert_exporter": "python",
      "pygments_lexer": "ipython3",
      "version": "3.7.3"
    },
    "toc": {
      "base_numbering": 1,
      "nav_menu": {},
      "number_sections": true,
      "sideBar": true,
      "skip_h1_title": false,
      "title_cell": "Table of Contents",
      "title_sidebar": "Contents",
      "toc_cell": false,
      "toc_position": {},
      "toc_section_display": true,
      "toc_window_display": false
    },
    "varInspector": {
      "cols": {
        "lenName": 16,
        "lenType": 16,
        "lenVar": 40
      },
      "kernels_config": {
        "python": {
          "delete_cmd_postfix": "",
          "delete_cmd_prefix": "del ",
          "library": "var_list.py",
          "varRefreshCmd": "print(var_dic_list())"
        },
        "r": {
          "delete_cmd_postfix": ") ",
          "delete_cmd_prefix": "rm(",
          "library": "var_list.r",
          "varRefreshCmd": "cat(var_dic_list()) "
        }
      },
      "types_to_exclude": [
        "module",
        "function",
        "builtin_function_or_method",
        "instance",
        "_Feature"
      ],
      "window_display": false
    }
  },
  "cells": [
    {
      "cell_type": "code",
      "metadata": {
        "id": "1l7G6BwI-xV4",
        "colab_type": "code",
        "colab": {}
      },
      "source": [
        "%matplotlib inline"
      ],
      "execution_count": 0,
      "outputs": []
    },
    {
      "cell_type": "code",
      "metadata": {
        "ExecuteTime": {
          "end_time": "2019-09-04T03:27:48.798017Z",
          "start_time": "2019-09-04T03:27:45.981827Z"
        },
        "colab_type": "code",
        "id": "hMgjlGe6m_Li",
        "colab": {}
      },
      "source": [
        "import matplotlib.pyplot as plt\n",
        "import numpy as np\n",
        "from keras.callbacks import LearningRateScheduler, ModelCheckpoint\n",
        "from keras.datasets import cifar10\n",
        "from keras.layers import Dropout, Input, Activation\n",
        "from keras.layers import Conv2D, GlobalAvgPool2D, MaxPool2D, UpSampling2D\n",
        "from keras.models import Model\n",
        "from keras.optimizers import RMSprop \n",
        "from keras.preprocessing.image import ImageDataGenerator\n",
        "from keras.regularizers import l2\n",
        "from keras.utils import to_categorical\n",
        "from keras import models\n",
        "from sklearn.metrics import confusion_matrix\n",
        "from sklearn.model_selection import train_test_split\n",
        "\n",
        "np.random.seed(123)"
      ],
      "execution_count": 0,
      "outputs": []
    },
    {
      "cell_type": "markdown",
      "metadata": {
        "colab_type": "text",
        "heading_collapsed": true,
        "id": "gX4oa8LImj3f"
      },
      "source": [
        "## Data preparation"
      ]
    },
    {
      "cell_type": "code",
      "metadata": {
        "ExecuteTime": {
          "end_time": "2019-09-04T03:27:49.218207Z",
          "start_time": "2019-09-04T03:27:48.803374Z"
        },
        "colab_type": "code",
        "hidden": true,
        "id": "ZK0X-9EVm_MA",
        "colab": {}
      },
      "source": [
        "(x_train, y_train), (x_test, y_test) = cifar10.load_data()"
      ],
      "execution_count": 0,
      "outputs": []
    },
    {
      "cell_type": "code",
      "metadata": {
        "ExecuteTime": {
          "end_time": "2019-09-04T03:27:49.223668Z",
          "start_time": "2019-09-04T03:27:49.220066Z"
        },
        "colab_type": "code",
        "hidden": true,
        "id": "kVPNROcXm_MJ",
        "outputId": "5c097d25-a886-4711-c62a-5d41802a2f32",
        "colab": {
          "base_uri": "https://localhost:8080/",
          "height": 52
        }
      },
      "source": [
        "print(\"Training set has shape {}\".format(x_train.shape))\n",
        "print(\"Testing set has shape {}\".format(x_test.shape))"
      ],
      "execution_count": 72,
      "outputs": [
        {
          "output_type": "stream",
          "text": [
            "Training set has shape (50000, 32, 32, 3)\n",
            "Testing set has shape (10000, 32, 32, 3)\n"
          ],
          "name": "stdout"
        }
      ]
    },
    {
      "cell_type": "code",
      "metadata": {
        "ExecuteTime": {
          "end_time": "2019-09-04T06:03:10.576431Z",
          "start_time": "2019-09-04T06:03:10.170994Z"
        },
        "colab_type": "code",
        "hidden": true,
        "id": "f090oyPAm_MQ",
        "outputId": "19038efc-4cb0-4595-c8e3-3b4c1a45936e",
        "colab": {
          "base_uri": "https://localhost:8080/",
          "height": 160
        }
      },
      "source": [
        "classes = (\"airplane\", \"automobile\", \"bird\", \"cat\", \"deer\", \"dog\", \"frog\", \"horse\", \"ship\", \"truck\")\n",
        "random_img = np.random.randint(0, len(x_train), 5)\n",
        "fig, ax = plt.subplots(1, 5, figsize = (10,5))\n",
        "for i, ind in enumerate(random_img):\n",
        "    ax[i].imshow(x_train[ind])\n",
        "    ax[i].set_title(classes[y_train[ind][0]])"
      ],
      "execution_count": 73,
      "outputs": [
        {
          "output_type": "display_data",
          "data": {
            "image/png": "[encoded data removed]",
            "text/plain": [
              "<Figure size 720x360 with 5 Axes>"
            ]
          },
          "metadata": {
            "tags": []
          }
        }
      ]
    },
    {
      "cell_type": "code",
      "metadata": {
        "ExecuteTime": {
          "end_time": "2019-09-04T03:27:50.674006Z",
          "start_time": "2019-09-04T03:27:50.350211Z"
        },
        "colab_type": "code",
        "hidden": true,
        "id": "0hGIn8_cm_Mi",
        "colab": {}
      },
      "source": [
        "# Keep 50% of bird, deer and truck classes\n",
        "bird_idx = np.where(y_train == 2)[0]\n",
        "deer_idx = np.where(y_train == 4)[0]\n",
        "truck_idx = np.where(y_train == 9)[0]\n",
        "\n",
        "bird_idx_sample = list(np.random.choice(bird_idx, size=2500, replace=False))\n",
        "deer_idx_sample = list(np.random.choice(deer_idx, size=2500, replace=False))\n",
        "truck_idx_sample = list(np.random.choice(truck_idx, size=2500, replace=False))\n",
        "\n",
        "idx_sample = bird_idx_sample + deer_idx_sample + truck_idx_sample\n",
        "\n",
        "x_train = np.delete(x_train, idx_sample, axis=0)\n",
        "y_train = np.delete(y_train, idx_sample, axis=0)"
      ],
      "execution_count": 0,
      "outputs": []
    },
    {
      "cell_type": "code",
      "metadata": {
        "ExecuteTime": {
          "end_time": "2019-09-04T03:27:52.985990Z",
          "start_time": "2019-09-04T03:27:52.978294Z"
        },
        "colab_type": "code",
        "hidden": true,
        "id": "A-8Fstt_m_M6",
        "outputId": "4ef434a3-4aac-4e8e-8747-a4e9c3255b85",
        "colab": {
          "base_uri": "https://localhost:8080/",
          "height": 69
        }
      },
      "source": [
        "print(\"Training set has shape {}\".format(x_train.shape))\n",
        "print(\"Validation set has shape {}\".format(x_test.shape))\n",
        "print(\"Labels set has shape {}\".format(y_train.shape))"
      ],
      "execution_count": 75,
      "outputs": [
        {
          "output_type": "stream",
          "text": [
            "Training set has shape (42500, 32, 32, 3)\n",
            "Validation set has shape (10000, 32, 32, 3)\n",
            "Labels set has shape (42500, 1)\n"
          ],
          "name": "stdout"
        }
      ]
    },
    {
      "cell_type": "markdown",
      "metadata": {
        "heading_collapsed": true,
        "hidden": true,
        "id": "WIAsXxjo-xWv",
        "colab_type": "text"
      },
      "source": [
        "### Balance data"
      ]
    },
    {
      "cell_type": "code",
      "metadata": {
        "hidden": true,
        "id": "ksE942eD-xWy",
        "colab_type": "code",
        "colab": {}
      },
      "source": [
        "def random_rotation(image):\n",
        "    from skimage import transform\n",
        "    random_degree = np.random.uniform(-10, 10)\n",
        "    return transform.rotate(image, random_degree)\n",
        "\n",
        "def random_shift(image):\n",
        "    from scipy.ndimage import shift\n",
        "    h_shift = np.random.uniform(-4, 4)\n",
        "    w_shift = np.random.uniform(-4, 4)\n",
        "    return shift(image, [h_shift, w_shift, 0])\n",
        "\n",
        "def horizontal_flip(image):\n",
        "    return np.fliplr(image)"
      ],
      "execution_count": 0,
      "outputs": []
    },
    {
      "cell_type": "code",
      "metadata": {
        "hidden": true,
        "id": "8mUMNyuZ-xW5",
        "colab_type": "code",
        "colab": {
          "base_uri": "https://localhost:8080/",
          "height": 52
        },
        "outputId": "e7546426-30c3-4333-a0a3-cf9f95ee42f8"
      },
      "source": [
        "# the images and labels from the bird, deer and truck class \n",
        "x_lost = x_train[np.isin(y_train.T[0], [2, 4, 9])]\n",
        "y_lost = y_train[np.isin(y_train.T[0], [2, 4, 9])]\n",
        "print(\"Training set has shape {}\".format(x_lost.shape))\n",
        "print(\"Labels set has shape {}\".format(y_lost.shape))"
      ],
      "execution_count": 77,
      "outputs": [
        {
          "output_type": "stream",
          "text": [
            "Training set has shape (7500, 32, 32, 3)\n",
            "Labels set has shape (7500, 1)\n"
          ],
          "name": "stdout"
        }
      ]
    },
    {
      "cell_type": "code",
      "metadata": {
        "hidden": true,
        "id": "6_3n0ERw-xXA",
        "colab_type": "code",
        "colab": {}
      },
      "source": [
        "# Data augmentation on lost data to balance classes\n",
        "def transform_randomly(img):\n",
        "    transformed_img = np.copy(img)\n",
        "    random_choice = np.random.uniform(size=3)\n",
        "    if random_choice[0] > 0.5:\n",
        "        transformed_img = random_rotation(img)\n",
        "    if random_choice[1] > 0.5:\n",
        "        transformed_img = random_shift(img)\n",
        "    if random_choice[2] > 0.5:\n",
        "        transformed_img = horizontal_flip(img)\n",
        "    return transformed_img\n",
        "    \n",
        "x_add = np.array([transform_randomly(img) for img in x_lost])\n",
        "y_add = np.array([label for label in y_lost])"
      ],
      "execution_count": 0,
      "outputs": []
    },
    {
      "cell_type": "code",
      "metadata": {
        "hidden": true,
        "id": "kZ2gVkJU-xXH",
        "colab_type": "code",
        "colab": {}
      },
      "source": [
        "# add created data to original data\n",
        "x_train = np.r_[x_train, x_add]\n",
        "y_train = np.r_[y_train, y_add]"
      ],
      "execution_count": 0,
      "outputs": []
    },
    {
      "cell_type": "code",
      "metadata": {
        "ExecuteTime": {
          "end_time": "2019-09-04T06:03:27.001954Z",
          "start_time": "2019-09-04T06:03:26.987025Z"
        },
        "colab_type": "code",
        "hidden": true,
        "id": "LI3hbnr1m_MX",
        "outputId": "389d841a-4e41-47a0-fa24-28598172c302",
        "colab": {
          "base_uri": "https://localhost:8080/",
          "height": 191
        }
      },
      "source": [
        "unique, counts = np.unique(y_train, return_counts=True)\n",
        "dict(zip(unique, counts))"
      ],
      "execution_count": 80,
      "outputs": [
        {
          "output_type": "execute_result",
          "data": {
            "text/plain": [
              "{0: 5000,\n",
              " 1: 5000,\n",
              " 2: 5000,\n",
              " 3: 5000,\n",
              " 4: 5000,\n",
              " 5: 5000,\n",
              " 6: 5000,\n",
              " 7: 5000,\n",
              " 8: 5000,\n",
              " 9: 5000}"
            ]
          },
          "metadata": {
            "tags": []
          },
          "execution_count": 80
        }
      ]
    },
    {
      "cell_type": "markdown",
      "metadata": {
        "heading_collapsed": true,
        "hidden": true,
        "id": "sctdG8MX-xXQ",
        "colab_type": "text"
      },
      "source": [
        "### Split data"
      ]
    },
    {
      "cell_type": "code",
      "metadata": {
        "hidden": true,
        "id": "4PzSC2GA-xXS",
        "colab_type": "code",
        "colab": {}
      },
      "source": [
        "num_classes = 10\n",
        "y_train = to_categorical(y_train, num_classes)\n",
        "y_test = to_categorical(y_test, num_classes)\n",
        "x_train = x_train.astype(\"float32\")/255.0\n",
        "x_test = x_test.astype(\"float32\")/255.0"
      ],
      "execution_count": 0,
      "outputs": []
    },
    {
      "cell_type": "code",
      "metadata": {
        "hidden": true,
        "id": "Z-ALxn6z-xXW",
        "colab_type": "code",
        "colab": {}
      },
      "source": [
        "x_tr, x_val, y_tr, y_val = train_test_split(x_train,\n",
        "                                            y_train,\n",
        "                                            test_size=0.2,\n",
        "                                            random_state=123,\n",
        "                                            stratify=y_train)"
      ],
      "execution_count": 0,
      "outputs": []
    },
    {
      "cell_type": "markdown",
      "metadata": {
        "colab_type": "text",
        "id": "moFy_Ajxmj8x"
      },
      "source": [
        "## Train"
      ]
    },
    {
      "cell_type": "markdown",
      "metadata": {
        "heading_collapsed": true,
        "id": "6kCs0uDY-xXc",
        "colab_type": "text"
      },
      "source": [
        "### Train autoencoder"
      ]
    },
    {
      "cell_type": "code",
      "metadata": {
        "hidden": true,
        "id": "dffLNWvY-xXd",
        "colab_type": "code",
        "colab": {}
      },
      "source": [
        "def encoder(inputs):\n",
        "    x = Conv2D(96, 3, activation=\"relu\", padding=\"same\")(inputs)\n",
        "    x = Conv2D(96, 3, activation=\"relu\", padding=\"same\")(x)\n",
        "    x = MaxPool2D(3, strides=2)(x)\n",
        "    x = Dropout(0.5)(x)\n",
        "\n",
        "    x = Conv2D(192, 3, activation=\"relu\", padding=\"same\")(x)\n",
        "    x = Conv2D(192, 3, activation=\"relu\", padding=\"same\")(x)\n",
        "    x = MaxPool2D(3, strides=2)(x)\n",
        "    x = Dropout(0.5)(x)\n",
        "\n",
        "    return x\n",
        "\n",
        "def decoder(inputs):\n",
        "    x = Conv2D(192, 3, activation=\"relu\", padding=\"same\")(inputs)\n",
        "    x = Conv2D(192, 3, activation=\"relu\", padding=\"same\")(x)\n",
        "    x = UpSampling2D(3)(x)\n",
        "    x = Dropout(0.5)(x)\n",
        "\n",
        "    x = Conv2D(96, 3, activation=\"relu\")(x)\n",
        "    x = Conv2D(96, 3, activation=\"relu\")(x)\n",
        "    x = UpSampling2D(2)(x)\n",
        "    x = Dropout(0.5)(x)\n",
        "\n",
        "    x = Conv2D(3, 3, activation=\"sigmoid\", name=\"autoencoder\")(x)\n",
        "    return x\n",
        "\n",
        "def auto_encoder(inputs):\n",
        "    x = encoder(inputs)\n",
        "    x = decoder(x)\n",
        "    return x"
      ],
      "execution_count": 0,
      "outputs": []
    },
    {
      "cell_type": "code",
      "metadata": {
        "hidden": true,
        "id": "5mTwdK8m-xXk",
        "colab_type": "code",
        "colab": {}
      },
      "source": [
        "inputs = Input(shape=(32, 32, 3))\n",
        "autoencoder = Model(inputs, outputs=auto_encoder(inputs))"
      ],
      "execution_count": 0,
      "outputs": []
    },
    {
      "cell_type": "code",
      "metadata": {
        "colab_type": "code",
        "id": "ZF2weu3yH5iC",
        "outputId": "72009e11-2768-409c-8c27-b99e05a8f96a",
        "colab": {
          "base_uri": "https://localhost:8080/",
          "height": 1000
        }
      },
      "source": [
        "model_check = ModelCheckpoint(\"autoencoder.h5\",\n",
        "                              monitor='val_loss',\n",
        "                              verbose=0,\n",
        "                              save_best_only=True,\n",
        "                              save_weights_only=False)\n",
        "autoencoder.compile(optimizer=\"rmsprop\", loss=\"mse\")\n",
        "autoencoder.fit(x_tr,\n",
        "                x_tr,\n",
        "                batch_size=batch_size,\n",
        "                epochs=100,\n",
        "                validation_data=(x_val, x_val),\n",
        "                callbacks=[model_check])"
      ],
      "execution_count": 0,
      "outputs": [
        {
          "output_type": "stream",
          "text": [
            "Train on 34000 samples, validate on 8500 samples\n",
            "Epoch 1/100\n",
            "34000/34000 [==============================] - 28s 819us/step - loss: 0.0176 - val_loss: 0.0090\n",
            "Epoch 2/100\n",
            "34000/34000 [==============================] - 21s 619us/step - loss: 0.0086 - val_loss: 0.0066\n",
            "Epoch 3/100\n",
            "34000/34000 [==============================] - 21s 616us/step - loss: 0.0073 - val_loss: 0.0058\n",
            "Epoch 4/100\n",
            "34000/34000 [==============================] - 21s 613us/step - loss: 0.0066 - val_loss: 0.0053\n",
            "Epoch 5/100\n",
            "34000/34000 [==============================] - 21s 613us/step - loss: 0.0062 - val_loss: 0.0052\n",
            "Epoch 6/100\n",
            "34000/34000 [==============================] - 21s 615us/step - loss: 0.0059 - val_loss: 0.0046\n",
            "Epoch 7/100\n",
            "34000/34000 [==============================] - 21s 616us/step - loss: 0.0056 - val_loss: 0.0044\n",
            "Epoch 8/100\n",
            "34000/34000 [==============================] - 21s 614us/step - loss: 0.0054 - val_loss: 0.0049\n",
            "Epoch 9/100\n",
            "34000/34000 [==============================] - 21s 612us/step - loss: 0.0053 - val_loss: 0.0040\n",
            "Epoch 10/100\n",
            "34000/34000 [==============================] - 21s 613us/step - loss: 0.0051 - val_loss: 0.0042\n",
            "Epoch 11/100\n",
            "34000/34000 [==============================] - 21s 616us/step - loss: 0.0050 - val_loss: 0.0037\n",
            "Epoch 12/100\n",
            "34000/34000 [==============================] - 21s 614us/step - loss: 0.0049 - val_loss: 0.0036\n",
            "Epoch 13/100\n",
            "34000/34000 [==============================] - 21s 614us/step - loss: 0.0048 - val_loss: 0.0036\n",
            "Epoch 14/100\n",
            "34000/34000 [==============================] - 21s 616us/step - loss: 0.0047 - val_loss: 0.0036\n",
            "Epoch 15/100\n",
            "34000/34000 [==============================] - 21s 615us/step - loss: 0.0047 - val_loss: 0.0034\n",
            "Epoch 16/100\n",
            "34000/34000 [==============================] - 21s 614us/step - loss: 0.0046 - val_loss: 0.0035\n",
            "Epoch 17/100\n",
            "34000/34000 [==============================] - 21s 615us/step - loss: 0.0046 - val_loss: 0.0034\n",
            "Epoch 18/100\n",
            "34000/34000 [==============================] - 21s 614us/step - loss: 0.0045 - val_loss: 0.0033\n",
            "Epoch 19/100\n",
            "34000/34000 [==============================] - 21s 615us/step - loss: 0.0045 - val_loss: 0.0032\n",
            "Epoch 20/100\n",
            "34000/34000 [==============================] - 21s 615us/step - loss: 0.0045 - val_loss: 0.0032\n",
            "Epoch 21/100\n",
            "34000/34000 [==============================] - 21s 615us/step - loss: 0.0044 - val_loss: 0.0032\n",
            "Epoch 22/100\n",
            "34000/34000 [==============================] - 21s 615us/step - loss: 0.0043 - val_loss: 0.0030\n",
            "Epoch 23/100\n",
            "34000/34000 [==============================] - 21s 615us/step - loss: 0.0043 - val_loss: 0.0030\n",
            "Epoch 24/100\n",
            "34000/34000 [==============================] - 21s 614us/step - loss: 0.0043 - val_loss: 0.0031\n",
            "Epoch 25/100\n",
            "34000/34000 [==============================] - 21s 615us/step - loss: 0.0042 - val_loss: 0.0031\n",
            "Epoch 26/100\n",
            "34000/34000 [==============================] - 21s 615us/step - loss: 0.0042 - val_loss: 0.0033\n",
            "Epoch 27/100\n",
            "34000/34000 [==============================] - 21s 615us/step - loss: 0.0042 - val_loss: 0.0030\n",
            "Epoch 28/100\n",
            "34000/34000 [==============================] - 21s 615us/step - loss: 0.0042 - val_loss: 0.0030\n",
            "Epoch 29/100\n",
            "34000/34000 [==============================] - 21s 617us/step - loss: 0.0041 - val_loss: 0.0033\n",
            "Epoch 30/100\n",
            "34000/34000 [==============================] - 21s 617us/step - loss: 0.0041 - val_loss: 0.0031\n",
            "Epoch 31/100\n",
            "34000/34000 [==============================] - 21s 615us/step - loss: 0.0041 - val_loss: 0.0031\n",
            "Epoch 32/100\n",
            "34000/34000 [==============================] - 21s 615us/step - loss: 0.0041 - val_loss: 0.0035\n",
            "Epoch 33/100\n",
            "34000/34000 [==============================] - 21s 615us/step - loss: 0.0040 - val_loss: 0.0029\n",
            "Epoch 34/100\n",
            "34000/34000 [==============================] - 21s 615us/step - loss: 0.0040 - val_loss: 0.0030\n",
            "Epoch 35/100\n",
            "34000/34000 [==============================] - 21s 616us/step - loss: 0.0040 - val_loss: 0.0028\n",
            "Epoch 36/100\n",
            "34000/34000 [==============================] - 21s 616us/step - loss: 0.0040 - val_loss: 0.0030\n",
            "Epoch 37/100\n",
            "34000/34000 [==============================] - 21s 614us/step - loss: 0.0040 - val_loss: 0.0030\n",
            "Epoch 38/100\n",
            "34000/34000 [==============================] - 21s 615us/step - loss: 0.0040 - val_loss: 0.0037\n",
            "Epoch 39/100\n",
            "34000/34000 [==============================] - 21s 614us/step - loss: 0.0040 - val_loss: 0.0031\n",
            "Epoch 40/100\n",
            "34000/34000 [==============================] - 21s 616us/step - loss: 0.0039 - val_loss: 0.0030\n",
            "Epoch 41/100\n",
            "34000/34000 [==============================] - 21s 615us/step - loss: 0.0039 - val_loss: 0.0029\n",
            "Epoch 42/100\n",
            "34000/34000 [==============================] - 21s 616us/step - loss: 0.0039 - val_loss: 0.0030\n",
            "Epoch 43/100\n",
            "34000/34000 [==============================] - 21s 614us/step - loss: 0.0039 - val_loss: 0.0028\n",
            "Epoch 44/100\n",
            "34000/34000 [==============================] - 21s 617us/step - loss: 0.0039 - val_loss: 0.0029\n",
            "Epoch 45/100\n",
            "34000/34000 [==============================] - 21s 615us/step - loss: 0.0039 - val_loss: 0.0033\n",
            "Epoch 46/100\n",
            "34000/34000 [==============================] - 21s 616us/step - loss: 0.0038 - val_loss: 0.0029\n",
            "Epoch 47/100\n",
            "34000/34000 [==============================] - 21s 616us/step - loss: 0.0038 - val_loss: 0.0030\n",
            "Epoch 48/100\n",
            "34000/34000 [==============================] - 21s 614us/step - loss: 0.0038 - val_loss: 0.0028\n",
            "Epoch 49/100\n",
            "34000/34000 [==============================] - 21s 615us/step - loss: 0.0038 - val_loss: 0.0029\n",
            "Epoch 50/100\n",
            "34000/34000 [==============================] - 21s 615us/step - loss: 0.0038 - val_loss: 0.0029\n",
            "Epoch 51/100\n",
            "34000/34000 [==============================] - 21s 615us/step - loss: 0.0038 - val_loss: 0.0030\n",
            "Epoch 52/100\n",
            "34000/34000 [==============================] - 21s 615us/step - loss: 0.0038 - val_loss: 0.0031\n",
            "Epoch 53/100\n",
            "34000/34000 [==============================] - 21s 615us/step - loss: 0.0038 - val_loss: 0.0029\n",
            "Epoch 54/100\n",
            "34000/34000 [==============================] - 21s 614us/step - loss: 0.0038 - val_loss: 0.0032\n",
            "Epoch 55/100\n",
            "34000/34000 [==============================] - 21s 614us/step - loss: 0.0037 - val_loss: 0.0028\n",
            "Epoch 56/100\n",
            "34000/34000 [==============================] - 21s 613us/step - loss: 0.0037 - val_loss: 0.0037\n",
            "Epoch 57/100\n",
            "34000/34000 [==============================] - 21s 615us/step - loss: 0.0037 - val_loss: 0.0027\n",
            "Epoch 58/100\n",
            "34000/34000 [==============================] - 21s 614us/step - loss: 0.0037 - val_loss: 0.0029\n",
            "Epoch 59/100\n",
            "34000/34000 [==============================] - 21s 618us/step - loss: 0.0037 - val_loss: 0.0030\n",
            "Epoch 60/100\n",
            "34000/34000 [==============================] - 21s 615us/step - loss: 0.0037 - val_loss: 0.0029\n",
            "Epoch 61/100\n",
            "34000/34000 [==============================] - 21s 613us/step - loss: 0.0037 - val_loss: 0.0031\n",
            "Epoch 62/100\n",
            "34000/34000 [==============================] - 21s 614us/step - loss: 0.0037 - val_loss: 0.0028\n",
            "Epoch 63/100\n",
            "34000/34000 [==============================] - 21s 613us/step - loss: 0.0037 - val_loss: 0.0030\n",
            "Epoch 64/100\n",
            "34000/34000 [==============================] - 21s 615us/step - loss: 0.0037 - val_loss: 0.0027\n",
            "Epoch 65/100\n",
            "34000/34000 [==============================] - 21s 614us/step - loss: 0.0036 - val_loss: 0.0026\n",
            "Epoch 66/100\n",
            "34000/34000 [==============================] - 21s 615us/step - loss: 0.0037 - val_loss: 0.0030\n",
            "Epoch 67/100\n",
            "34000/34000 [==============================] - 21s 614us/step - loss: 0.0036 - val_loss: 0.0030\n",
            "Epoch 68/100\n",
            "34000/34000 [==============================] - 21s 614us/step - loss: 0.0036 - val_loss: 0.0028\n",
            "Epoch 69/100\n",
            "34000/34000 [==============================] - 21s 615us/step - loss: 0.0036 - val_loss: 0.0031\n",
            "Epoch 70/100\n",
            "34000/34000 [==============================] - 21s 614us/step - loss: 0.0036 - val_loss: 0.0029\n",
            "Epoch 71/100\n",
            "34000/34000 [==============================] - 21s 615us/step - loss: 0.0036 - val_loss: 0.0033\n",
            "Epoch 72/100\n",
            "34000/34000 [==============================] - 21s 613us/step - loss: 0.0036 - val_loss: 0.0031\n",
            "Epoch 73/100\n",
            "34000/34000 [==============================] - 21s 615us/step - loss: 0.0036 - val_loss: 0.0030\n",
            "Epoch 74/100\n",
            "34000/34000 [==============================] - 21s 615us/step - loss: 0.0036 - val_loss: 0.0033\n",
            "Epoch 75/100\n",
            "34000/34000 [==============================] - 21s 613us/step - loss: 0.0036 - val_loss: 0.0031\n",
            "Epoch 76/100\n",
            "34000/34000 [==============================] - 21s 615us/step - loss: 0.0036 - val_loss: 0.0033\n",
            "Epoch 77/100\n",
            "34000/34000 [==============================] - 21s 614us/step - loss: 0.0036 - val_loss: 0.0031\n",
            "Epoch 78/100\n",
            "34000/34000 [==============================] - 21s 614us/step - loss: 0.0035 - val_loss: 0.0030\n",
            "Epoch 79/100\n",
            "34000/34000 [==============================] - 21s 615us/step - loss: 0.0036 - val_loss: 0.0030\n",
            "Epoch 80/100\n",
            "34000/34000 [==============================] - 21s 615us/step - loss: 0.0035 - val_loss: 0.0033\n",
            "Epoch 81/100\n",
            "34000/34000 [==============================] - 21s 615us/step - loss: 0.0035 - val_loss: 0.0031\n",
            "Epoch 82/100\n",
            "34000/34000 [==============================] - 21s 615us/step - loss: 0.0035 - val_loss: 0.0034\n",
            "Epoch 83/100\n",
            "34000/34000 [==============================] - 21s 615us/step - loss: 0.0035 - val_loss: 0.0036\n",
            "Epoch 84/100\n",
            "34000/34000 [==============================] - 21s 616us/step - loss: 0.0035 - val_loss: 0.0036\n",
            "Epoch 85/100\n",
            "34000/34000 [==============================] - 21s 614us/step - loss: 0.0035 - val_loss: 0.0034\n",
            "Epoch 86/100\n",
            "34000/34000 [==============================] - 21s 614us/step - loss: 0.0035 - val_loss: 0.0036\n",
            "Epoch 87/100\n",
            "34000/34000 [==============================] - 21s 615us/step - loss: 0.0035 - val_loss: 0.0035\n",
            "Epoch 88/100\n",
            "34000/34000 [==============================] - 21s 615us/step - loss: 0.0035 - val_loss: 0.0036\n",
            "Epoch 89/100\n",
            "34000/34000 [==============================] - 21s 616us/step - loss: 0.0035 - val_loss: 0.0036\n",
            "Epoch 90/100\n",
            "34000/34000 [==============================] - 21s 614us/step - loss: 0.0035 - val_loss: 0.0038\n",
            "Epoch 91/100\n",
            "34000/34000 [==============================] - 21s 614us/step - loss: 0.0035 - val_loss: 0.0036\n",
            "Epoch 92/100\n",
            "34000/34000 [==============================] - 21s 614us/step - loss: 0.0034 - val_loss: 0.0042\n",
            "Epoch 93/100\n",
            "34000/34000 [==============================] - 21s 614us/step - loss: 0.0035 - val_loss: 0.0040\n",
            "Epoch 94/100\n",
            "34000/34000 [==============================] - 21s 616us/step - loss: 0.0034 - val_loss: 0.0039\n",
            "Epoch 95/100\n",
            "34000/34000 [==============================] - 21s 614us/step - loss: 0.0034 - val_loss: 0.0038\n",
            "Epoch 96/100\n",
            "34000/34000 [==============================] - 21s 616us/step - loss: 0.0034 - val_loss: 0.0039\n",
            "Epoch 97/100\n",
            "34000/34000 [==============================] - 21s 615us/step - loss: 0.0034 - val_loss: 0.0039\n",
            "Epoch 98/100\n",
            "34000/34000 [==============================] - 21s 614us/step - loss: 0.0034 - val_loss: 0.0037\n",
            "Epoch 99/100\n",
            "34000/34000 [==============================] - 21s 615us/step - loss: 0.0034 - val_loss: 0.0042\n",
            "Epoch 100/100\n",
            "34000/34000 [==============================] - 21s 614us/step - loss: 0.0034 - val_loss: 0.0043\n"
          ],
          "name": "stdout"
        }
      ]
    },
    {
      "cell_type": "markdown",
      "metadata": {
        "heading_collapsed": true,
        "id": "L15-5pZk-xXt",
        "colab_type": "text"
      },
      "source": [
        "### Train Classifier"
      ]
    },
    {
      "cell_type": "code",
      "metadata": {
        "hidden": true,
        "id": "TWdDpSVn-xXu",
        "colab_type": "code",
        "colab": {}
      },
      "source": [
        "def mini_cnn(inputs):\n",
        "    x = Conv2D(192, 3, activation=\"relu\", padding=\"same\", kernel_regularizer=l2())(inputs)\n",
        "    x = Conv2D(192, 1, activation=\"relu\", padding=\"same\", kernel_regularizer=l2())(x)\n",
        "    x = Conv2D(10, 1, activation=\"relu\", padding=\"same\", kernel_regularizer=l2())(x)\n",
        "    x = Dropout(0.5)(x)\n",
        "    x = GlobalAvgPool2D()(x)\n",
        "    x = Activation(\"softmax\", name=\"classifier_out\")(x)\n",
        "    return x"
      ],
      "execution_count": 0,
      "outputs": []
    },
    {
      "cell_type": "code",
      "metadata": {
        "hidden": true,
        "id": "HbW36Nun-xXz",
        "colab_type": "code",
        "colab": {}
      },
      "source": [
        "inputs = Input(shape=(32, 32, 3))\n",
        "encoded_inputs = encoder(inputs)\n",
        "\n",
        "classifier = Model(inputs, \n",
        "                   outputs=[decoder(encoded_inputs), mini_cnn(encoded_inputs)])"
      ],
      "execution_count": 0,
      "outputs": []
    },
    {
      "cell_type": "code",
      "metadata": {
        "colab_type": "code",
        "hidden": true,
        "id": "Q_5VJ3WgUpVt",
        "colab": {}
      },
      "source": [
        "# Data augmentation\n",
        "datagen = ImageDataGenerator(rotation_range=10,\n",
        "                             width_shift_range=0.1,\n",
        "                             height_shift_range=0.1,\n",
        "                             fill_mode='nearest',\n",
        "                             horizontal_flip=True)\n",
        "y_valids = {\n",
        "          \"autoencoder\": x_val,\n",
        "          \"classifier_out\": y_val}\n",
        "\n",
        "def data_generator(x, y, batch_size):\n",
        "    for x_batch, y_batch in datagen.flow(x, y, batch_size):\n",
        "        yield (x_batch, {\"autoencoder\": x_batch, \"classifier_out\": y_batch})\n",
        "        \n",
        "# Callbacks\n",
        "def lr_schedule(epoch):\n",
        "    lrate = 0.001\n",
        "    if epoch > 50:\n",
        "        lrate = lrate * 0.1\n",
        "    if epoch > 75:\n",
        "        lrate = lrate * 0.5\n",
        "    if epoch > 100:\n",
        "        lrate = lrate * 0.2\n",
        "    return lrate\n",
        "\n",
        "callbacks = [\n",
        "    LearningRateScheduler(lr_schedule),\n",
        "    ModelCheckpoint(\"ep{epoch:02d}-acc{classifier_out_acc:.2f}.h5\", \n",
        "                    verbose=0, save_best_only=True, save_weights_only=False)\n",
        "]"
      ],
      "execution_count": 0,
      "outputs": []
    },
    {
      "cell_type": "code",
      "metadata": {
        "hidden": true,
        "id": "GPn36_VE-xX7",
        "colab_type": "code",
        "colab": {}
      },
      "source": [
        "# initialize with autoencoder trained models\n",
        "for clf_w, autoenc_w in zip(classifier.layers[:9], autoencoder.layers[:9]):\n",
        "    clf_w.set_weights(autoenc_w.get_weights())\n",
        "\n",
        "classifier.compile(\n",
        "    optimizer=RMSprop(lr=1e-3, decay=1e-6), \n",
        "    loss={\"autoencoder\": \"mse\", \"classifier_out\": \"categorical_crossentropy\"}, \n",
        "    loss_weights={\"autoencoder\": 1.0, \"classifier_out\": 2.0}, \n",
        "    metrics={\"classifier_out\": \"accuracy\"}\n",
        ")"
      ],
      "execution_count": 0,
      "outputs": []
    },
    {
      "cell_type": "code",
      "metadata": {
        "id": "2vmYTPqejxP5",
        "colab_type": "code",
        "outputId": "22fd3f19-d6e9-48c3-ef8d-0442b06a0bf0",
        "colab": {
          "base_uri": "https://localhost:8080/",
          "height": 1000
        }
      },
      "source": [
        "batch_size = 64\n",
        "epochs = 125\n",
        "\n",
        "classifier_history = classifier.fit_generator(\n",
        "    data_generator(x_tr, y_tr, batch_size),\n",
        "    steps_per_epoch=len(x_tr)//batch_size,     \n",
        "    epochs=epochs,\n",
        "    validation_data=(x_val, y_valids),\n",
        "    callbacks=callbacks)"
      ],
      "execution_count": 0,
      "outputs": [
        {
          "output_type": "stream",
          "text": [
            "Epoch 1/125\n",
            "625/625 [==============================] - 66s 105ms/step - loss: 1.5652 - autoencoder_loss: 0.0191 - classifier_out_loss: 0.7150 - classifier_out_acc: 0.7635 - val_loss: 1.2039 - val_autoencoder_loss: 0.0194 - val_classifier_out_loss: 0.5305 - val_classifier_out_acc: 0.8329\n",
            "Epoch 2/125\n",
            "625/625 [==============================] - 64s 102ms/step - loss: 1.5208 - autoencoder_loss: 0.0193 - classifier_out_loss: 0.6870 - classifier_out_acc: 0.7743 - val_loss: 1.1406 - val_autoencoder_loss: 0.0196 - val_classifier_out_loss: 0.4963 - val_classifier_out_acc: 0.8408\n",
            "Epoch 3/125\n",
            "625/625 [==============================] - 64s 102ms/step - loss: 1.5226 - autoencoder_loss: 0.0194 - classifier_out_loss: 0.6864 - classifier_out_acc: 0.7745 - val_loss: 1.3232 - val_autoencoder_loss: 0.0196 - val_classifier_out_loss: 0.5863 - val_classifier_out_acc: 0.8064\n",
            "Epoch 4/125\n",
            "625/625 [==============================] - 64s 102ms/step - loss: 1.5052 - autoencoder_loss: 0.0194 - classifier_out_loss: 0.6774 - classifier_out_acc: 0.7765 - val_loss: 1.3078 - val_autoencoder_loss: 0.0198 - val_classifier_out_loss: 0.5793 - val_classifier_out_acc: 0.8131\n",
            "Epoch 5/125\n",
            "625/625 [==============================] - 64s 102ms/step - loss: 1.4779 - autoencoder_loss: 0.0194 - classifier_out_loss: 0.6640 - classifier_out_acc: 0.7828 - val_loss: 1.1959 - val_autoencoder_loss: 0.0239 - val_classifier_out_loss: 0.5207 - val_classifier_out_acc: 0.8315\n",
            "Epoch 6/125\n",
            "625/625 [==============================] - 64s 103ms/step - loss: 1.4708 - autoencoder_loss: 0.0195 - classifier_out_loss: 0.6601 - classifier_out_acc: 0.7820 - val_loss: 1.4000 - val_autoencoder_loss: 0.0213 - val_classifier_out_loss: 0.6244 - val_classifier_out_acc: 0.8090\n",
            "Epoch 7/125\n",
            "625/625 [==============================] - 64s 102ms/step - loss: 1.4770 - autoencoder_loss: 0.0196 - classifier_out_loss: 0.6638 - classifier_out_acc: 0.7817 - val_loss: 1.2308 - val_autoencoder_loss: 0.0199 - val_classifier_out_loss: 0.5407 - val_classifier_out_acc: 0.8280\n",
            "Epoch 8/125\n",
            "625/625 [==============================] - 64s 102ms/step - loss: 1.4607 - autoencoder_loss: 0.0195 - classifier_out_loss: 0.6555 - classifier_out_acc: 0.7857 - val_loss: 1.1408 - val_autoencoder_loss: 0.0202 - val_classifier_out_loss: 0.4957 - val_classifier_out_acc: 0.8398\n",
            "Epoch 9/125\n",
            "625/625 [==============================] - 64s 102ms/step - loss: 1.4634 - autoencoder_loss: 0.0196 - classifier_out_loss: 0.6575 - classifier_out_acc: 0.7836 - val_loss: 1.2182 - val_autoencoder_loss: 0.0207 - val_classifier_out_loss: 0.5347 - val_classifier_out_acc: 0.8291\n",
            "Epoch 10/125\n",
            "625/625 [==============================] - 64s 102ms/step - loss: 1.4523 - autoencoder_loss: 0.0197 - classifier_out_loss: 0.6522 - classifier_out_acc: 0.7861 - val_loss: 1.1200 - val_autoencoder_loss: 0.0195 - val_classifier_out_loss: 0.4869 - val_classifier_out_acc: 0.8454\n",
            "Epoch 11/125\n",
            "625/625 [==============================] - 64s 102ms/step - loss: 1.4354 - autoencoder_loss: 0.0197 - classifier_out_loss: 0.6439 - classifier_out_acc: 0.7873 - val_loss: 1.1640 - val_autoencoder_loss: 0.0211 - val_classifier_out_loss: 0.5070 - val_classifier_out_acc: 0.8346\n",
            "Epoch 12/125\n",
            "625/625 [==============================] - 64s 102ms/step - loss: 1.4286 - autoencoder_loss: 0.0198 - classifier_out_loss: 0.6409 - classifier_out_acc: 0.7886 - val_loss: 1.2272 - val_autoencoder_loss: 0.0193 - val_classifier_out_loss: 0.5413 - val_classifier_out_acc: 0.8277\n",
            "Epoch 13/125\n",
            "625/625 [==============================] - 64s 102ms/step - loss: 1.4204 - autoencoder_loss: 0.0199 - classifier_out_loss: 0.6366 - classifier_out_acc: 0.7923 - val_loss: 1.3273 - val_autoencoder_loss: 0.0217 - val_classifier_out_loss: 0.5906 - val_classifier_out_acc: 0.8171\n",
            "Epoch 14/125\n",
            "625/625 [==============================] - 64s 102ms/step - loss: 1.4036 - autoencoder_loss: 0.0197 - classifier_out_loss: 0.6289 - classifier_out_acc: 0.7943 - val_loss: 1.1442 - val_autoencoder_loss: 0.0225 - val_classifier_out_loss: 0.4979 - val_classifier_out_acc: 0.8417\n",
            "Epoch 15/125\n",
            "625/625 [==============================] - 64s 102ms/step - loss: 1.4056 - autoencoder_loss: 0.0200 - classifier_out_loss: 0.6298 - classifier_out_acc: 0.7941 - val_loss: 1.3234 - val_autoencoder_loss: 0.0213 - val_classifier_out_loss: 0.5888 - val_classifier_out_acc: 0.8162\n",
            "Epoch 16/125\n",
            "625/625 [==============================] - 64s 102ms/step - loss: 1.3911 - autoencoder_loss: 0.0198 - classifier_out_loss: 0.6229 - classifier_out_acc: 0.7957 - val_loss: 1.4282 - val_autoencoder_loss: 0.0209 - val_classifier_out_loss: 0.6410 - val_classifier_out_acc: 0.8053\n",
            "Epoch 17/125\n",
            "625/625 [==============================] - 64s 102ms/step - loss: 1.3961 - autoencoder_loss: 0.0200 - classifier_out_loss: 0.6263 - classifier_out_acc: 0.7961 - val_loss: 1.2233 - val_autoencoder_loss: 0.0217 - val_classifier_out_loss: 0.5399 - val_classifier_out_acc: 0.8243\n",
            "Epoch 18/125\n",
            "625/625 [==============================] - 64s 102ms/step - loss: 1.3858 - autoencoder_loss: 0.0200 - classifier_out_loss: 0.6215 - classifier_out_acc: 0.7966 - val_loss: 1.3013 - val_autoencoder_loss: 0.0220 - val_classifier_out_loss: 0.5781 - val_classifier_out_acc: 0.8213\n",
            "Epoch 19/125\n",
            "625/625 [==============================] - 64s 102ms/step - loss: 1.3753 - autoencoder_loss: 0.0200 - classifier_out_loss: 0.6159 - classifier_out_acc: 0.7973 - val_loss: 1.3732 - val_autoencoder_loss: 0.0231 - val_classifier_out_loss: 0.6135 - val_classifier_out_acc: 0.8119\n",
            "Epoch 20/125\n",
            "625/625 [==============================] - 64s 103ms/step - loss: 1.3689 - autoencoder_loss: 0.0201 - classifier_out_loss: 0.6125 - classifier_out_acc: 0.7987 - val_loss: 1.2221 - val_autoencoder_loss: 0.0206 - val_classifier_out_loss: 0.5397 - val_classifier_out_acc: 0.8287\n",
            "Epoch 21/125\n",
            "625/625 [==============================] - 64s 102ms/step - loss: 1.3632 - autoencoder_loss: 0.0201 - classifier_out_loss: 0.6099 - classifier_out_acc: 0.7991 - val_loss: 1.3534 - val_autoencoder_loss: 0.0227 - val_classifier_out_loss: 0.6039 - val_classifier_out_acc: 0.8158\n",
            "Epoch 22/125\n",
            "625/625 [==============================] - 64s 102ms/step - loss: 1.3611 - autoencoder_loss: 0.0202 - classifier_out_loss: 0.6091 - classifier_out_acc: 0.8003 - val_loss: 1.3157 - val_autoencoder_loss: 0.0202 - val_classifier_out_loss: 0.5871 - val_classifier_out_acc: 0.8190\n",
            "Epoch 23/125\n",
            "625/625 [==============================] - 64s 102ms/step - loss: 1.3599 - autoencoder_loss: 0.0201 - classifier_out_loss: 0.6096 - classifier_out_acc: 0.8028 - val_loss: 1.8091 - val_autoencoder_loss: 0.0233 - val_classifier_out_loss: 0.8337 - val_classifier_out_acc: 0.7739\n",
            "Epoch 24/125\n",
            "625/625 [==============================] - 64s 102ms/step - loss: 1.3441 - autoencoder_loss: 0.0201 - classifier_out_loss: 0.6018 - classifier_out_acc: 0.8005 - val_loss: 1.1497 - val_autoencoder_loss: 0.0219 - val_classifier_out_loss: 0.5038 - val_classifier_out_acc: 0.8432\n",
            "Epoch 25/125\n",
            "625/625 [==============================] - 64s 102ms/step - loss: 1.3372 - autoencoder_loss: 0.0202 - classifier_out_loss: 0.5979 - classifier_out_acc: 0.8042 - val_loss: 1.4162 - val_autoencoder_loss: 0.0260 - val_classifier_out_loss: 0.6341 - val_classifier_out_acc: 0.8064\n",
            "Epoch 26/125\n",
            "625/625 [==============================] - 64s 102ms/step - loss: 1.3349 - autoencoder_loss: 0.0204 - classifier_out_loss: 0.5966 - classifier_out_acc: 0.8054 - val_loss: 1.0969 - val_autoencoder_loss: 0.0233 - val_classifier_out_loss: 0.4767 - val_classifier_out_acc: 0.8483\n",
            "Epoch 27/125\n",
            "625/625 [==============================] - 64s 102ms/step - loss: 1.3308 - autoencoder_loss: 0.0202 - classifier_out_loss: 0.5951 - classifier_out_acc: 0.8062 - val_loss: 1.3901 - val_autoencoder_loss: 0.0222 - val_classifier_out_loss: 0.6237 - val_classifier_out_acc: 0.8115\n",
            "Epoch 28/125\n",
            "625/625 [==============================] - 64s 102ms/step - loss: 1.3229 - autoencoder_loss: 0.0203 - classifier_out_loss: 0.5915 - classifier_out_acc: 0.8093 - val_loss: 1.3057 - val_autoencoder_loss: 0.0199 - val_classifier_out_loss: 0.5835 - val_classifier_out_acc: 0.8190\n",
            "Epoch 29/125\n",
            "625/625 [==============================] - 64s 102ms/step - loss: 1.3130 - autoencoder_loss: 0.0204 - classifier_out_loss: 0.5867 - classifier_out_acc: 0.8069 - val_loss: 1.5353 - val_autoencoder_loss: 0.0240 - val_classifier_out_loss: 0.6966 - val_classifier_out_acc: 0.8014\n",
            "Epoch 30/125\n",
            "625/625 [==============================] - 64s 102ms/step - loss: 1.3071 - autoencoder_loss: 0.0204 - classifier_out_loss: 0.5841 - classifier_out_acc: 0.8079 - val_loss: 1.4652 - val_autoencoder_loss: 0.0203 - val_classifier_out_loss: 0.6630 - val_classifier_out_acc: 0.8097\n",
            "Epoch 31/125\n",
            "625/625 [==============================] - 64s 102ms/step - loss: 1.2987 - autoencoder_loss: 0.0205 - classifier_out_loss: 0.5796 - classifier_out_acc: 0.8094 - val_loss: 1.2328 - val_autoencoder_loss: 0.0217 - val_classifier_out_loss: 0.5460 - val_classifier_out_acc: 0.8242\n",
            "Epoch 32/125\n",
            "625/625 [==============================] - 64s 103ms/step - loss: 1.3024 - autoencoder_loss: 0.0205 - classifier_out_loss: 0.5818 - classifier_out_acc: 0.8105 - val_loss: 1.1329 - val_autoencoder_loss: 0.0249 - val_classifier_out_loss: 0.4955 - val_classifier_out_acc: 0.8444\n",
            "Epoch 33/125\n",
            "625/625 [==============================] - 64s 102ms/step - loss: 1.2872 - autoencoder_loss: 0.0205 - classifier_out_loss: 0.5741 - classifier_out_acc: 0.8130 - val_loss: 1.1363 - val_autoencoder_loss: 0.0223 - val_classifier_out_loss: 0.4975 - val_classifier_out_acc: 0.8455\n",
            "Epoch 34/125\n",
            "625/625 [==============================] - 64s 102ms/step - loss: 1.3019 - autoencoder_loss: 0.0207 - classifier_out_loss: 0.5819 - classifier_out_acc: 0.8125 - val_loss: 1.3515 - val_autoencoder_loss: 0.0226 - val_classifier_out_loss: 0.6061 - val_classifier_out_acc: 0.8183\n",
            "Epoch 35/125\n",
            "625/625 [==============================] - 64s 102ms/step - loss: 1.2861 - autoencoder_loss: 0.0203 - classifier_out_loss: 0.5741 - classifier_out_acc: 0.8120 - val_loss: 1.1877 - val_autoencoder_loss: 0.0211 - val_classifier_out_loss: 0.5245 - val_classifier_out_acc: 0.8325\n",
            "Epoch 36/125\n",
            "625/625 [==============================] - 64s 102ms/step - loss: 1.2742 - autoencoder_loss: 0.0205 - classifier_out_loss: 0.5683 - classifier_out_acc: 0.8141 - val_loss: 1.1168 - val_autoencoder_loss: 0.0212 - val_classifier_out_loss: 0.4898 - val_classifier_out_acc: 0.8462\n",
            "Epoch 37/125\n",
            "625/625 [==============================] - 64s 102ms/step - loss: 1.2769 - autoencoder_loss: 0.0206 - classifier_out_loss: 0.5703 - classifier_out_acc: 0.8154 - val_loss: 1.0233 - val_autoencoder_loss: 0.0200 - val_classifier_out_loss: 0.4433 - val_classifier_out_acc: 0.8602\n",
            "Epoch 38/125\n",
            "625/625 [==============================] - 64s 102ms/step - loss: 1.2845 - autoencoder_loss: 0.0206 - classifier_out_loss: 0.5740 - classifier_out_acc: 0.8131 - val_loss: 1.1431 - val_autoencoder_loss: 0.0211 - val_classifier_out_loss: 0.5032 - val_classifier_out_acc: 0.8433\n",
            "Epoch 39/125\n",
            "625/625 [==============================] - 64s 102ms/step - loss: 1.2788 - autoencoder_loss: 0.0206 - classifier_out_loss: 0.5717 - classifier_out_acc: 0.8135 - val_loss: 1.2080 - val_autoencoder_loss: 0.0205 - val_classifier_out_loss: 0.5354 - val_classifier_out_acc: 0.8327\n",
            "Epoch 40/125\n",
            "625/625 [==============================] - 64s 102ms/step - loss: 1.2597 - autoencoder_loss: 0.0207 - classifier_out_loss: 0.5620 - classifier_out_acc: 0.8168 - val_loss: 1.2076 - val_autoencoder_loss: 0.0235 - val_classifier_out_loss: 0.5343 - val_classifier_out_acc: 0.8342\n",
            "Epoch 41/125\n",
            "625/625 [==============================] - 64s 102ms/step - loss: 1.2643 - autoencoder_loss: 0.0207 - classifier_out_loss: 0.5645 - classifier_out_acc: 0.8152 - val_loss: 1.3120 - val_autoencoder_loss: 0.0215 - val_classifier_out_loss: 0.5890 - val_classifier_out_acc: 0.8245\n",
            "Epoch 42/125\n",
            "625/625 [==============================] - 64s 102ms/step - loss: 1.2543 - autoencoder_loss: 0.0206 - classifier_out_loss: 0.5594 - classifier_out_acc: 0.8188 - val_loss: 1.3862 - val_autoencoder_loss: 0.0257 - val_classifier_out_loss: 0.6230 - val_classifier_out_acc: 0.8142\n",
            "Epoch 43/125\n",
            "625/625 [==============================] - 64s 103ms/step - loss: 1.2593 - autoencoder_loss: 0.0209 - classifier_out_loss: 0.5622 - classifier_out_acc: 0.8170 - val_loss: 1.2230 - val_autoencoder_loss: 0.0209 - val_classifier_out_loss: 0.5437 - val_classifier_out_acc: 0.8317\n",
            "Epoch 44/125\n",
            "625/625 [==============================] - 64s 102ms/step - loss: 1.2566 - autoencoder_loss: 0.0207 - classifier_out_loss: 0.5606 - classifier_out_acc: 0.8171 - val_loss: 1.3023 - val_autoencoder_loss: 0.0217 - val_classifier_out_loss: 0.5831 - val_classifier_out_acc: 0.8203\n",
            "Epoch 45/125\n",
            "625/625 [==============================] - 64s 102ms/step - loss: 1.2686 - autoencoder_loss: 0.0208 - classifier_out_loss: 0.5666 - classifier_out_acc: 0.8149 - val_loss: 1.1235 - val_autoencoder_loss: 0.0222 - val_classifier_out_loss: 0.4942 - val_classifier_out_acc: 0.8447\n",
            "Epoch 46/125\n",
            "625/625 [==============================] - 64s 102ms/step - loss: 1.2452 - autoencoder_loss: 0.0207 - classifier_out_loss: 0.5553 - classifier_out_acc: 0.8195 - val_loss: 1.4698 - val_autoencoder_loss: 0.0208 - val_classifier_out_loss: 0.6676 - val_classifier_out_acc: 0.8086\n",
            "Epoch 47/125\n",
            "625/625 [==============================] - 64s 102ms/step - loss: 1.2436 - autoencoder_loss: 0.0208 - classifier_out_loss: 0.5549 - classifier_out_acc: 0.8192 - val_loss: 1.1209 - val_autoencoder_loss: 0.0226 - val_classifier_out_loss: 0.4931 - val_classifier_out_acc: 0.8450\n",
            "Epoch 48/125\n",
            "625/625 [==============================] - 64s 102ms/step - loss: 1.2369 - autoencoder_loss: 0.0209 - classifier_out_loss: 0.5522 - classifier_out_acc: 0.8198 - val_loss: 1.3579 - val_autoencoder_loss: 0.0243 - val_classifier_out_loss: 0.6107 - val_classifier_out_acc: 0.8226\n",
            "Epoch 49/125\n",
            "625/625 [==============================] - 64s 102ms/step - loss: 1.2269 - autoencoder_loss: 0.0209 - classifier_out_loss: 0.5469 - classifier_out_acc: 0.8196 - val_loss: 0.9972 - val_autoencoder_loss: 0.0221 - val_classifier_out_loss: 0.4317 - val_classifier_out_acc: 0.8670\n",
            "Epoch 50/125\n",
            "625/625 [==============================] - 64s 102ms/step - loss: 1.2455 - autoencoder_loss: 0.0208 - classifier_out_loss: 0.5564 - classifier_out_acc: 0.8199 - val_loss: 1.1130 - val_autoencoder_loss: 0.0211 - val_classifier_out_loss: 0.4905 - val_classifier_out_acc: 0.8504\n",
            "Epoch 51/125\n",
            "625/625 [==============================] - 64s 102ms/step - loss: 1.2206 - autoencoder_loss: 0.0208 - classifier_out_loss: 0.5439 - classifier_out_acc: 0.8213 - val_loss: 1.1657 - val_autoencoder_loss: 0.0234 - val_classifier_out_loss: 0.5154 - val_classifier_out_acc: 0.8364\n",
            "Epoch 52/125\n",
            "625/625 [==============================] - 64s 102ms/step - loss: 1.0268 - autoencoder_loss: 0.0187 - classifier_out_loss: 0.4510 - classifier_out_acc: 0.8508 - val_loss: 0.9425 - val_autoencoder_loss: 0.0197 - val_classifier_out_loss: 0.4099 - val_classifier_out_acc: 0.8695\n",
            "Epoch 53/125\n",
            "625/625 [==============================] - 64s 102ms/step - loss: 0.9658 - autoencoder_loss: 0.0181 - classifier_out_loss: 0.4234 - classifier_out_acc: 0.8604 - val_loss: 0.9336 - val_autoencoder_loss: 0.0191 - val_classifier_out_loss: 0.4077 - val_classifier_out_acc: 0.8722\n",
            "Epoch 54/125\n",
            "625/625 [==============================] - 64s 102ms/step - loss: 0.9654 - autoencoder_loss: 0.0179 - classifier_out_loss: 0.4252 - classifier_out_acc: 0.8599 - val_loss: 0.9744 - val_autoencoder_loss: 0.0190 - val_classifier_out_loss: 0.4300 - val_classifier_out_acc: 0.8657\n",
            "Epoch 55/125\n",
            "625/625 [==============================] - 64s 102ms/step - loss: 0.9541 - autoencoder_loss: 0.0176 - classifier_out_loss: 0.4214 - classifier_out_acc: 0.8619 - val_loss: 0.9416 - val_autoencoder_loss: 0.0185 - val_classifier_out_loss: 0.4155 - val_classifier_out_acc: 0.8701\n",
            "Epoch 56/125\n",
            "625/625 [==============================] - 64s 102ms/step - loss: 0.9453 - autoencoder_loss: 0.0174 - classifier_out_loss: 0.4185 - classifier_out_acc: 0.8624 - val_loss: 0.9383 - val_autoencoder_loss: 0.0183 - val_classifier_out_loss: 0.4152 - val_classifier_out_acc: 0.8718\n",
            "Epoch 57/125\n",
            "625/625 [==============================] - 64s 102ms/step - loss: 0.9372 - autoencoder_loss: 0.0174 - classifier_out_loss: 0.4157 - classifier_out_acc: 0.8619 - val_loss: 0.9318 - val_autoencoder_loss: 0.0181 - val_classifier_out_loss: 0.4132 - val_classifier_out_acc: 0.8706\n",
            "Epoch 58/125\n",
            "625/625 [==============================] - 64s 102ms/step - loss: 0.9357 - autoencoder_loss: 0.0173 - classifier_out_loss: 0.4160 - classifier_out_acc: 0.8617 - val_loss: 0.9083 - val_autoencoder_loss: 0.0180 - val_classifier_out_loss: 0.4024 - val_classifier_out_acc: 0.8752\n",
            "Epoch 59/125\n",
            "625/625 [==============================] - 65s 104ms/step - loss: 0.9221 - autoencoder_loss: 0.0172 - classifier_out_loss: 0.4102 - classifier_out_acc: 0.8648 - val_loss: 0.9528 - val_autoencoder_loss: 0.0184 - val_classifier_out_loss: 0.4252 - val_classifier_out_acc: 0.8688\n",
            "Epoch 60/125\n",
            "625/625 [==============================] - 65s 105ms/step - loss: 0.9267 - autoencoder_loss: 0.0171 - classifier_out_loss: 0.4132 - classifier_out_acc: 0.8635 - val_loss: 0.9011 - val_autoencoder_loss: 0.0181 - val_classifier_out_loss: 0.4003 - val_classifier_out_acc: 0.8749\n",
            "Epoch 61/125\n",
            "625/625 [==============================] - 65s 105ms/step - loss: 0.9220 - autoencoder_loss: 0.0170 - classifier_out_loss: 0.4117 - classifier_out_acc: 0.8640 - val_loss: 0.9078 - val_autoencoder_loss: 0.0184 - val_classifier_out_loss: 0.4042 - val_classifier_out_acc: 0.8729\n",
            "Epoch 62/125\n",
            "625/625 [==============================] - 65s 104ms/step - loss: 0.9164 - autoencoder_loss: 0.0169 - classifier_out_loss: 0.4095 - classifier_out_acc: 0.8641 - val_loss: 0.9291 - val_autoencoder_loss: 0.0181 - val_classifier_out_loss: 0.4155 - val_classifier_out_acc: 0.8716\n",
            "Epoch 63/125\n",
            "625/625 [==============================] - 65s 104ms/step - loss: 0.9227 - autoencoder_loss: 0.0169 - classifier_out_loss: 0.4133 - classifier_out_acc: 0.8646 - val_loss: 0.9399 - val_autoencoder_loss: 0.0178 - val_classifier_out_loss: 0.4217 - val_classifier_out_acc: 0.8696\n",
            "Epoch 64/125\n",
            "625/625 [==============================] - 65s 104ms/step - loss: 0.9096 - autoencoder_loss: 0.0168 - classifier_out_loss: 0.4073 - classifier_out_acc: 0.8671 - val_loss: 0.9124 - val_autoencoder_loss: 0.0176 - val_classifier_out_loss: 0.4085 - val_classifier_out_acc: 0.8725\n",
            "Epoch 65/125\n",
            "625/625 [==============================] - 65s 104ms/step - loss: 0.9174 - autoencoder_loss: 0.0168 - classifier_out_loss: 0.4117 - classifier_out_acc: 0.8657 - val_loss: 0.8776 - val_autoencoder_loss: 0.0187 - val_classifier_out_loss: 0.3910 - val_classifier_out_acc: 0.8748\n",
            "Epoch 66/125\n",
            "625/625 [==============================] - 65s 104ms/step - loss: 0.9068 - autoencoder_loss: 0.0168 - classifier_out_loss: 0.4068 - classifier_out_acc: 0.8661 - val_loss: 0.8842 - val_autoencoder_loss: 0.0178 - val_classifier_out_loss: 0.3952 - val_classifier_out_acc: 0.8758\n",
            "Epoch 67/125\n",
            "625/625 [==============================] - 65s 105ms/step - loss: 0.9033 - autoencoder_loss: 0.0167 - classifier_out_loss: 0.4054 - classifier_out_acc: 0.8665 - val_loss: 0.8836 - val_autoencoder_loss: 0.0175 - val_classifier_out_loss: 0.3954 - val_classifier_out_acc: 0.8753\n",
            "Epoch 68/125\n",
            "625/625 [==============================] - 65s 104ms/step - loss: 0.9011 - autoencoder_loss: 0.0167 - classifier_out_loss: 0.4046 - classifier_out_acc: 0.8674 - val_loss: 0.9273 - val_autoencoder_loss: 0.0175 - val_classifier_out_loss: 0.4175 - val_classifier_out_acc: 0.8707\n",
            "Epoch 69/125\n",
            "625/625 [==============================] - 65s 104ms/step - loss: 0.9100 - autoencoder_loss: 0.0167 - classifier_out_loss: 0.4094 - classifier_out_acc: 0.8643 - val_loss: 0.8844 - val_autoencoder_loss: 0.0181 - val_classifier_out_loss: 0.3959 - val_classifier_out_acc: 0.8770\n",
            "Epoch 70/125\n",
            "625/625 [==============================] - 65s 104ms/step - loss: 0.8998 - autoencoder_loss: 0.0167 - classifier_out_loss: 0.4044 - classifier_out_acc: 0.8662 - val_loss: 0.8890 - val_autoencoder_loss: 0.0176 - val_classifier_out_loss: 0.3987 - val_classifier_out_acc: 0.8747\n",
            "Epoch 71/125\n",
            "625/625 [==============================] - 65s 104ms/step - loss: 0.8901 - autoencoder_loss: 0.0166 - classifier_out_loss: 0.3999 - classifier_out_acc: 0.8712 - val_loss: 0.8918 - val_autoencoder_loss: 0.0177 - val_classifier_out_loss: 0.4003 - val_classifier_out_acc: 0.8737\n",
            "Epoch 72/125\n",
            "625/625 [==============================] - 65s 104ms/step - loss: 0.9069 - autoencoder_loss: 0.0166 - classifier_out_loss: 0.4085 - classifier_out_acc: 0.8654 - val_loss: 0.8890 - val_autoencoder_loss: 0.0181 - val_classifier_out_loss: 0.3990 - val_classifier_out_acc: 0.8750\n",
            "Epoch 73/125\n",
            "625/625 [==============================] - 65s 104ms/step - loss: 0.8992 - autoencoder_loss: 0.0165 - classifier_out_loss: 0.4050 - classifier_out_acc: 0.8683 - val_loss: 0.9200 - val_autoencoder_loss: 0.0176 - val_classifier_out_loss: 0.4148 - val_classifier_out_acc: 0.8711\n",
            "Epoch 74/125\n",
            "625/625 [==============================] - 65s 104ms/step - loss: 0.9043 - autoencoder_loss: 0.0165 - classifier_out_loss: 0.4076 - classifier_out_acc: 0.8667 - val_loss: 0.8776 - val_autoencoder_loss: 0.0172 - val_classifier_out_loss: 0.3941 - val_classifier_out_acc: 0.8770\n",
            "Epoch 75/125\n",
            "625/625 [==============================] - 65s 105ms/step - loss: 0.8932 - autoencoder_loss: 0.0164 - classifier_out_loss: 0.4023 - classifier_out_acc: 0.8681 - val_loss: 0.8898 - val_autoencoder_loss: 0.0177 - val_classifier_out_loss: 0.4001 - val_classifier_out_acc: 0.8750\n",
            "Epoch 76/125\n",
            "625/625 [==============================] - 65s 104ms/step - loss: 0.8868 - autoencoder_loss: 0.0165 - classifier_out_loss: 0.3993 - classifier_out_acc: 0.8673 - val_loss: 0.9064 - val_autoencoder_loss: 0.0174 - val_classifier_out_loss: 0.4087 - val_classifier_out_acc: 0.8721\n",
            "Epoch 77/125\n",
            "625/625 [==============================] - 65s 104ms/step - loss: 0.8722 - autoencoder_loss: 0.0163 - classifier_out_loss: 0.3922 - classifier_out_acc: 0.8709 - val_loss: 0.8644 - val_autoencoder_loss: 0.0173 - val_classifier_out_loss: 0.3879 - val_classifier_out_acc: 0.8776\n",
            "Epoch 78/125\n",
            "625/625 [==============================] - 65s 104ms/step - loss: 0.8780 - autoencoder_loss: 0.0163 - classifier_out_loss: 0.3952 - classifier_out_acc: 0.8699 - val_loss: 0.8700 - val_autoencoder_loss: 0.0172 - val_classifier_out_loss: 0.3908 - val_classifier_out_acc: 0.8765\n",
            "Epoch 79/125\n",
            "625/625 [==============================] - 65s 104ms/step - loss: 0.8745 - autoencoder_loss: 0.0163 - classifier_out_loss: 0.3935 - classifier_out_acc: 0.8706 - val_loss: 0.9069 - val_autoencoder_loss: 0.0170 - val_classifier_out_loss: 0.4095 - val_classifier_out_acc: 0.8723\n",
            "Epoch 80/125\n",
            "625/625 [==============================] - 65s 104ms/step - loss: 0.8763 - autoencoder_loss: 0.0163 - classifier_out_loss: 0.3946 - classifier_out_acc: 0.8708 - val_loss: 0.8874 - val_autoencoder_loss: 0.0173 - val_classifier_out_loss: 0.3997 - val_classifier_out_acc: 0.8748\n",
            "Epoch 81/125\n",
            "625/625 [==============================] - 65s 104ms/step - loss: 0.8614 - autoencoder_loss: 0.0163 - classifier_out_loss: 0.3872 - classifier_out_acc: 0.8724 - val_loss: 0.8847 - val_autoencoder_loss: 0.0172 - val_classifier_out_loss: 0.3985 - val_classifier_out_acc: 0.8762\n",
            "Epoch 82/125\n",
            "625/625 [==============================] - 65s 104ms/step - loss: 0.8723 - autoencoder_loss: 0.0163 - classifier_out_loss: 0.3928 - classifier_out_acc: 0.8720 - val_loss: 0.8808 - val_autoencoder_loss: 0.0174 - val_classifier_out_loss: 0.3965 - val_classifier_out_acc: 0.8757\n",
            "Epoch 83/125\n",
            "625/625 [==============================] - 65s 104ms/step - loss: 0.8733 - autoencoder_loss: 0.0163 - classifier_out_loss: 0.3934 - classifier_out_acc: 0.8703 - val_loss: 0.8833 - val_autoencoder_loss: 0.0170 - val_classifier_out_loss: 0.3981 - val_classifier_out_acc: 0.8758\n",
            "Epoch 84/125\n",
            "625/625 [==============================] - 65s 104ms/step - loss: 0.8690 - autoencoder_loss: 0.0163 - classifier_out_loss: 0.3913 - classifier_out_acc: 0.8721 - val_loss: 0.9017 - val_autoencoder_loss: 0.0173 - val_classifier_out_loss: 0.4071 - val_classifier_out_acc: 0.8732\n",
            "Epoch 85/125\n",
            "625/625 [==============================] - 65s 104ms/step - loss: 0.8682 - autoencoder_loss: 0.0162 - classifier_out_loss: 0.3909 - classifier_out_acc: 0.8713 - val_loss: 0.8785 - val_autoencoder_loss: 0.0171 - val_classifier_out_loss: 0.3957 - val_classifier_out_acc: 0.8740\n",
            "Epoch 86/125\n",
            "625/625 [==============================] - 65s 105ms/step - loss: 0.8665 - autoencoder_loss: 0.0162 - classifier_out_loss: 0.3902 - classifier_out_acc: 0.8703 - val_loss: 0.8766 - val_autoencoder_loss: 0.0170 - val_classifier_out_loss: 0.3950 - val_classifier_out_acc: 0.8756\n",
            "Epoch 87/125\n",
            "625/625 [==============================] - 65s 104ms/step - loss: 0.8695 - autoencoder_loss: 0.0162 - classifier_out_loss: 0.3919 - classifier_out_acc: 0.8729 - val_loss: 0.8600 - val_autoencoder_loss: 0.0172 - val_classifier_out_loss: 0.3866 - val_classifier_out_acc: 0.8795\n",
            "Epoch 88/125\n",
            "625/625 [==============================] - 65s 104ms/step - loss: 0.8682 - autoencoder_loss: 0.0162 - classifier_out_loss: 0.3912 - classifier_out_acc: 0.8713 - val_loss: 0.9004 - val_autoencoder_loss: 0.0172 - val_classifier_out_loss: 0.4069 - val_classifier_out_acc: 0.8739\n",
            "Epoch 89/125\n",
            "625/625 [==============================] - 65s 104ms/step - loss: 0.8636 - autoencoder_loss: 0.0162 - classifier_out_loss: 0.3890 - classifier_out_acc: 0.8721 - val_loss: 0.9054 - val_autoencoder_loss: 0.0175 - val_classifier_out_loss: 0.4093 - val_classifier_out_acc: 0.8749\n",
            "Epoch 90/125\n",
            "625/625 [==============================] - 65s 104ms/step - loss: 0.8629 - autoencoder_loss: 0.0162 - classifier_out_loss: 0.3888 - classifier_out_acc: 0.8729 - val_loss: 0.9026 - val_autoencoder_loss: 0.0170 - val_classifier_out_loss: 0.4083 - val_classifier_out_acc: 0.8714\n",
            "Epoch 91/125\n",
            "625/625 [==============================] - 65s 105ms/step - loss: 0.8622 - autoencoder_loss: 0.0162 - classifier_out_loss: 0.3885 - classifier_out_acc: 0.8731 - val_loss: 0.8709 - val_autoencoder_loss: 0.0171 - val_classifier_out_loss: 0.3924 - val_classifier_out_acc: 0.8772\n",
            "Epoch 92/125\n",
            "625/625 [==============================] - 65s 104ms/step - loss: 0.8673 - autoencoder_loss: 0.0162 - classifier_out_loss: 0.3911 - classifier_out_acc: 0.8710 - val_loss: 0.8990 - val_autoencoder_loss: 0.0168 - val_classifier_out_loss: 0.4066 - val_classifier_out_acc: 0.8743\n",
            "Epoch 93/125\n",
            "625/625 [==============================] - 65s 104ms/step - loss: 0.8712 - autoencoder_loss: 0.0161 - classifier_out_loss: 0.3931 - classifier_out_acc: 0.8690 - val_loss: 0.8966 - val_autoencoder_loss: 0.0172 - val_classifier_out_loss: 0.4053 - val_classifier_out_acc: 0.8739\n",
            "Epoch 94/125\n",
            "625/625 [==============================] - 65s 104ms/step - loss: 0.8662 - autoencoder_loss: 0.0161 - classifier_out_loss: 0.3907 - classifier_out_acc: 0.8705 - val_loss: 0.8776 - val_autoencoder_loss: 0.0170 - val_classifier_out_loss: 0.3959 - val_classifier_out_acc: 0.8757\n",
            "Epoch 95/125\n",
            "625/625 [==============================] - 65s 104ms/step - loss: 0.8631 - autoencoder_loss: 0.0161 - classifier_out_loss: 0.3892 - classifier_out_acc: 0.8707 - val_loss: 0.8940 - val_autoencoder_loss: 0.0169 - val_classifier_out_loss: 0.4042 - val_classifier_out_acc: 0.8727\n",
            "Epoch 96/125\n",
            "625/625 [==============================] - 65s 104ms/step - loss: 0.8624 - autoencoder_loss: 0.0161 - classifier_out_loss: 0.3888 - classifier_out_acc: 0.8721 - val_loss: 0.8984 - val_autoencoder_loss: 0.0168 - val_classifier_out_loss: 0.4065 - val_classifier_out_acc: 0.8737\n",
            "Epoch 97/125\n",
            "625/625 [==============================] - 65s 104ms/step - loss: 0.8609 - autoencoder_loss: 0.0161 - classifier_out_loss: 0.3881 - classifier_out_acc: 0.8725 - val_loss: 0.8926 - val_autoencoder_loss: 0.0168 - val_classifier_out_loss: 0.4036 - val_classifier_out_acc: 0.8741\n",
            "Epoch 98/125\n",
            "625/625 [==============================] - 65s 104ms/step - loss: 0.8593 - autoencoder_loss: 0.0161 - classifier_out_loss: 0.3873 - classifier_out_acc: 0.8719 - val_loss: 0.8652 - val_autoencoder_loss: 0.0171 - val_classifier_out_loss: 0.3898 - val_classifier_out_acc: 0.8771\n",
            "Epoch 99/125\n",
            "625/625 [==============================] - 65s 104ms/step - loss: 0.8595 - autoencoder_loss: 0.0161 - classifier_out_loss: 0.3875 - classifier_out_acc: 0.8734 - val_loss: 0.8772 - val_autoencoder_loss: 0.0170 - val_classifier_out_loss: 0.3959 - val_classifier_out_acc: 0.8760\n",
            "Epoch 100/125\n",
            "625/625 [==============================] - 65s 104ms/step - loss: 0.8601 - autoencoder_loss: 0.0161 - classifier_out_loss: 0.3878 - classifier_out_acc: 0.8708 - val_loss: 0.9252 - val_autoencoder_loss: 0.0170 - val_classifier_out_loss: 0.4200 - val_classifier_out_acc: 0.8695\n",
            "Epoch 101/125\n",
            "625/625 [==============================] - 66s 105ms/step - loss: 0.8673 - autoencoder_loss: 0.0161 - classifier_out_loss: 0.3915 - classifier_out_acc: 0.8731 - val_loss: 0.8615 - val_autoencoder_loss: 0.0169 - val_classifier_out_loss: 0.3881 - val_classifier_out_acc: 0.8787\n",
            "Epoch 102/125\n",
            "625/625 [==============================] - 65s 104ms/step - loss: 0.8601 - autoencoder_loss: 0.0160 - classifier_out_loss: 0.3879 - classifier_out_acc: 0.8731 - val_loss: 0.8808 - val_autoencoder_loss: 0.0170 - val_classifier_out_loss: 0.3978 - val_classifier_out_acc: 0.8746\n",
            "Epoch 103/125\n",
            "625/625 [==============================] - 65s 104ms/step - loss: 0.8572 - autoencoder_loss: 0.0160 - classifier_out_loss: 0.3865 - classifier_out_acc: 0.8744 - val_loss: 0.8660 - val_autoencoder_loss: 0.0170 - val_classifier_out_loss: 0.3904 - val_classifier_out_acc: 0.8791\n",
            "Epoch 104/125\n",
            "625/625 [==============================] - 65s 105ms/step - loss: 0.8394 - autoencoder_loss: 0.0160 - classifier_out_loss: 0.3776 - classifier_out_acc: 0.8763 - val_loss: 0.8758 - val_autoencoder_loss: 0.0168 - val_classifier_out_loss: 0.3954 - val_classifier_out_acc: 0.8759\n",
            "Epoch 105/125\n",
            "625/625 [==============================] - 65s 105ms/step - loss: 0.8552 - autoencoder_loss: 0.0159 - classifier_out_loss: 0.3855 - classifier_out_acc: 0.8731 - val_loss: 0.8646 - val_autoencoder_loss: 0.0168 - val_classifier_out_loss: 0.3898 - val_classifier_out_acc: 0.8781\n",
            "Epoch 106/125\n",
            "625/625 [==============================] - 65s 104ms/step - loss: 0.8570 - autoencoder_loss: 0.0160 - classifier_out_loss: 0.3864 - classifier_out_acc: 0.8727 - val_loss: 0.8728 - val_autoencoder_loss: 0.0169 - val_classifier_out_loss: 0.3939 - val_classifier_out_acc: 0.8765\n",
            "Epoch 107/125\n",
            "625/625 [==============================] - 65s 105ms/step - loss: 0.8460 - autoencoder_loss: 0.0159 - classifier_out_loss: 0.3810 - classifier_out_acc: 0.8748 - val_loss: 0.8668 - val_autoencoder_loss: 0.0169 - val_classifier_out_loss: 0.3909 - val_classifier_out_acc: 0.8776\n",
            "Epoch 108/125\n",
            "625/625 [==============================] - 65s 104ms/step - loss: 0.8592 - autoencoder_loss: 0.0159 - classifier_out_loss: 0.3876 - classifier_out_acc: 0.8723 - val_loss: 0.8742 - val_autoencoder_loss: 0.0169 - val_classifier_out_loss: 0.3946 - val_classifier_out_acc: 0.8775\n",
            "Epoch 109/125\n",
            "625/625 [==============================] - 66s 105ms/step - loss: 0.8413 - autoencoder_loss: 0.0160 - classifier_out_loss: 0.3786 - classifier_out_acc: 0.8763 - val_loss: 0.8722 - val_autoencoder_loss: 0.0169 - val_classifier_out_loss: 0.3936 - val_classifier_out_acc: 0.8777\n",
            "Epoch 110/125\n",
            "625/625 [==============================] - 65s 104ms/step - loss: 0.8485 - autoencoder_loss: 0.0159 - classifier_out_loss: 0.3823 - classifier_out_acc: 0.8758 - val_loss: 0.8917 - val_autoencoder_loss: 0.0168 - val_classifier_out_loss: 0.4034 - val_classifier_out_acc: 0.8746\n",
            "Epoch 111/125\n",
            "625/625 [==============================] - 65s 104ms/step - loss: 0.8523 - autoencoder_loss: 0.0159 - classifier_out_loss: 0.3842 - classifier_out_acc: 0.8741 - val_loss: 0.8654 - val_autoencoder_loss: 0.0170 - val_classifier_out_loss: 0.3902 - val_classifier_out_acc: 0.8776\n",
            "Epoch 112/125\n",
            "625/625 [==============================] - 65s 104ms/step - loss: 0.8487 - autoencoder_loss: 0.0159 - classifier_out_loss: 0.3824 - classifier_out_acc: 0.8740 - val_loss: 0.8739 - val_autoencoder_loss: 0.0169 - val_classifier_out_loss: 0.3945 - val_classifier_out_acc: 0.8766\n",
            "Epoch 113/125\n",
            "625/625 [==============================] - 65s 104ms/step - loss: 0.8409 - autoencoder_loss: 0.0159 - classifier_out_loss: 0.3785 - classifier_out_acc: 0.8756 - val_loss: 0.8736 - val_autoencoder_loss: 0.0169 - val_classifier_out_loss: 0.3943 - val_classifier_out_acc: 0.8774\n",
            "Epoch 114/125\n",
            "625/625 [==============================] - 65s 104ms/step - loss: 0.8539 - autoencoder_loss: 0.0159 - classifier_out_loss: 0.3850 - classifier_out_acc: 0.8747 - val_loss: 0.8843 - val_autoencoder_loss: 0.0168 - val_classifier_out_loss: 0.3998 - val_classifier_out_acc: 0.8752\n",
            "Epoch 115/125\n",
            "625/625 [==============================] - 65s 105ms/step - loss: 0.8554 - autoencoder_loss: 0.0159 - classifier_out_loss: 0.3858 - classifier_out_acc: 0.8742 - val_loss: 0.8774 - val_autoencoder_loss: 0.0169 - val_classifier_out_loss: 0.3963 - val_classifier_out_acc: 0.8759\n",
            "Epoch 116/125\n",
            "625/625 [==============================] - 65s 104ms/step - loss: 0.8380 - autoencoder_loss: 0.0159 - classifier_out_loss: 0.3771 - classifier_out_acc: 0.8769 - val_loss: 0.8721 - val_autoencoder_loss: 0.0168 - val_classifier_out_loss: 0.3937 - val_classifier_out_acc: 0.8771\n",
            "Epoch 117/125\n",
            "625/625 [==============================] - 65s 104ms/step - loss: 0.8476 - autoencoder_loss: 0.0159 - classifier_out_loss: 0.3819 - classifier_out_acc: 0.8739 - val_loss: 0.8835 - val_autoencoder_loss: 0.0168 - val_classifier_out_loss: 0.3994 - val_classifier_out_acc: 0.8751\n",
            "Epoch 118/125\n",
            "625/625 [==============================] - 65s 104ms/step - loss: 0.8494 - autoencoder_loss: 0.0159 - classifier_out_loss: 0.3828 - classifier_out_acc: 0.8755 - val_loss: 0.8695 - val_autoencoder_loss: 0.0168 - val_classifier_out_loss: 0.3924 - val_classifier_out_acc: 0.8765\n",
            "Epoch 119/125\n",
            "625/625 [==============================] - 65s 104ms/step - loss: 0.8446 - autoencoder_loss: 0.0159 - classifier_out_loss: 0.3804 - classifier_out_acc: 0.8753 - val_loss: 0.8711 - val_autoencoder_loss: 0.0167 - val_classifier_out_loss: 0.3933 - val_classifier_out_acc: 0.8768\n",
            "Epoch 120/125\n",
            "625/625 [==============================] - 65s 104ms/step - loss: 0.8563 - autoencoder_loss: 0.0159 - classifier_out_loss: 0.3863 - classifier_out_acc: 0.8726 - val_loss: 0.8795 - val_autoencoder_loss: 0.0168 - val_classifier_out_loss: 0.3975 - val_classifier_out_acc: 0.8763\n",
            "Epoch 121/125\n",
            "625/625 [==============================] - 65s 104ms/step - loss: 0.8574 - autoencoder_loss: 0.0159 - classifier_out_loss: 0.3869 - classifier_out_acc: 0.8721 - val_loss: 0.8671 - val_autoencoder_loss: 0.0168 - val_classifier_out_loss: 0.3913 - val_classifier_out_acc: 0.8766\n",
            "Epoch 122/125\n",
            "625/625 [==============================] - 65s 104ms/step - loss: 0.8359 - autoencoder_loss: 0.0159 - classifier_out_loss: 0.3762 - classifier_out_acc: 0.8774 - val_loss: 0.8695 - val_autoencoder_loss: 0.0168 - val_classifier_out_loss: 0.3925 - val_classifier_out_acc: 0.8773\n",
            "Epoch 123/125\n",
            "625/625 [==============================] - 65s 104ms/step - loss: 0.8438 - autoencoder_loss: 0.0159 - classifier_out_loss: 0.3801 - classifier_out_acc: 0.8754 - val_loss: 0.8755 - val_autoencoder_loss: 0.0167 - val_classifier_out_loss: 0.3955 - val_classifier_out_acc: 0.8771\n",
            "Epoch 124/125\n",
            "625/625 [==============================] - 65s 104ms/step - loss: 0.8568 - autoencoder_loss: 0.0159 - classifier_out_loss: 0.3866 - classifier_out_acc: 0.8717 - val_loss: 0.8691 - val_autoencoder_loss: 0.0169 - val_classifier_out_loss: 0.3923 - val_classifier_out_acc: 0.8773\n",
            "Epoch 125/125\n",
            "625/625 [==============================] - 65s 104ms/step - loss: 0.8505 - autoencoder_loss: 0.0159 - classifier_out_loss: 0.3835 - classifier_out_acc: 0.8737 - val_loss: 0.8802 - val_autoencoder_loss: 0.0168 - val_classifier_out_loss: 0.3978 - val_classifier_out_acc: 0.8756\n"
          ],
          "name": "stdout"
        }
      ]
    },
    {
      "cell_type": "markdown",
      "metadata": {
        "id": "3ZuyTrIZT0LL",
        "colab_type": "text"
      },
      "source": [
        "### Results"
      ]
    },
    {
      "cell_type": "code",
      "metadata": {
        "id": "u3scCCZZKwLb",
        "colab_type": "code",
        "outputId": "bdc25132-3e19-4df3-ad6b-9b4a56a41962",
        "colab": {
          "base_uri": "https://localhost:8080/",
          "height": 281
        }
      },
      "source": [
        "train_loss = classifier_history.history[\"loss\"]\n",
        "val_loss = classifier_history.history[\"val_loss\"]\n",
        "steps = range(len(train_loss))\n",
        "\n",
        "plt.plot(steps, train_loss, 'bo',label=\"training loss\")\n",
        "plt.plot(steps, val_loss, 'b',label = \"validation loss\")\n",
        "plt.legend(loc=\"best\")\n",
        "plt.title(\"training and validation loss of classifier model\")\n",
        "plt.show()"
      ],
      "execution_count": 0,
      "outputs": [
        {
          "output_type": "display_data",
          "data": {
            "image/png": "[encoded data removed]",
            "text/plain": [
              "<Figure size 432x288 with 1 Axes>"
            ]
          },
          "metadata": {
            "tags": []
          }
        }
      ]
    },
    {
      "cell_type": "code",
      "metadata": {
        "id": "F2dvIPmtKwIJ",
        "colab_type": "code",
        "outputId": "752a525c-ee62-4265-b4e5-d27a9dd4dc53",
        "colab": {
          "base_uri": "https://localhost:8080/",
          "height": 281
        }
      },
      "source": [
        "train_loss = classifier_history.history[\"classifier_out_acc\"]\n",
        "val_loss = classifier_history.history[\"val_classifier_out_acc\"]\n",
        "steps = range(len(train_loss))\n",
        "\n",
        "plt.plot(steps, train_loss, 'bo',label=\"training loss\")\n",
        "plt.plot(steps, val_loss, 'b',label = \"validation loss\")\n",
        "plt.legend(loc=\"best\")\n",
        "plt.title(\"training and validation loss of autoencoder model\")\n",
        "plt.show()"
      ],
      "execution_count": 0,
      "outputs": [
        {
          "output_type": "display_data",
          "data": {
            "image/png": "[encoded data removed]",
            "text/plain": [
              "<Figure size 432x288 with 1 Axes>"
            ]
          },
          "metadata": {
            "tags": []
          }
        }
      ]
    },
    {
      "cell_type": "code",
      "metadata": {
        "colab_type": "code",
        "id": "ZcwBoPWzUpU3",
        "colab": {}
      },
      "source": [
        "# function to plot the confusion matrix\n",
        "def plot_confusion_matrix(y_true, y_pred, classes,\n",
        "                          normalize=False,\n",
        "                          title=None,\n",
        "                          cmap=plt.cm.Blues):\n",
        "    \"\"\"\n",
        "    This function prints and plots the confusion matrix.\n",
        "    Normalization can be applied by setting `normalize=True`.\n",
        "    This function is from sklean website\"\"\"\n",
        "    \n",
        "    if not title:\n",
        "        if normalize:\n",
        "            title = 'Normalized confusion matrix'\n",
        "        else:\n",
        "            title = 'Confusion matrix, without normalization'\n",
        "\n",
        "    # Compute confusion matrix\n",
        "    cm = confusion_matrix(y_true, y_pred)\n",
        "    # Only use the labels that appear in the data\n",
        "    classes = classes[unique_labels(y_true, y_pred)]\n",
        "    if normalize:\n",
        "        cm = cm.astype('float') / cm.sum(axis=1)[:, np.newaxis]\n",
        "        print(\"Normalized confusion matrix\")\n",
        "    else:\n",
        "        print('Confusion matrix, without normalization')\n",
        "\n",
        "    print(cm)\n",
        "\n",
        "    fig, ax = plt.subplots(figsize=(13, 8))\n",
        "    im = ax.imshow(cm, interpolation='nearest', cmap=cmap)\n",
        "    ax.figure.colorbar(im, ax=ax)\n",
        "\n",
        "    ax.set(xticks=np.arange(cm.shape[1]),\n",
        "           yticks=np.arange(cm.shape[0]),\n",
        "           xticklabels=classes, yticklabels=classes,\n",
        "           title=title,\n",
        "           ylabel='True label',\n",
        "           xlabel='Predicted label')\n",
        "\n",
        "    # Rotate the tick labels and set their alignment.\n",
        "    plt.setp(ax.get_xticklabels(), rotation=45, ha=\"right\",\n",
        "             rotation_mode=\"anchor\")\n",
        "\n",
        "    # Loop over data dimensions and create text annotations.\n",
        "    fmt = '.2f' if normalize else 'd'\n",
        "    thresh = cm.max() / 2.\n",
        "    for i in range(cm.shape[0]):\n",
        "        for j in range(cm.shape[1]):\n",
        "            ax.text(j, i, format(cm[i, j], fmt),\n",
        "                    ha=\"center\", va=\"center\",\n",
        "                    color=\"white\" if cm[i, j] > thresh else \"black\")\n",
        "    fig.tight_layout()\n",
        "    return ax\n"
      ],
      "execution_count": 0,
      "outputs": []
    },
    {
      "cell_type": "code",
      "metadata": {
        "id": "zQL27rksK9Zf",
        "colab_type": "code",
        "colab": {}
      },
      "source": [
        "_, y_pred = classifier.predict(x_val)\n",
        "y_true = np.argmax(y_val, axis=1)\n",
        "y_pred = np.argmax(y_pred, axis=1)"
      ],
      "execution_count": 0,
      "outputs": []
    },
    {
      "cell_type": "code",
      "metadata": {
        "id": "iBqflEQULPt2",
        "colab_type": "code",
        "outputId": "715fd5b6-067c-492d-f001-04d0516b7a4b",
        "colab": {
          "base_uri": "https://localhost:8080/",
          "height": 793
        }
      },
      "source": [
        "plot_confusion_matrix(y_true, y_pred, classes=np.array(classes), normalize=True,\n",
        "                      title='Normalized confusion matrix')"
      ],
      "execution_count": 0,
      "outputs": [
        {
          "output_type": "stream",
          "text": [
            "Normalized confusion matrix\n",
            "[[0.874 0.007 0.026 0.002 0.006 0.007 0.014 0.021 0.018 0.025]\n",
            " [0.006 0.917 0.003 0.003 0.    0.002 0.007 0.    0.007 0.055]\n",
            " [0.024 0.001 0.837 0.003 0.016 0.047 0.056 0.01  0.001 0.005]\n",
            " [0.015 0.004 0.026 0.605 0.015 0.163 0.112 0.029 0.011 0.02 ]\n",
            " [0.011 0.    0.052 0.006 0.812 0.019 0.05  0.046 0.    0.004]\n",
            " [0.004 0.001 0.009 0.044 0.012 0.841 0.045 0.036 0.004 0.004]\n",
            " [0.004 0.001 0.016 0.008 0.005 0.008 0.95  0.003 0.    0.005]\n",
            " [0.01  0.    0.005 0.012 0.008 0.052 0.009 0.894 0.003 0.007]\n",
            " [0.057 0.02  0.007 0.001 0.001 0.001 0.006 0.005 0.871 0.031]\n",
            " [0.004 0.01  0.003 0.001 0.002 0.002 0.005 0.005 0.002 0.966]]\n"
          ],
          "name": "stdout"
        },
        {
          "output_type": "execute_result",
          "data": {
            "text/plain": [
              "<matplotlib.axes._subplots.AxesSubplot at 0x7fec5ab6ab70>"
            ]
          },
          "metadata": {
            "tags": []
          },
          "execution_count": 55
        },
        {
          "output_type": "display_data",
          "data": {
            "image/png": "[encoded data removed]",
            "text/plain": [
              "<Figure size 936x576 with 2 Axes>"
            ]
          },
          "metadata": {
            "tags": []
          }
        }
      ]
    },
    {
      "cell_type": "markdown",
      "metadata": {
        "heading_collapsed": true,
        "id": "UrrTigUP-xYJ",
        "colab_type": "text"
      },
      "source": [
        "## Test"
      ]
    },
    {
      "cell_type": "markdown",
      "metadata": {
        "id": "Q_8_WnsJU0pW",
        "colab_type": "text"
      },
      "source": [
        "Before using our final model to predict testing data labels, we will train it on whole training data + validation data.<br>\n",
        "in the previous model, the accuracy stagnate at epoch 100.\n",
        "So we will train the model for only 100 epochs instead of 125."
      ]
    },
    {
      "cell_type": "code",
      "metadata": {
        "id": "70svaX4lDAUU",
        "colab_type": "code",
        "colab": {}
      },
      "source": [
        "model_check = ModelCheckpoint(\"model.h5\", \n",
        "                              monitor='classifier_out_acc', \n",
        "                              verbose=0, \n",
        "                              save_best_only=True, \n",
        "                              save_weights_only=False)"
      ],
      "execution_count": 0,
      "outputs": []
    },
    {
      "cell_type": "code",
      "metadata": {
        "id": "pZ2-UNdSoBWX",
        "colab_type": "code",
        "outputId": "2b664778-c6d5-478e-c6e6-e466e96d4c75",
        "colab": {
          "base_uri": "https://localhost:8080/",
          "height": 1000
        }
      },
      "source": [
        "classifier_history = classifier.fit_generator(\n",
        "          data_generator(x_train, y_train, batch_size),\n",
        "          steps_per_epoch=len(x_train)//batch_size,     \n",
        "          epochs=100,\n",
        "          callbacks=[model_check, LearningRateScheduler(lr_schedule)])"
      ],
      "execution_count": 0,
      "outputs": [
        {
          "output_type": "stream",
          "text": [
            "Epoch 1/100\n",
            "665/664 [==============================] - 65s 98ms/step - loss: 1.2186 - autoencoder_loss: 0.0210 - classifier_out_loss: 0.5455 - classifier_out_acc: 0.8224\n",
            "Epoch 2/100\n",
            "665/664 [==============================] - 65s 98ms/step - loss: 1.2163 - autoencoder_loss: 0.0209 - classifier_out_loss: 0.5440 - classifier_out_acc: 0.8249\n",
            "Epoch 3/100\n",
            "665/664 [==============================] - 65s 98ms/step - loss: 1.2169 - autoencoder_loss: 0.0210 - classifier_out_loss: 0.5442 - classifier_out_acc: 0.8231\n",
            "Epoch 4/100\n",
            "665/664 [==============================] - 65s 98ms/step - loss: 1.2039 - autoencoder_loss: 0.0210 - classifier_out_loss: 0.5375 - classifier_out_acc: 0.8228\n",
            "Epoch 5/100\n",
            "665/664 [==============================] - 65s 98ms/step - loss: 1.2112 - autoencoder_loss: 0.0209 - classifier_out_loss: 0.5417 - classifier_out_acc: 0.8220\n",
            "Epoch 6/100\n",
            "665/664 [==============================] - 65s 97ms/step - loss: 1.2078 - autoencoder_loss: 0.0209 - classifier_out_loss: 0.5399 - classifier_out_acc: 0.8238\n",
            "Epoch 7/100\n",
            "665/664 [==============================] - 65s 98ms/step - loss: 1.2063 - autoencoder_loss: 0.0211 - classifier_out_loss: 0.5390 - classifier_out_acc: 0.8239\n",
            "Epoch 8/100\n",
            "665/664 [==============================] - 65s 98ms/step - loss: 1.2012 - autoencoder_loss: 0.0208 - classifier_out_loss: 0.5371 - classifier_out_acc: 0.8241\n",
            "Epoch 9/100\n",
            "665/664 [==============================] - 65s 98ms/step - loss: 1.1843 - autoencoder_loss: 0.0210 - classifier_out_loss: 0.5282 - classifier_out_acc: 0.8272\n",
            "Epoch 10/100\n",
            "665/664 [==============================] - 65s 98ms/step - loss: 1.2011 - autoencoder_loss: 0.0210 - classifier_out_loss: 0.5362 - classifier_out_acc: 0.8255\n",
            "Epoch 11/100\n",
            "665/664 [==============================] - 65s 98ms/step - loss: 1.1945 - autoencoder_loss: 0.0210 - classifier_out_loss: 0.5331 - classifier_out_acc: 0.8246\n",
            "Epoch 12/100\n",
            "665/664 [==============================] - 65s 98ms/step - loss: 1.1879 - autoencoder_loss: 0.0209 - classifier_out_loss: 0.5301 - classifier_out_acc: 0.8270\n",
            "Epoch 13/100\n",
            "665/664 [==============================] - 65s 98ms/step - loss: 1.1938 - autoencoder_loss: 0.0211 - classifier_out_loss: 0.5332 - classifier_out_acc: 0.8276\n",
            "Epoch 14/100\n",
            "665/664 [==============================] - 65s 98ms/step - loss: 1.1931 - autoencoder_loss: 0.0211 - classifier_out_loss: 0.5331 - classifier_out_acc: 0.8248\n",
            "Epoch 15/100\n",
            "665/664 [==============================] - 65s 97ms/step - loss: 1.1810 - autoencoder_loss: 0.0209 - classifier_out_loss: 0.5270 - classifier_out_acc: 0.8277\n",
            "Epoch 16/100\n",
            "665/664 [==============================] - 65s 97ms/step - loss: 1.1736 - autoencoder_loss: 0.0211 - classifier_out_loss: 0.5234 - classifier_out_acc: 0.8299\n",
            "Epoch 17/100\n",
            "665/664 [==============================] - 65s 97ms/step - loss: 1.1664 - autoencoder_loss: 0.0211 - classifier_out_loss: 0.5202 - classifier_out_acc: 0.8329\n",
            "Epoch 18/100\n",
            "665/664 [==============================] - 65s 98ms/step - loss: 1.1894 - autoencoder_loss: 0.0211 - classifier_out_loss: 0.5316 - classifier_out_acc: 0.8271\n",
            "Epoch 19/100\n",
            "665/664 [==============================] - 65s 97ms/step - loss: 1.1581 - autoencoder_loss: 0.0210 - classifier_out_loss: 0.5159 - classifier_out_acc: 0.8308\n",
            "Epoch 20/100\n",
            "665/664 [==============================] - 65s 97ms/step - loss: 1.1798 - autoencoder_loss: 0.0211 - classifier_out_loss: 0.5276 - classifier_out_acc: 0.8289\n",
            "Epoch 21/100\n",
            "665/664 [==============================] - 65s 97ms/step - loss: 1.1604 - autoencoder_loss: 0.0211 - classifier_out_loss: 0.5174 - classifier_out_acc: 0.8315\n",
            "Epoch 22/100\n",
            "665/664 [==============================] - 65s 98ms/step - loss: 1.1800 - autoencoder_loss: 0.0213 - classifier_out_loss: 0.5265 - classifier_out_acc: 0.8279\n",
            "Epoch 23/100\n",
            "665/664 [==============================] - 65s 98ms/step - loss: 1.1598 - autoencoder_loss: 0.0212 - classifier_out_loss: 0.5170 - classifier_out_acc: 0.8326\n",
            "Epoch 24/100\n",
            "665/664 [==============================] - 65s 98ms/step - loss: 1.1591 - autoencoder_loss: 0.0212 - classifier_out_loss: 0.5171 - classifier_out_acc: 0.8315\n",
            "Epoch 25/100\n",
            "665/664 [==============================] - 65s 98ms/step - loss: 1.1758 - autoencoder_loss: 0.0213 - classifier_out_loss: 0.5257 - classifier_out_acc: 0.8282\n",
            "Epoch 26/100\n",
            "665/664 [==============================] - 65s 97ms/step - loss: 1.1498 - autoencoder_loss: 0.0212 - classifier_out_loss: 0.5124 - classifier_out_acc: 0.8333\n",
            "Epoch 27/100\n",
            "665/664 [==============================] - 65s 98ms/step - loss: 0.9766 - autoencoder_loss: 0.0188 - classifier_out_loss: 0.4294 - classifier_out_acc: 0.8584\n",
            "Epoch 28/100\n",
            "665/664 [==============================] - 65s 98ms/step - loss: 0.9389 - autoencoder_loss: 0.0182 - classifier_out_loss: 0.4134 - classifier_out_acc: 0.8672\n",
            "Epoch 29/100\n",
            "665/664 [==============================] - 65s 97ms/step - loss: 0.9061 - autoencoder_loss: 0.0181 - classifier_out_loss: 0.3991 - classifier_out_acc: 0.8687\n",
            "Epoch 30/100\n",
            "665/664 [==============================] - 65s 98ms/step - loss: 0.9199 - autoencoder_loss: 0.0178 - classifier_out_loss: 0.4079 - classifier_out_acc: 0.8665\n",
            "Epoch 31/100\n",
            "665/664 [==============================] - 65s 98ms/step - loss: 0.8978 - autoencoder_loss: 0.0177 - classifier_out_loss: 0.3982 - classifier_out_acc: 0.8679\n",
            "Epoch 32/100\n",
            "665/664 [==============================] - 65s 97ms/step - loss: 0.8860 - autoencoder_loss: 0.0176 - classifier_out_loss: 0.3936 - classifier_out_acc: 0.8716\n",
            "Epoch 33/100\n",
            "665/664 [==============================] - 65s 98ms/step - loss: 0.8949 - autoencoder_loss: 0.0176 - classifier_out_loss: 0.3991 - classifier_out_acc: 0.8699\n",
            "Epoch 34/100\n",
            "665/664 [==============================] - 65s 97ms/step - loss: 0.9014 - autoencoder_loss: 0.0175 - classifier_out_loss: 0.4032 - classifier_out_acc: 0.8680\n",
            "Epoch 35/100\n",
            "665/664 [==============================] - 65s 97ms/step - loss: 0.8895 - autoencoder_loss: 0.0175 - classifier_out_loss: 0.3982 - classifier_out_acc: 0.8692\n",
            "Epoch 36/100\n",
            "665/664 [==============================] - 65s 97ms/step - loss: 0.8749 - autoencoder_loss: 0.0173 - classifier_out_loss: 0.3916 - classifier_out_acc: 0.8710\n",
            "Epoch 37/100\n",
            "665/664 [==============================] - 65s 98ms/step - loss: 0.8925 - autoencoder_loss: 0.0174 - classifier_out_loss: 0.4011 - classifier_out_acc: 0.8671\n",
            "Epoch 38/100\n",
            "665/664 [==============================] - 65s 98ms/step - loss: 0.8698 - autoencoder_loss: 0.0174 - classifier_out_loss: 0.3903 - classifier_out_acc: 0.8721\n",
            "Epoch 39/100\n",
            "665/664 [==============================] - 65s 97ms/step - loss: 0.8838 - autoencoder_loss: 0.0172 - classifier_out_loss: 0.3979 - classifier_out_acc: 0.8688\n",
            "Epoch 40/100\n",
            "665/664 [==============================] - 65s 97ms/step - loss: 0.8778 - autoencoder_loss: 0.0173 - classifier_out_loss: 0.3954 - classifier_out_acc: 0.8695\n",
            "Epoch 41/100\n",
            "665/664 [==============================] - 65s 97ms/step - loss: 0.8584 - autoencoder_loss: 0.0172 - classifier_out_loss: 0.3862 - classifier_out_acc: 0.8742\n",
            "Epoch 42/100\n",
            "665/664 [==============================] - 65s 97ms/step - loss: 0.8590 - autoencoder_loss: 0.0172 - classifier_out_loss: 0.3869 - classifier_out_acc: 0.8712\n",
            "Epoch 43/100\n",
            "665/664 [==============================] - 65s 97ms/step - loss: 0.8690 - autoencoder_loss: 0.0171 - classifier_out_loss: 0.3922 - classifier_out_acc: 0.8705\n",
            "Epoch 44/100\n",
            "665/664 [==============================] - 65s 98ms/step - loss: 0.8544 - autoencoder_loss: 0.0171 - classifier_out_loss: 0.3853 - classifier_out_acc: 0.8733\n",
            "Epoch 45/100\n",
            "665/664 [==============================] - 65s 97ms/step - loss: 0.8792 - autoencoder_loss: 0.0170 - classifier_out_loss: 0.3980 - classifier_out_acc: 0.8705\n",
            "Epoch 46/100\n",
            "665/664 [==============================] - 65s 98ms/step - loss: 0.8592 - autoencoder_loss: 0.0170 - classifier_out_loss: 0.3883 - classifier_out_acc: 0.8728\n",
            "Epoch 47/100\n",
            "665/664 [==============================] - 65s 98ms/step - loss: 0.8464 - autoencoder_loss: 0.0170 - classifier_out_loss: 0.3821 - classifier_out_acc: 0.8734\n",
            "Epoch 48/100\n",
            "665/664 [==============================] - 65s 98ms/step - loss: 0.8600 - autoencoder_loss: 0.0169 - classifier_out_loss: 0.3892 - classifier_out_acc: 0.8736\n",
            "Epoch 49/100\n",
            "665/664 [==============================] - 65s 97ms/step - loss: 0.8620 - autoencoder_loss: 0.0170 - classifier_out_loss: 0.3904 - classifier_out_acc: 0.8734\n",
            "Epoch 50/100\n",
            "665/664 [==============================] - 65s 97ms/step - loss: 0.8491 - autoencoder_loss: 0.0169 - classifier_out_loss: 0.3841 - classifier_out_acc: 0.8734\n",
            "Epoch 51/100\n",
            "665/664 [==============================] - 65s 97ms/step - loss: 0.8541 - autoencoder_loss: 0.0170 - classifier_out_loss: 0.3867 - classifier_out_acc: 0.8717\n",
            "Epoch 52/100\n",
            "665/664 [==============================] - 65s 97ms/step - loss: 0.8419 - autoencoder_loss: 0.0167 - classifier_out_loss: 0.3809 - classifier_out_acc: 0.8748\n",
            "Epoch 53/100\n",
            "665/664 [==============================] - 65s 97ms/step - loss: 0.8400 - autoencoder_loss: 0.0167 - classifier_out_loss: 0.3799 - classifier_out_acc: 0.8738\n",
            "Epoch 54/100\n",
            "665/664 [==============================] - 65s 98ms/step - loss: 0.8333 - autoencoder_loss: 0.0167 - classifier_out_loss: 0.3766 - classifier_out_acc: 0.8764\n",
            "Epoch 55/100\n",
            "665/664 [==============================] - 65s 98ms/step - loss: 0.8249 - autoencoder_loss: 0.0167 - classifier_out_loss: 0.3725 - classifier_out_acc: 0.8781\n",
            "Epoch 56/100\n",
            "665/664 [==============================] - 65s 97ms/step - loss: 0.8314 - autoencoder_loss: 0.0168 - classifier_out_loss: 0.3757 - classifier_out_acc: 0.8776\n",
            "Epoch 57/100\n",
            "665/664 [==============================] - 65s 98ms/step - loss: 0.8386 - autoencoder_loss: 0.0167 - classifier_out_loss: 0.3794 - classifier_out_acc: 0.8742\n",
            "Epoch 58/100\n",
            "665/664 [==============================] - 65s 98ms/step - loss: 0.8156 - autoencoder_loss: 0.0167 - classifier_out_loss: 0.3679 - classifier_out_acc: 0.8789\n",
            "Epoch 59/100\n",
            "665/664 [==============================] - 65s 97ms/step - loss: 0.8231 - autoencoder_loss: 0.0166 - classifier_out_loss: 0.3718 - classifier_out_acc: 0.8776\n",
            "Epoch 60/100\n",
            "665/664 [==============================] - 65s 98ms/step - loss: 0.8284 - autoencoder_loss: 0.0167 - classifier_out_loss: 0.3744 - classifier_out_acc: 0.8773\n",
            "Epoch 61/100\n",
            "665/664 [==============================] - 65s 98ms/step - loss: 0.8193 - autoencoder_loss: 0.0167 - classifier_out_loss: 0.3699 - classifier_out_acc: 0.8786\n",
            "Epoch 62/100\n",
            "665/664 [==============================] - 65s 97ms/step - loss: 0.8302 - autoencoder_loss: 0.0167 - classifier_out_loss: 0.3754 - classifier_out_acc: 0.8757\n",
            "Epoch 63/100\n",
            "665/664 [==============================] - 65s 97ms/step - loss: 0.8211 - autoencoder_loss: 0.0167 - classifier_out_loss: 0.3708 - classifier_out_acc: 0.8774\n",
            "Epoch 64/100\n",
            "665/664 [==============================] - 65s 97ms/step - loss: 0.8317 - autoencoder_loss: 0.0167 - classifier_out_loss: 0.3762 - classifier_out_acc: 0.8774\n",
            "Epoch 65/100\n",
            "665/664 [==============================] - 65s 98ms/step - loss: 0.8353 - autoencoder_loss: 0.0166 - classifier_out_loss: 0.3780 - classifier_out_acc: 0.8760\n",
            "Epoch 66/100\n",
            "665/664 [==============================] - 65s 97ms/step - loss: 0.8392 - autoencoder_loss: 0.0166 - classifier_out_loss: 0.3800 - classifier_out_acc: 0.8759\n",
            "Epoch 67/100\n",
            "665/664 [==============================] - 65s 97ms/step - loss: 0.8266 - autoencoder_loss: 0.0167 - classifier_out_loss: 0.3737 - classifier_out_acc: 0.8775\n",
            "Epoch 68/100\n",
            "665/664 [==============================] - 65s 97ms/step - loss: 0.8266 - autoencoder_loss: 0.0166 - classifier_out_loss: 0.3738 - classifier_out_acc: 0.8771\n",
            "Epoch 69/100\n",
            "665/664 [==============================] - 65s 97ms/step - loss: 0.8277 - autoencoder_loss: 0.0166 - classifier_out_loss: 0.3743 - classifier_out_acc: 0.8770\n",
            "Epoch 70/100\n",
            "665/664 [==============================] - 65s 97ms/step - loss: 0.8214 - autoencoder_loss: 0.0166 - classifier_out_loss: 0.3713 - classifier_out_acc: 0.8784\n",
            "Epoch 71/100\n",
            "665/664 [==============================] - 65s 97ms/step - loss: 0.8328 - autoencoder_loss: 0.0166 - classifier_out_loss: 0.3770 - classifier_out_acc: 0.8766\n",
            "Epoch 72/100\n",
            "665/664 [==============================] - 65s 98ms/step - loss: 0.8278 - autoencoder_loss: 0.0166 - classifier_out_loss: 0.3745 - classifier_out_acc: 0.8776\n",
            "Epoch 73/100\n",
            "665/664 [==============================] - 65s 97ms/step - loss: 0.8159 - autoencoder_loss: 0.0166 - classifier_out_loss: 0.3686 - classifier_out_acc: 0.8791\n",
            "Epoch 74/100\n",
            "665/664 [==============================] - 65s 98ms/step - loss: 0.8270 - autoencoder_loss: 0.0166 - classifier_out_loss: 0.3742 - classifier_out_acc: 0.8772\n",
            "Epoch 75/100\n",
            "665/664 [==============================] - 65s 97ms/step - loss: 0.8218 - autoencoder_loss: 0.0166 - classifier_out_loss: 0.3716 - classifier_out_acc: 0.8774\n",
            "Epoch 76/100\n",
            "665/664 [==============================] - 65s 97ms/step - loss: 0.8246 - autoencoder_loss: 0.0166 - classifier_out_loss: 0.3730 - classifier_out_acc: 0.8765\n",
            "Epoch 77/100\n",
            "665/664 [==============================] - 65s 98ms/step - loss: 0.8286 - autoencoder_loss: 0.0166 - classifier_out_loss: 0.3751 - classifier_out_acc: 0.8775\n",
            "Epoch 78/100\n",
            "665/664 [==============================] - 65s 97ms/step - loss: 0.8103 - autoencoder_loss: 0.0165 - classifier_out_loss: 0.3659 - classifier_out_acc: 0.8787\n",
            "Epoch 79/100\n",
            "665/664 [==============================] - 65s 97ms/step - loss: 0.8240 - autoencoder_loss: 0.0166 - classifier_out_loss: 0.3728 - classifier_out_acc: 0.8759\n",
            "Epoch 80/100\n",
            "665/664 [==============================] - 65s 98ms/step - loss: 0.8208 - autoencoder_loss: 0.0166 - classifier_out_loss: 0.3712 - classifier_out_acc: 0.8784\n",
            "Epoch 81/100\n",
            "665/664 [==============================] - 65s 97ms/step - loss: 0.8237 - autoencoder_loss: 0.0166 - classifier_out_loss: 0.3726 - classifier_out_acc: 0.8770\n",
            "Epoch 82/100\n",
            "665/664 [==============================] - 65s 97ms/step - loss: 0.8277 - autoencoder_loss: 0.0166 - classifier_out_loss: 0.3746 - classifier_out_acc: 0.8768\n",
            "Epoch 83/100\n",
            "665/664 [==============================] - 65s 98ms/step - loss: 0.8230 - autoencoder_loss: 0.0166 - classifier_out_loss: 0.3723 - classifier_out_acc: 0.8773\n",
            "Epoch 84/100\n",
            "665/664 [==============================] - 65s 97ms/step - loss: 0.8192 - autoencoder_loss: 0.0166 - classifier_out_loss: 0.3703 - classifier_out_acc: 0.8797\n",
            "Epoch 85/100\n",
            "665/664 [==============================] - 65s 98ms/step - loss: 0.8209 - autoencoder_loss: 0.0166 - classifier_out_loss: 0.3712 - classifier_out_acc: 0.8783\n",
            "Epoch 86/100\n",
            "665/664 [==============================] - 65s 97ms/step - loss: 0.8281 - autoencoder_loss: 0.0165 - classifier_out_loss: 0.3749 - classifier_out_acc: 0.8777\n",
            "Epoch 87/100\n",
            "665/664 [==============================] - 65s 97ms/step - loss: 0.8265 - autoencoder_loss: 0.0166 - classifier_out_loss: 0.3740 - classifier_out_acc: 0.8770\n",
            "Epoch 88/100\n",
            "665/664 [==============================] - 65s 98ms/step - loss: 0.8336 - autoencoder_loss: 0.0166 - classifier_out_loss: 0.3776 - classifier_out_acc: 0.8755\n",
            "Epoch 89/100\n",
            "665/664 [==============================] - 65s 97ms/step - loss: 0.8281 - autoencoder_loss: 0.0166 - classifier_out_loss: 0.3748 - classifier_out_acc: 0.8751\n",
            "Epoch 90/100\n",
            "665/664 [==============================] - 65s 97ms/step - loss: 0.8244 - autoencoder_loss: 0.0166 - classifier_out_loss: 0.3730 - classifier_out_acc: 0.8762\n",
            "Epoch 91/100\n",
            "665/664 [==============================] - 65s 97ms/step - loss: 0.8288 - autoencoder_loss: 0.0166 - classifier_out_loss: 0.3752 - classifier_out_acc: 0.8762\n",
            "Epoch 92/100\n",
            "665/664 [==============================] - 65s 98ms/step - loss: 0.8359 - autoencoder_loss: 0.0166 - classifier_out_loss: 0.3787 - classifier_out_acc: 0.8776\n",
            "Epoch 93/100\n",
            "665/664 [==============================] - 65s 97ms/step - loss: 0.8242 - autoencoder_loss: 0.0166 - classifier_out_loss: 0.3729 - classifier_out_acc: 0.8776\n",
            "Epoch 94/100\n",
            "665/664 [==============================] - 65s 98ms/step - loss: 0.8293 - autoencoder_loss: 0.0166 - classifier_out_loss: 0.3755 - classifier_out_acc: 0.8763\n",
            "Epoch 95/100\n",
            "665/664 [==============================] - 65s 97ms/step - loss: 0.8311 - autoencoder_loss: 0.0166 - classifier_out_loss: 0.3764 - classifier_out_acc: 0.8768\n",
            "Epoch 96/100\n",
            "665/664 [==============================] - 65s 97ms/step - loss: 0.8144 - autoencoder_loss: 0.0166 - classifier_out_loss: 0.3680 - classifier_out_acc: 0.8796\n",
            "Epoch 97/100\n",
            "665/664 [==============================] - 65s 97ms/step - loss: 0.8222 - autoencoder_loss: 0.0166 - classifier_out_loss: 0.3719 - classifier_out_acc: 0.8785\n",
            "Epoch 98/100\n",
            "665/664 [==============================] - 65s 98ms/step - loss: 0.8195 - autoencoder_loss: 0.0166 - classifier_out_loss: 0.3706 - classifier_out_acc: 0.8774\n",
            "Epoch 99/100\n",
            "665/664 [==============================] - 65s 98ms/step - loss: 0.8318 - autoencoder_loss: 0.0166 - classifier_out_loss: 0.3767 - classifier_out_acc: 0.8774\n",
            "Epoch 100/100\n",
            "665/664 [==============================] - 65s 98ms/step - loss: 0.8227 - autoencoder_loss: 0.0166 - classifier_out_loss: 0.3722 - classifier_out_acc: 0.8782\n"
          ],
          "name": "stdout"
        }
      ]
    },
    {
      "cell_type": "code",
      "metadata": {
        "hidden": true,
        "id": "eIvfEKcomj87",
        "colab_type": "code",
        "outputId": "0e6781a3-6b55-4b88-8c86-098619115dff",
        "colab": {
          "base_uri": "https://localhost:8080/",
          "height": 52
        }
      },
      "source": [
        "y_tests = {\n",
        "        \"autoencoder\": x_test,\n",
        "        \"classifier_out\": y_test}\n",
        "score = final_model.evaluate(x_test, y_tests)\n",
        "print(\"test accuracy : {0:.2f}\".format(score[3]*100))"
      ],
      "execution_count": 0,
      "outputs": [
        {
          "output_type": "stream",
          "text": [
            "10000/10000 [==============================] - 6s 567us/step\n",
            "test accuracy : 85.41\n"
          ],
          "name": "stdout"
        }
      ]
    },
    {
      "cell_type": "code",
      "metadata": {
        "id": "dphp5__1VYIw",
        "colab_type": "code",
        "outputId": "2839d18e-7603-461c-b72c-cfc7eee10d8b",
        "colab": {
          "base_uri": "https://localhost:8080/",
          "height": 793
        }
      },
      "source": [
        "_, y_pred = classifier.predict(y_test)\n",
        "y_true = np.argmax(y_test, axis=1)\n",
        "y_pred = np.argmax(y_pred, axis=1)\n",
        "plot_confusion_matrix(y_true, y_pred, classes=np.array(classes), normalize=True,\n",
        "                      title='Normalized confusion matrix')"
      ],
      "execution_count": 0,
      "outputs": [
        {
          "output_type": "stream",
          "text": [
            "Normalized confusion matrix\n",
            "[[0.936 0.009 0.009 0.001 0.003 0.001 0.009 0.006 0.017 0.009]\n",
            " [0.001 0.988 0.    0.    0.    0.    0.004 0.    0.002 0.005]\n",
            " [0.018 0.001 0.888 0.003 0.014 0.011 0.044 0.013 0.003 0.005]\n",
            " [0.011 0.009 0.009 0.763 0.021 0.067 0.078 0.027 0.01  0.005]\n",
            " [0.005 0.    0.011 0.003 0.911 0.007 0.042 0.02  0.    0.001]\n",
            " [0.004 0.003 0.007 0.044 0.012 0.844 0.046 0.034 0.004 0.002]\n",
            " [0.006 0.    0.004 0.003 0.002 0.001 0.982 0.001 0.001 0.   ]\n",
            " [0.005 0.001 0.003 0.01  0.006 0.02  0.011 0.939 0.003 0.002]\n",
            " [0.016 0.01  0.002 0.001 0.001 0.    0.002 0.002 0.961 0.005]\n",
            " [0.005 0.02  0.002 0.    0.    0.    0.004 0.001 0.002 0.966]]\n"
          ],
          "name": "stdout"
        },
        {
          "output_type": "execute_result",
          "data": {
            "text/plain": [
              "<matplotlib.axes._subplots.AxesSubplot at 0x7fec56d99ef0>"
            ]
          },
          "metadata": {
            "tags": []
          },
          "execution_count": 80
        },
        {
          "output_type": "display_data",
          "data": {
            "image/png": "[encoded data removed]",
            "text/plain": [
              "<Figure size 936x576 with 2 Axes>"
            ]
          },
          "metadata": {
            "tags": []
          }
        }
      ]
    }
  ]
}