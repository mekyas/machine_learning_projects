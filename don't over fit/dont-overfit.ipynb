{
 "cells": [
  {
   "cell_type": "markdown",
   "metadata": {},
   "source": [
    "## Don't overfit\n",
    "This notebook is used to fit data for the don't overfit II competition on Kaggle\n",
    "Make sure to download the data to run it<br>\n",
    "Big thanks to Andrew Lukyanenko for his valuable kernel"
   ]
  },
  {
   "cell_type": "code",
   "execution_count": 2,
   "metadata": {
    "ExecuteTime": {
     "end_time": "2019-06-25T10:34:18.585204Z",
     "start_time": "2019-06-25T10:34:16.925023Z"
    },
    "_cell_guid": "b1076dfc-b9ad-4769-8c92-a6c4dae69d19",
    "_uuid": "8f2839f25d086af736a60e9eeb907d3b93b6e0e5"
   },
   "outputs": [
    {
     "name": "stdout",
     "output_type": "stream",
     "text": [
      "['test.csv', 'train.csv', 'test.csv.zip']\n"
     ]
    },
    {
     "data": {
      "text/html": [
       "        <script type=\"text/javascript\">\n",
       "        window.PlotlyConfig = {MathJaxConfig: 'local'};\n",
       "        if (window.MathJax) {MathJax.Hub.Config({SVG: {font: \"STIX-Web\"}});}\n",
       "        if (typeof require !== 'undefined') {\n",
       "        require.undef(\"plotly\");\n",
       "        requirejs.config({\n",
       "            paths: {\n",
       "                'plotly': ['https://cdn.plot.ly/plotly-latest.min']\n",
       "            }\n",
       "        });\n",
       "        require(['plotly'], function(Plotly) {\n",
       "            window._Plotly = Plotly;\n",
       "        });\n",
       "        }\n",
       "        </script>\n",
       "        "
      ]
     },
     "metadata": {},
     "output_type": "display_data"
    }
   ],
   "source": [
    "import numpy as np # linear algebra\n",
    "import pandas as pd # data processing, CSV file I/O (e.g. pd.read_csv)\n",
    "from IPython.display import clear_output, HTML\n",
    "\n",
    "import os\n",
    "import logging\n",
    "data_path = \"../dataset/dont_over_fit\"\n",
    "print(os.listdir(data_path))\n",
    "\n",
    "from sklearn.model_selection import train_test_split\n",
    "from sklearn.model_selection import StratifiedKFold, RepeatedStratifiedKFold\n",
    "from sklearn.preprocessing import StandardScaler\n",
    "from sklearn.metrics import roc_auc_score\n",
    "from sklearn.model_selection import GridSearchCV\n",
    "from sklearn.linear_model import LogisticRegression\n",
    "\n",
    "from catboost import CatBoostClassifier\n",
    "import xgboost as xgb\n",
    "import lightgbm as lgb\n",
    "\n",
    "import eli5\n",
    "import shap\n",
    "from eli5.sklearn import PermutationImportance\n",
    "from mlxtend.feature_selection import SequentialFeatureSelector as SFS\n",
    "from mlxtend.plotting import plot_sequential_feature_selection as plot_sfs\n",
    "\n",
    "import matplotlib.pyplot as plt\n",
    "from matplotlib.pyplot import figure\n",
    "import seaborn as sns\n",
    "%matplotlib inline\n",
    "import plotly.graph_objs as go\n",
    "import plotly.offline as py\n",
    "from zipfile import ZipFile\n",
    "py.init_notebook_mode(connected=True)\n",
    "\n",
    "# Any results you write to the current directory are saved as output."
   ]
  },
  {
   "cell_type": "code",
   "execution_count": 3,
   "metadata": {
    "ExecuteTime": {
     "end_time": "2019-06-25T10:34:18.621845Z",
     "start_time": "2019-06-25T10:34:18.587713Z"
    }
   },
   "outputs": [
    {
     "data": {
      "text/plain": [
       "(250, 302)"
      ]
     },
     "execution_count": 3,
     "metadata": {},
     "output_type": "execute_result"
    }
   ],
   "source": [
    "train_dataset = pd.read_csv(data_path + \"/train.csv\")\n",
    "train_dataset.shape"
   ]
  },
  {
   "cell_type": "code",
   "execution_count": 4,
   "metadata": {
    "ExecuteTime": {
     "end_time": "2019-06-25T10:34:18.647354Z",
     "start_time": "2019-06-25T10:34:18.623633Z"
    }
   },
   "outputs": [
    {
     "data": {
      "text/html": [
       "<div>\n",
       "<style scoped>\n",
       "    .dataframe tbody tr th:only-of-type {\n",
       "        vertical-align: middle;\n",
       "    }\n",
       "\n",
       "    .dataframe tbody tr th {\n",
       "        vertical-align: top;\n",
       "    }\n",
       "\n",
       "    .dataframe thead th {\n",
       "        text-align: right;\n",
       "    }\n",
       "</style>\n",
       "<table border=\"1\" class=\"dataframe\">\n",
       "  <thead>\n",
       "    <tr style=\"text-align: right;\">\n",
       "      <th></th>\n",
       "      <th>id</th>\n",
       "      <th>target</th>\n",
       "      <th>0</th>\n",
       "      <th>1</th>\n",
       "      <th>2</th>\n",
       "      <th>3</th>\n",
       "      <th>4</th>\n",
       "      <th>5</th>\n",
       "      <th>6</th>\n",
       "      <th>7</th>\n",
       "      <th>...</th>\n",
       "      <th>290</th>\n",
       "      <th>291</th>\n",
       "      <th>292</th>\n",
       "      <th>293</th>\n",
       "      <th>294</th>\n",
       "      <th>295</th>\n",
       "      <th>296</th>\n",
       "      <th>297</th>\n",
       "      <th>298</th>\n",
       "      <th>299</th>\n",
       "    </tr>\n",
       "  </thead>\n",
       "  <tbody>\n",
       "    <tr>\n",
       "      <th>0</th>\n",
       "      <td>0</td>\n",
       "      <td>1.0</td>\n",
       "      <td>-0.098</td>\n",
       "      <td>2.165</td>\n",
       "      <td>0.681</td>\n",
       "      <td>-0.614</td>\n",
       "      <td>1.309</td>\n",
       "      <td>-0.455</td>\n",
       "      <td>-0.236</td>\n",
       "      <td>0.276</td>\n",
       "      <td>...</td>\n",
       "      <td>0.867</td>\n",
       "      <td>1.347</td>\n",
       "      <td>0.504</td>\n",
       "      <td>-0.649</td>\n",
       "      <td>0.672</td>\n",
       "      <td>-2.097</td>\n",
       "      <td>1.051</td>\n",
       "      <td>-0.414</td>\n",
       "      <td>1.038</td>\n",
       "      <td>-1.065</td>\n",
       "    </tr>\n",
       "    <tr>\n",
       "      <th>1</th>\n",
       "      <td>1</td>\n",
       "      <td>0.0</td>\n",
       "      <td>1.081</td>\n",
       "      <td>-0.973</td>\n",
       "      <td>-0.383</td>\n",
       "      <td>0.326</td>\n",
       "      <td>-0.428</td>\n",
       "      <td>0.317</td>\n",
       "      <td>1.172</td>\n",
       "      <td>0.352</td>\n",
       "      <td>...</td>\n",
       "      <td>-0.165</td>\n",
       "      <td>-1.695</td>\n",
       "      <td>-1.257</td>\n",
       "      <td>1.359</td>\n",
       "      <td>-0.808</td>\n",
       "      <td>-1.624</td>\n",
       "      <td>-0.458</td>\n",
       "      <td>-1.099</td>\n",
       "      <td>-0.936</td>\n",
       "      <td>0.973</td>\n",
       "    </tr>\n",
       "    <tr>\n",
       "      <th>2</th>\n",
       "      <td>2</td>\n",
       "      <td>1.0</td>\n",
       "      <td>-0.523</td>\n",
       "      <td>-0.089</td>\n",
       "      <td>-0.348</td>\n",
       "      <td>0.148</td>\n",
       "      <td>-0.022</td>\n",
       "      <td>0.404</td>\n",
       "      <td>-0.023</td>\n",
       "      <td>-0.172</td>\n",
       "      <td>...</td>\n",
       "      <td>0.013</td>\n",
       "      <td>0.263</td>\n",
       "      <td>-1.222</td>\n",
       "      <td>0.726</td>\n",
       "      <td>1.444</td>\n",
       "      <td>-1.165</td>\n",
       "      <td>-1.544</td>\n",
       "      <td>0.004</td>\n",
       "      <td>0.800</td>\n",
       "      <td>-1.211</td>\n",
       "    </tr>\n",
       "    <tr>\n",
       "      <th>3</th>\n",
       "      <td>3</td>\n",
       "      <td>1.0</td>\n",
       "      <td>0.067</td>\n",
       "      <td>-0.021</td>\n",
       "      <td>0.392</td>\n",
       "      <td>-1.637</td>\n",
       "      <td>-0.446</td>\n",
       "      <td>-0.725</td>\n",
       "      <td>-1.035</td>\n",
       "      <td>0.834</td>\n",
       "      <td>...</td>\n",
       "      <td>-0.404</td>\n",
       "      <td>0.640</td>\n",
       "      <td>-0.595</td>\n",
       "      <td>-0.966</td>\n",
       "      <td>0.900</td>\n",
       "      <td>0.467</td>\n",
       "      <td>-0.562</td>\n",
       "      <td>-0.254</td>\n",
       "      <td>-0.533</td>\n",
       "      <td>0.238</td>\n",
       "    </tr>\n",
       "    <tr>\n",
       "      <th>4</th>\n",
       "      <td>4</td>\n",
       "      <td>1.0</td>\n",
       "      <td>2.347</td>\n",
       "      <td>-0.831</td>\n",
       "      <td>0.511</td>\n",
       "      <td>-0.021</td>\n",
       "      <td>1.225</td>\n",
       "      <td>1.594</td>\n",
       "      <td>0.585</td>\n",
       "      <td>1.509</td>\n",
       "      <td>...</td>\n",
       "      <td>0.898</td>\n",
       "      <td>0.134</td>\n",
       "      <td>2.415</td>\n",
       "      <td>-0.996</td>\n",
       "      <td>-1.006</td>\n",
       "      <td>1.378</td>\n",
       "      <td>1.246</td>\n",
       "      <td>1.478</td>\n",
       "      <td>0.428</td>\n",
       "      <td>0.253</td>\n",
       "    </tr>\n",
       "  </tbody>\n",
       "</table>\n",
       "<p>5 rows × 302 columns</p>\n",
       "</div>"
      ],
      "text/plain": [
       "   id  target      0      1      2      3      4      5      6      7  ...    \\\n",
       "0   0     1.0 -0.098  2.165  0.681 -0.614  1.309 -0.455 -0.236  0.276  ...     \n",
       "1   1     0.0  1.081 -0.973 -0.383  0.326 -0.428  0.317  1.172  0.352  ...     \n",
       "2   2     1.0 -0.523 -0.089 -0.348  0.148 -0.022  0.404 -0.023 -0.172  ...     \n",
       "3   3     1.0  0.067 -0.021  0.392 -1.637 -0.446 -0.725 -1.035  0.834  ...     \n",
       "4   4     1.0  2.347 -0.831  0.511 -0.021  1.225  1.594  0.585  1.509  ...     \n",
       "\n",
       "     290    291    292    293    294    295    296    297    298    299  \n",
       "0  0.867  1.347  0.504 -0.649  0.672 -2.097  1.051 -0.414  1.038 -1.065  \n",
       "1 -0.165 -1.695 -1.257  1.359 -0.808 -1.624 -0.458 -1.099 -0.936  0.973  \n",
       "2  0.013  0.263 -1.222  0.726  1.444 -1.165 -1.544  0.004  0.800 -1.211  \n",
       "3 -0.404  0.640 -0.595 -0.966  0.900  0.467 -0.562 -0.254 -0.533  0.238  \n",
       "4  0.898  0.134  2.415 -0.996 -1.006  1.378  1.246  1.478  0.428  0.253  \n",
       "\n",
       "[5 rows x 302 columns]"
      ]
     },
     "execution_count": 4,
     "metadata": {},
     "output_type": "execute_result"
    }
   ],
   "source": [
    "train_dataset.head()"
   ]
  },
  {
   "cell_type": "code",
   "execution_count": 5,
   "metadata": {
    "ExecuteTime": {
     "end_time": "2019-06-25T10:34:19.837101Z",
     "start_time": "2019-06-25T10:34:18.650718Z"
    }
   },
   "outputs": [
    {
     "name": "stdout",
     "output_type": "stream",
     "text": [
      "(19750, 301)\n"
     ]
    },
    {
     "data": {
      "text/html": [
       "<div>\n",
       "<style scoped>\n",
       "    .dataframe tbody tr th:only-of-type {\n",
       "        vertical-align: middle;\n",
       "    }\n",
       "\n",
       "    .dataframe tbody tr th {\n",
       "        vertical-align: top;\n",
       "    }\n",
       "\n",
       "    .dataframe thead th {\n",
       "        text-align: right;\n",
       "    }\n",
       "</style>\n",
       "<table border=\"1\" class=\"dataframe\">\n",
       "  <thead>\n",
       "    <tr style=\"text-align: right;\">\n",
       "      <th></th>\n",
       "      <th>id</th>\n",
       "      <th>0</th>\n",
       "      <th>1</th>\n",
       "      <th>2</th>\n",
       "      <th>3</th>\n",
       "      <th>4</th>\n",
       "      <th>5</th>\n",
       "      <th>6</th>\n",
       "      <th>7</th>\n",
       "      <th>8</th>\n",
       "      <th>...</th>\n",
       "      <th>290</th>\n",
       "      <th>291</th>\n",
       "      <th>292</th>\n",
       "      <th>293</th>\n",
       "      <th>294</th>\n",
       "      <th>295</th>\n",
       "      <th>296</th>\n",
       "      <th>297</th>\n",
       "      <th>298</th>\n",
       "      <th>299</th>\n",
       "    </tr>\n",
       "  </thead>\n",
       "  <tbody>\n",
       "    <tr>\n",
       "      <th>0</th>\n",
       "      <td>250</td>\n",
       "      <td>0.500</td>\n",
       "      <td>-1.033</td>\n",
       "      <td>-1.595</td>\n",
       "      <td>0.309</td>\n",
       "      <td>-0.714</td>\n",
       "      <td>0.502</td>\n",
       "      <td>0.535</td>\n",
       "      <td>-0.129</td>\n",
       "      <td>-0.687</td>\n",
       "      <td>...</td>\n",
       "      <td>-0.088</td>\n",
       "      <td>-2.628</td>\n",
       "      <td>-0.845</td>\n",
       "      <td>2.078</td>\n",
       "      <td>-0.277</td>\n",
       "      <td>2.132</td>\n",
       "      <td>0.609</td>\n",
       "      <td>-0.104</td>\n",
       "      <td>0.312</td>\n",
       "      <td>0.979</td>\n",
       "    </tr>\n",
       "    <tr>\n",
       "      <th>1</th>\n",
       "      <td>251</td>\n",
       "      <td>0.776</td>\n",
       "      <td>0.914</td>\n",
       "      <td>-0.494</td>\n",
       "      <td>1.347</td>\n",
       "      <td>-0.867</td>\n",
       "      <td>0.480</td>\n",
       "      <td>0.578</td>\n",
       "      <td>-0.313</td>\n",
       "      <td>0.203</td>\n",
       "      <td>...</td>\n",
       "      <td>-0.683</td>\n",
       "      <td>-0.066</td>\n",
       "      <td>0.025</td>\n",
       "      <td>0.606</td>\n",
       "      <td>-0.353</td>\n",
       "      <td>-1.133</td>\n",
       "      <td>-3.138</td>\n",
       "      <td>0.281</td>\n",
       "      <td>-0.625</td>\n",
       "      <td>-0.761</td>\n",
       "    </tr>\n",
       "    <tr>\n",
       "      <th>2</th>\n",
       "      <td>252</td>\n",
       "      <td>1.750</td>\n",
       "      <td>0.509</td>\n",
       "      <td>-0.057</td>\n",
       "      <td>0.835</td>\n",
       "      <td>-0.476</td>\n",
       "      <td>1.428</td>\n",
       "      <td>-0.701</td>\n",
       "      <td>-2.009</td>\n",
       "      <td>-1.378</td>\n",
       "      <td>...</td>\n",
       "      <td>-0.094</td>\n",
       "      <td>0.351</td>\n",
       "      <td>-0.607</td>\n",
       "      <td>-0.737</td>\n",
       "      <td>-0.031</td>\n",
       "      <td>0.701</td>\n",
       "      <td>0.976</td>\n",
       "      <td>0.135</td>\n",
       "      <td>-1.327</td>\n",
       "      <td>2.463</td>\n",
       "    </tr>\n",
       "    <tr>\n",
       "      <th>3</th>\n",
       "      <td>253</td>\n",
       "      <td>-0.556</td>\n",
       "      <td>-1.855</td>\n",
       "      <td>-0.682</td>\n",
       "      <td>0.578</td>\n",
       "      <td>1.592</td>\n",
       "      <td>0.512</td>\n",
       "      <td>-1.419</td>\n",
       "      <td>0.722</td>\n",
       "      <td>0.511</td>\n",
       "      <td>...</td>\n",
       "      <td>-0.336</td>\n",
       "      <td>-0.787</td>\n",
       "      <td>0.255</td>\n",
       "      <td>-0.031</td>\n",
       "      <td>-0.836</td>\n",
       "      <td>0.916</td>\n",
       "      <td>2.411</td>\n",
       "      <td>1.053</td>\n",
       "      <td>-1.601</td>\n",
       "      <td>-1.529</td>\n",
       "    </tr>\n",
       "    <tr>\n",
       "      <th>4</th>\n",
       "      <td>254</td>\n",
       "      <td>0.754</td>\n",
       "      <td>-0.245</td>\n",
       "      <td>1.173</td>\n",
       "      <td>-1.623</td>\n",
       "      <td>0.009</td>\n",
       "      <td>0.370</td>\n",
       "      <td>0.781</td>\n",
       "      <td>-1.763</td>\n",
       "      <td>-1.432</td>\n",
       "      <td>...</td>\n",
       "      <td>2.184</td>\n",
       "      <td>-1.090</td>\n",
       "      <td>0.216</td>\n",
       "      <td>1.186</td>\n",
       "      <td>-0.143</td>\n",
       "      <td>0.322</td>\n",
       "      <td>-0.068</td>\n",
       "      <td>-0.156</td>\n",
       "      <td>-1.153</td>\n",
       "      <td>0.825</td>\n",
       "    </tr>\n",
       "  </tbody>\n",
       "</table>\n",
       "<p>5 rows × 301 columns</p>\n",
       "</div>"
      ],
      "text/plain": [
       "    id      0      1      2      3      4      5      6      7      8  ...    \\\n",
       "0  250  0.500 -1.033 -1.595  0.309 -0.714  0.502  0.535 -0.129 -0.687  ...     \n",
       "1  251  0.776  0.914 -0.494  1.347 -0.867  0.480  0.578 -0.313  0.203  ...     \n",
       "2  252  1.750  0.509 -0.057  0.835 -0.476  1.428 -0.701 -2.009 -1.378  ...     \n",
       "3  253 -0.556 -1.855 -0.682  0.578  1.592  0.512 -1.419  0.722  0.511  ...     \n",
       "4  254  0.754 -0.245  1.173 -1.623  0.009  0.370  0.781 -1.763 -1.432  ...     \n",
       "\n",
       "     290    291    292    293    294    295    296    297    298    299  \n",
       "0 -0.088 -2.628 -0.845  2.078 -0.277  2.132  0.609 -0.104  0.312  0.979  \n",
       "1 -0.683 -0.066  0.025  0.606 -0.353 -1.133 -3.138  0.281 -0.625 -0.761  \n",
       "2 -0.094  0.351 -0.607 -0.737 -0.031  0.701  0.976  0.135 -1.327  2.463  \n",
       "3 -0.336 -0.787  0.255 -0.031 -0.836  0.916  2.411  1.053 -1.601 -1.529  \n",
       "4  2.184 -1.090  0.216  1.186 -0.143  0.322 -0.068 -0.156 -1.153  0.825  \n",
       "\n",
       "[5 rows x 301 columns]"
      ]
     },
     "execution_count": 5,
     "metadata": {},
     "output_type": "execute_result"
    }
   ],
   "source": [
    "ZipFile(data_path + \"/test.csv.zip\").extractall(data_path)\n",
    "test = pd.read_csv(data_path+ \"/test.csv\")\n",
    "print(test.shape)\n",
    "test.head()"
   ]
  },
  {
   "cell_type": "code",
   "execution_count": 6,
   "metadata": {
    "ExecuteTime": {
     "end_time": "2019-06-25T10:34:19.845015Z",
     "start_time": "2019-06-25T10:34:19.839545Z"
    }
   },
   "outputs": [
    {
     "data": {
      "text/plain": [
       "0"
      ]
     },
     "execution_count": 6,
     "metadata": {},
     "output_type": "execute_result"
    }
   ],
   "source": [
    "sum(train_dataset.isna().sum())"
   ]
  },
  {
   "cell_type": "code",
   "execution_count": 7,
   "metadata": {
    "ExecuteTime": {
     "end_time": "2019-06-25T10:34:19.851396Z",
     "start_time": "2019-06-25T10:34:19.846493Z"
    }
   },
   "outputs": [
    {
     "data": {
      "text/plain": [
       "1.0    160\n",
       "0.0     90\n",
       "Name: target, dtype: int64"
      ]
     },
     "execution_count": 7,
     "metadata": {},
     "output_type": "execute_result"
    }
   ],
   "source": [
    "train_dataset['target'].value_counts()"
   ]
  },
  {
   "cell_type": "code",
   "execution_count": 8,
   "metadata": {
    "ExecuteTime": {
     "end_time": "2019-06-25T10:34:19.860610Z",
     "start_time": "2019-06-25T10:34:19.852758Z"
    }
   },
   "outputs": [
    {
     "name": "stdout",
     "output_type": "stream",
     "text": [
      "std  0.06351479140973558\n",
      "min  -0.200064\n",
      "max  0.18962799999999988\n"
     ]
    }
   ],
   "source": [
    "print('std ', np.std(np.mean(train_dataset.iloc[:,2:], axis=0)))\n",
    "print('min ', np.min(np.mean(train_dataset.iloc[:,2:], axis=0)))\n",
    "print('max ', np.max(np.mean(train_dataset.iloc[:,2:], axis=0)))"
   ]
  },
  {
   "cell_type": "code",
   "execution_count": 9,
   "metadata": {
    "ExecuteTime": {
     "end_time": "2019-06-25T10:34:19.866791Z",
     "start_time": "2019-06-25T10:34:19.862002Z"
    }
   },
   "outputs": [
    {
     "name": "stderr",
     "output_type": "stream",
     "text": [
      "/home/yas/anaconda3/lib/python3.7/site-packages/sklearn/model_selection/_split.py:2179: FutureWarning:\n",
      "\n",
      "From version 0.21, test_size will always complement train_size unless both are specified.\n",
      "\n"
     ]
    }
   ],
   "source": [
    "train_data, val_data = train_test_split(train_dataset, train_size=0.8, random_state=123)"
   ]
  },
  {
   "cell_type": "code",
   "execution_count": 10,
   "metadata": {
    "ExecuteTime": {
     "end_time": "2019-06-25T10:34:19.877449Z",
     "start_time": "2019-06-25T10:34:19.868265Z"
    }
   },
   "outputs": [
    {
     "data": {
      "text/plain": [
       "1.0    0.80\n",
       "0.0    0.45\n",
       "Name: target, dtype: float64"
      ]
     },
     "execution_count": 10,
     "metadata": {},
     "output_type": "execute_result"
    }
   ],
   "source": [
    "train_dataset[\"target\"].value_counts()/len(train_data)"
   ]
  },
  {
   "cell_type": "code",
   "execution_count": 11,
   "metadata": {
    "ExecuteTime": {
     "end_time": "2019-06-25T10:34:19.881067Z",
     "start_time": "2019-06-25T10:34:19.878830Z"
    }
   },
   "outputs": [],
   "source": [
    "class_weight = {1.0: 0.64, 0.0:0.36}"
   ]
  },
  {
   "cell_type": "code",
   "execution_count": 12,
   "metadata": {
    "ExecuteTime": {
     "end_time": "2019-06-25T10:34:26.834994Z",
     "start_time": "2019-06-25T10:34:19.882542Z"
    }
   },
   "outputs": [
    {
     "data": {
      "text/plain": [
       "<matplotlib.axes._subplots.AxesSubplot at 0x7fe8d55507f0>"
      ]
     },
     "execution_count": 12,
     "metadata": {},
     "output_type": "execute_result"
    },
    {
     "data": {
      "image/png": "[encoded data removed]",
      "text/plain": [
       "<Figure size 936x936 with 2 Axes>"
      ]
     },
     "metadata": {
      "needs_background": "light"
     },
     "output_type": "display_data"
    }
   ],
   "source": [
    "figure(figsize=(13, 13))\n",
    "corr = train_data.corr()\n",
    "sns.heatmap(corr, xticklabels = train_data.columns, yticklabels= train_data.columns)"
   ]
  },
  {
   "cell_type": "code",
   "execution_count": 13,
   "metadata": {
    "ExecuteTime": {
     "end_time": "2019-06-25T10:34:26.897158Z",
     "start_time": "2019-06-25T10:34:26.837170Z"
    }
   },
   "outputs": [],
   "source": [
    "cor = train_data.corr().abs().unstack().sort_values(kind='quicksort').reset_index()"
   ]
  },
  {
   "cell_type": "code",
   "execution_count": 14,
   "metadata": {
    "ExecuteTime": {
     "end_time": "2019-06-25T10:34:26.933391Z",
     "start_time": "2019-06-25T10:34:26.898797Z"
    }
   },
   "outputs": [
    {
     "data": {
      "text/html": [
       "<div>\n",
       "<style scoped>\n",
       "    .dataframe tbody tr th:only-of-type {\n",
       "        vertical-align: middle;\n",
       "    }\n",
       "\n",
       "    .dataframe tbody tr th {\n",
       "        vertical-align: top;\n",
       "    }\n",
       "\n",
       "    .dataframe thead th {\n",
       "        text-align: right;\n",
       "    }\n",
       "</style>\n",
       "<table border=\"1\" class=\"dataframe\">\n",
       "  <thead>\n",
       "    <tr style=\"text-align: right;\">\n",
       "      <th></th>\n",
       "      <th>level_0</th>\n",
       "      <th>level_1</th>\n",
       "      <th>0</th>\n",
       "    </tr>\n",
       "  </thead>\n",
       "  <tbody>\n",
       "    <tr>\n",
       "      <th>90892</th>\n",
       "      <td>122</td>\n",
       "      <td>270</td>\n",
       "      <td>0.257027</td>\n",
       "    </tr>\n",
       "    <tr>\n",
       "      <th>90893</th>\n",
       "      <td>270</td>\n",
       "      <td>122</td>\n",
       "      <td>0.257027</td>\n",
       "    </tr>\n",
       "    <tr>\n",
       "      <th>90894</th>\n",
       "      <td>131</td>\n",
       "      <td>155</td>\n",
       "      <td>0.268666</td>\n",
       "    </tr>\n",
       "    <tr>\n",
       "      <th>90895</th>\n",
       "      <td>155</td>\n",
       "      <td>131</td>\n",
       "      <td>0.268666</td>\n",
       "    </tr>\n",
       "    <tr>\n",
       "      <th>90896</th>\n",
       "      <td>61</td>\n",
       "      <td>63</td>\n",
       "      <td>0.292745</td>\n",
       "    </tr>\n",
       "    <tr>\n",
       "      <th>90897</th>\n",
       "      <td>63</td>\n",
       "      <td>61</td>\n",
       "      <td>0.292745</td>\n",
       "    </tr>\n",
       "    <tr>\n",
       "      <th>90898</th>\n",
       "      <td>target</td>\n",
       "      <td>65</td>\n",
       "      <td>0.336960</td>\n",
       "    </tr>\n",
       "    <tr>\n",
       "      <th>90899</th>\n",
       "      <td>65</td>\n",
       "      <td>target</td>\n",
       "      <td>0.336960</td>\n",
       "    </tr>\n",
       "    <tr>\n",
       "      <th>90900</th>\n",
       "      <td>target</td>\n",
       "      <td>33</td>\n",
       "      <td>0.354839</td>\n",
       "    </tr>\n",
       "    <tr>\n",
       "      <th>90901</th>\n",
       "      <td>33</td>\n",
       "      <td>target</td>\n",
       "      <td>0.354839</td>\n",
       "    </tr>\n",
       "  </tbody>\n",
       "</table>\n",
       "</div>"
      ],
      "text/plain": [
       "      level_0 level_1         0\n",
       "90892     122     270  0.257027\n",
       "90893     270     122  0.257027\n",
       "90894     131     155  0.268666\n",
       "90895     155     131  0.268666\n",
       "90896      61      63  0.292745\n",
       "90897      63      61  0.292745\n",
       "90898  target      65  0.336960\n",
       "90899      65  target  0.336960\n",
       "90900  target      33  0.354839\n",
       "90901      33  target  0.354839"
      ]
     },
     "execution_count": 14,
     "metadata": {},
     "output_type": "execute_result"
    }
   ],
   "source": [
    "cor[cor['level_0'] != cor['level_1']].tail(10)"
   ]
  },
  {
   "cell_type": "code",
   "execution_count": 15,
   "metadata": {
    "ExecuteTime": {
     "end_time": "2019-06-25T10:34:26.939945Z",
     "start_time": "2019-06-25T10:34:26.934975Z"
    }
   },
   "outputs": [],
   "source": [
    "train_label = train_data['target']\n",
    "train_data = train_data.drop(['id','target'], axis=1)\n",
    "val_label = val_data['target']\n",
    "val_data = val_data.drop(['id','target'], axis=1)"
   ]
  },
  {
   "cell_type": "code",
   "execution_count": 16,
   "metadata": {
    "ExecuteTime": {
     "end_time": "2019-06-25T10:34:26.946247Z",
     "start_time": "2019-06-25T10:34:26.942385Z"
    }
   },
   "outputs": [],
   "source": [
    "folds = StratifiedKFold(n_splits = 20, shuffle = True, random_state= 10)\n",
    "repeatedfolds = RepeatedStratifiedKFold(n_splits = 20, n_repeats = 20)"
   ]
  },
  {
   "cell_type": "code",
   "execution_count": 17,
   "metadata": {
    "ExecuteTime": {
     "end_time": "2019-06-25T10:34:26.956805Z",
     "start_time": "2019-06-25T10:34:26.949006Z"
    }
   },
   "outputs": [],
   "source": [
    "\n",
    "sd_sc = StandardScaler()\n",
    "train_data = sd_sc.fit_transform(train_data)\n",
    "val_data = sd_sc.transform(val_data)"
   ]
  },
  {
   "cell_type": "code",
   "execution_count": 18,
   "metadata": {
    "ExecuteTime": {
     "end_time": "2019-06-25T10:34:26.960601Z",
     "start_time": "2019-06-25T10:34:26.958319Z"
    }
   },
   "outputs": [],
   "source": [
    "val_label = val_label.values\n",
    "train_label = train_label.values"
   ]
  },
  {
   "cell_type": "code",
   "execution_count": 19,
   "metadata": {
    "ExecuteTime": {
     "end_time": "2019-06-25T10:34:26.980143Z",
     "start_time": "2019-06-25T10:34:26.965795Z"
    }
   },
   "outputs": [],
   "source": [
    "def train_model(train, label, test, params, folds=folds, model_type='sklearn', model= None, averaging='usual'):\n",
    "    oof = np.zeros(len(train))\n",
    "    prediction = np.zeros(len(test))\n",
    "    scores = []\n",
    "    for fold_n, (train_idx, test_idx) in enumerate(folds.split(train, label)):\n",
    "        x_train, x_val = train[train_idx], train[test_idx]\n",
    "        y_train, y_val = label[train_idx], label[test_idx]\n",
    "        if model_type == 'cat':\n",
    "            cat = CatBoostClassifier(iterations=2000, eval_metric='AUC', **params)\n",
    "            cat.fit(x_train, y_train, cat_features=[], eval_set=(x_val, y_val), use_best_model=True)\n",
    "            y_val_pred = cat.predict(x_val)\n",
    "            y_pred = cat.predict(test)\n",
    "        if model_type == 'xgb':\n",
    "            dtrain = xgb.DMatrix(x_train, label= y_train, feature_names=x_train.columns)\n",
    "            dval = xgb.DMatrix(x_val, label = y_val, feature_names=x_train.columns)\n",
    "            dtest = xgb.DMatrix(test, feature_names=x_train.columns)\n",
    "            evallist = [(dval, 'test'), (dtrain, 'train')]\n",
    "            model = xgb.train(params, dtrain, num_round=2000, evals=evallist, early_stopping_rounds=200)\n",
    "            y_val_pred = model.predict(xgb.DMatrix(x_val, feature_names=x_train.columns),\n",
    "                                       ntree_limit = model.best_ntree_limit)\n",
    "            y_pred = model.predict(dtest, ntree_limit = model.best_ntree_limit)\n",
    "        if model_type == 'lgb':\n",
    "            dtrain = lgb.Dataset(x_train, y_train)\n",
    "            dval = lgb.Dataset(x_val, y_val)\n",
    "            model = lgb.train(params, dtrain,num_boost_round=2000, valid_sets=[dtrain, dval], early_stopping_rounds=200)\n",
    "            y_val_pred = model.predict(dval)\n",
    "            y_pred = model.predict(test, num_iteration= model.best_iteration_)\n",
    "        if model_type == 'sklearn':\n",
    "            model.fit(x_train, y_train)\n",
    "            y_val_pred = model.predict(x_val).reshape(-1,)\n",
    "            y_pred = model.predict_proba(test)[:,1]\n",
    "        scores.append(roc_auc_score(y_val, y_val_pred))\n",
    "        oof[test_idx] = y_val_pred.reshape(-1,)\n",
    "        if averaging == 'usual':\n",
    "            prediction += y_pred\n",
    "        else:\n",
    "            prediction += pd.Series(y_pred).rank().values()\n",
    "    prediction /= fold_n\n",
    "    clear_output()\n",
    "    print('CV mean score: {0:.4f}, std: {1:.4f}.'.format(np.mean(scores), np.std(scores)))\n",
    "    return oof, scores, prediction"
   ]
  },
  {
   "cell_type": "code",
   "execution_count": 20,
   "metadata": {
    "ExecuteTime": {
     "end_time": "2019-06-25T10:34:27.231661Z",
     "start_time": "2019-06-25T10:34:26.985264Z"
    }
   },
   "outputs": [
    {
     "name": "stdout",
     "output_type": "stream",
     "text": [
      "CV mean score: 0.7101, std: 0.1199.\n"
     ]
    }
   ],
   "source": [
    "model = LogisticRegression(class_weight='balanced', penalty='l1', C=0.1, solver='liblinear')\n",
    "oof, score, predition = train_model(train_data, train_label, val_data, params=None, model= model)"
   ]
  },
  {
   "cell_type": "code",
   "execution_count": 21,
   "metadata": {
    "ExecuteTime": {
     "end_time": "2019-06-25T10:35:08.981814Z",
     "start_time": "2019-06-25T10:34:27.234508Z"
    },
    "scrolled": true
   },
   "outputs": [
    {
     "name": "stdout",
     "output_type": "stream",
     "text": [
      "CV mean score: 0.5554, std: 0.0932.\n"
     ]
    }
   ],
   "source": [
    "parameters = {\"learning_rate\":0.02, \"depth\":5, \"early_stopping_rounds\":20}\n",
    "oof2, score2, predition2 = train_model(train_data, train_label, val_data, parameters, model_type='cat')"
   ]
  },
  {
   "cell_type": "code",
   "execution_count": 22,
   "metadata": {
    "ExecuteTime": {
     "end_time": "2019-06-25T10:35:11.871147Z",
     "start_time": "2019-06-25T10:35:08.983908Z"
    }
   },
   "outputs": [
    {
     "name": "stdout",
     "output_type": "stream",
     "text": [
      "0:\ttotal: 18.1ms\tremaining: 3.6s\n",
      "1:\ttotal: 30.9ms\tremaining: 3.06s\n",
      "2:\ttotal: 43.4ms\tremaining: 2.85s\n",
      "3:\ttotal: 58.9ms\tremaining: 2.89s\n",
      "4:\ttotal: 73.5ms\tremaining: 2.87s\n",
      "5:\ttotal: 86.3ms\tremaining: 2.79s\n",
      "6:\ttotal: 99.1ms\tremaining: 2.73s\n",
      "7:\ttotal: 115ms\tremaining: 2.76s\n",
      "8:\ttotal: 130ms\tremaining: 2.77s\n",
      "9:\ttotal: 147ms\tremaining: 2.79s\n",
      "10:\ttotal: 161ms\tremaining: 2.76s\n",
      "11:\ttotal: 173ms\tremaining: 2.71s\n",
      "12:\ttotal: 186ms\tremaining: 2.68s\n",
      "13:\ttotal: 203ms\tremaining: 2.69s\n",
      "14:\ttotal: 218ms\tremaining: 2.68s\n",
      "15:\ttotal: 233ms\tremaining: 2.68s\n",
      "16:\ttotal: 251ms\tremaining: 2.7s\n",
      "17:\ttotal: 264ms\tremaining: 2.67s\n",
      "18:\ttotal: 277ms\tremaining: 2.63s\n",
      "19:\ttotal: 289ms\tremaining: 2.6s\n",
      "20:\ttotal: 301ms\tremaining: 2.56s\n",
      "21:\ttotal: 313ms\tremaining: 2.53s\n",
      "22:\ttotal: 329ms\tremaining: 2.53s\n",
      "23:\ttotal: 354ms\tremaining: 2.59s\n",
      "24:\ttotal: 368ms\tremaining: 2.57s\n",
      "25:\ttotal: 380ms\tremaining: 2.54s\n",
      "26:\ttotal: 392ms\tremaining: 2.51s\n",
      "27:\ttotal: 405ms\tremaining: 2.48s\n",
      "28:\ttotal: 420ms\tremaining: 2.48s\n",
      "29:\ttotal: 435ms\tremaining: 2.46s\n",
      "30:\ttotal: 449ms\tremaining: 2.45s\n",
      "31:\ttotal: 466ms\tremaining: 2.44s\n",
      "32:\ttotal: 478ms\tremaining: 2.42s\n",
      "33:\ttotal: 491ms\tremaining: 2.4s\n",
      "34:\ttotal: 502ms\tremaining: 2.37s\n",
      "35:\ttotal: 515ms\tremaining: 2.35s\n",
      "36:\ttotal: 527ms\tremaining: 2.32s\n",
      "37:\ttotal: 543ms\tremaining: 2.31s\n",
      "38:\ttotal: 557ms\tremaining: 2.3s\n",
      "39:\ttotal: 569ms\tremaining: 2.28s\n",
      "40:\ttotal: 584ms\tremaining: 2.26s\n",
      "41:\ttotal: 597ms\tremaining: 2.25s\n",
      "42:\ttotal: 609ms\tremaining: 2.22s\n",
      "43:\ttotal: 624ms\tremaining: 2.21s\n",
      "44:\ttotal: 637ms\tremaining: 2.19s\n",
      "45:\ttotal: 654ms\tremaining: 2.19s\n",
      "46:\ttotal: 667ms\tremaining: 2.17s\n",
      "47:\ttotal: 679ms\tremaining: 2.15s\n",
      "48:\ttotal: 692ms\tremaining: 2.13s\n",
      "49:\ttotal: 704ms\tremaining: 2.11s\n",
      "50:\ttotal: 717ms\tremaining: 2.09s\n",
      "51:\ttotal: 733ms\tremaining: 2.08s\n",
      "52:\ttotal: 752ms\tremaining: 2.09s\n",
      "53:\ttotal: 765ms\tremaining: 2.07s\n",
      "54:\ttotal: 778ms\tremaining: 2.05s\n",
      "55:\ttotal: 790ms\tremaining: 2.03s\n",
      "56:\ttotal: 802ms\tremaining: 2.01s\n",
      "57:\ttotal: 814ms\tremaining: 1.99s\n",
      "58:\ttotal: 827ms\tremaining: 1.98s\n",
      "59:\ttotal: 846ms\tremaining: 1.97s\n",
      "60:\ttotal: 860ms\tremaining: 1.96s\n",
      "61:\ttotal: 872ms\tremaining: 1.94s\n",
      "62:\ttotal: 884ms\tremaining: 1.92s\n",
      "63:\ttotal: 897ms\tremaining: 1.91s\n",
      "64:\ttotal: 909ms\tremaining: 1.89s\n",
      "65:\ttotal: 922ms\tremaining: 1.87s\n",
      "66:\ttotal: 934ms\tremaining: 1.85s\n",
      "67:\ttotal: 947ms\tremaining: 1.84s\n",
      "68:\ttotal: 964ms\tremaining: 1.83s\n",
      "69:\ttotal: 981ms\tremaining: 1.82s\n",
      "70:\ttotal: 993ms\tremaining: 1.8s\n",
      "71:\ttotal: 1.01s\tremaining: 1.79s\n",
      "72:\ttotal: 1.02s\tremaining: 1.77s\n",
      "73:\ttotal: 1.03s\tremaining: 1.76s\n",
      "74:\ttotal: 1.05s\tremaining: 1.76s\n",
      "75:\ttotal: 1.07s\tremaining: 1.74s\n",
      "76:\ttotal: 1.08s\tremaining: 1.73s\n",
      "77:\ttotal: 1.09s\tremaining: 1.71s\n",
      "78:\ttotal: 1.1s\tremaining: 1.69s\n",
      "79:\ttotal: 1.12s\tremaining: 1.68s\n",
      "80:\ttotal: 1.13s\tremaining: 1.66s\n",
      "81:\ttotal: 1.14s\tremaining: 1.65s\n",
      "82:\ttotal: 1.16s\tremaining: 1.64s\n",
      "83:\ttotal: 1.18s\tremaining: 1.62s\n",
      "84:\ttotal: 1.19s\tremaining: 1.61s\n",
      "85:\ttotal: 1.2s\tremaining: 1.59s\n",
      "86:\ttotal: 1.21s\tremaining: 1.57s\n",
      "87:\ttotal: 1.23s\tremaining: 1.56s\n",
      "88:\ttotal: 1.24s\tremaining: 1.55s\n",
      "89:\ttotal: 1.26s\tremaining: 1.54s\n",
      "90:\ttotal: 1.27s\tremaining: 1.52s\n",
      "91:\ttotal: 1.28s\tremaining: 1.51s\n",
      "92:\ttotal: 1.29s\tremaining: 1.49s\n",
      "93:\ttotal: 1.31s\tremaining: 1.48s\n",
      "94:\ttotal: 1.32s\tremaining: 1.46s\n",
      "95:\ttotal: 1.33s\tremaining: 1.44s\n",
      "96:\ttotal: 1.35s\tremaining: 1.43s\n",
      "97:\ttotal: 1.36s\tremaining: 1.42s\n",
      "98:\ttotal: 1.37s\tremaining: 1.4s\n",
      "99:\ttotal: 1.39s\tremaining: 1.39s\n",
      "100:\ttotal: 1.4s\tremaining: 1.37s\n",
      "101:\ttotal: 1.41s\tremaining: 1.36s\n",
      "102:\ttotal: 1.43s\tremaining: 1.34s\n",
      "103:\ttotal: 1.44s\tremaining: 1.33s\n",
      "104:\ttotal: 1.46s\tremaining: 1.32s\n",
      "105:\ttotal: 1.47s\tremaining: 1.3s\n",
      "106:\ttotal: 1.49s\tremaining: 1.29s\n",
      "107:\ttotal: 1.5s\tremaining: 1.28s\n",
      "108:\ttotal: 1.51s\tremaining: 1.26s\n",
      "109:\ttotal: 1.52s\tremaining: 1.25s\n",
      "110:\ttotal: 1.53s\tremaining: 1.23s\n",
      "111:\ttotal: 1.55s\tremaining: 1.22s\n",
      "112:\ttotal: 1.57s\tremaining: 1.21s\n",
      "113:\ttotal: 1.58s\tremaining: 1.19s\n",
      "114:\ttotal: 1.6s\tremaining: 1.18s\n",
      "115:\ttotal: 1.61s\tremaining: 1.17s\n",
      "116:\ttotal: 1.63s\tremaining: 1.16s\n",
      "117:\ttotal: 1.64s\tremaining: 1.14s\n",
      "118:\ttotal: 1.66s\tremaining: 1.13s\n",
      "119:\ttotal: 1.67s\tremaining: 1.11s\n",
      "120:\ttotal: 1.68s\tremaining: 1.1s\n",
      "121:\ttotal: 1.7s\tremaining: 1.09s\n",
      "122:\ttotal: 1.72s\tremaining: 1.07s\n",
      "123:\ttotal: 1.73s\tremaining: 1.06s\n",
      "124:\ttotal: 1.74s\tremaining: 1.04s\n",
      "125:\ttotal: 1.75s\tremaining: 1.03s\n",
      "126:\ttotal: 1.77s\tremaining: 1.02s\n",
      "127:\ttotal: 1.78s\tremaining: 1s\n",
      "128:\ttotal: 1.8s\tremaining: 989ms\n",
      "129:\ttotal: 1.81s\tremaining: 974ms\n",
      "130:\ttotal: 1.82s\tremaining: 959ms\n",
      "131:\ttotal: 1.83s\tremaining: 944ms\n",
      "132:\ttotal: 1.84s\tremaining: 930ms\n",
      "133:\ttotal: 1.86s\tremaining: 915ms\n",
      "134:\ttotal: 1.87s\tremaining: 902ms\n",
      "135:\ttotal: 1.89s\tremaining: 889ms\n",
      "136:\ttotal: 1.9s\tremaining: 875ms\n",
      "137:\ttotal: 1.92s\tremaining: 862ms\n",
      "138:\ttotal: 1.93s\tremaining: 847ms\n",
      "139:\ttotal: 1.94s\tremaining: 833ms\n",
      "140:\ttotal: 1.96s\tremaining: 819ms\n",
      "141:\ttotal: 1.97s\tremaining: 806ms\n",
      "142:\ttotal: 1.99s\tremaining: 792ms\n",
      "143:\ttotal: 2s\tremaining: 778ms\n",
      "144:\ttotal: 2.01s\tremaining: 763ms\n",
      "145:\ttotal: 2.02s\tremaining: 749ms\n",
      "146:\ttotal: 2.04s\tremaining: 734ms\n",
      "147:\ttotal: 2.05s\tremaining: 720ms\n",
      "148:\ttotal: 2.06s\tremaining: 706ms\n",
      "149:\ttotal: 2.08s\tremaining: 692ms\n",
      "150:\ttotal: 2.09s\tremaining: 680ms\n",
      "151:\ttotal: 2.11s\tremaining: 666ms\n",
      "152:\ttotal: 2.12s\tremaining: 651ms\n",
      "153:\ttotal: 2.13s\tremaining: 637ms\n",
      "154:\ttotal: 2.15s\tremaining: 623ms\n",
      "155:\ttotal: 2.16s\tremaining: 609ms\n",
      "156:\ttotal: 2.17s\tremaining: 596ms\n",
      "157:\ttotal: 2.19s\tremaining: 582ms\n",
      "158:\ttotal: 2.2s\tremaining: 568ms\n",
      "159:\ttotal: 2.21s\tremaining: 554ms\n",
      "160:\ttotal: 2.23s\tremaining: 539ms\n",
      "161:\ttotal: 2.24s\tremaining: 525ms\n",
      "162:\ttotal: 2.25s\tremaining: 511ms\n",
      "163:\ttotal: 2.26s\tremaining: 497ms\n",
      "164:\ttotal: 2.28s\tremaining: 483ms\n",
      "165:\ttotal: 2.29s\tremaining: 470ms\n",
      "166:\ttotal: 2.31s\tremaining: 456ms\n",
      "167:\ttotal: 2.32s\tremaining: 442ms\n",
      "168:\ttotal: 2.33s\tremaining: 428ms\n",
      "169:\ttotal: 2.35s\tremaining: 414ms\n",
      "170:\ttotal: 2.36s\tremaining: 401ms\n",
      "171:\ttotal: 2.38s\tremaining: 387ms\n",
      "172:\ttotal: 2.39s\tremaining: 373ms\n",
      "173:\ttotal: 2.4s\tremaining: 359ms\n",
      "174:\ttotal: 2.41s\tremaining: 345ms\n",
      "175:\ttotal: 2.43s\tremaining: 331ms\n",
      "176:\ttotal: 2.44s\tremaining: 317ms\n",
      "177:\ttotal: 2.45s\tremaining: 303ms\n",
      "178:\ttotal: 2.46s\tremaining: 289ms\n",
      "179:\ttotal: 2.48s\tremaining: 275ms\n",
      "180:\ttotal: 2.49s\tremaining: 261ms\n",
      "181:\ttotal: 2.5s\tremaining: 248ms\n",
      "182:\ttotal: 2.52s\tremaining: 234ms\n",
      "183:\ttotal: 2.53s\tremaining: 220ms\n",
      "184:\ttotal: 2.54s\tremaining: 206ms\n",
      "185:\ttotal: 2.56s\tremaining: 192ms\n",
      "186:\ttotal: 2.57s\tremaining: 179ms\n",
      "187:\ttotal: 2.59s\tremaining: 165ms\n",
      "188:\ttotal: 2.6s\tremaining: 151ms\n",
      "189:\ttotal: 2.61s\tremaining: 138ms\n",
      "190:\ttotal: 2.63s\tremaining: 124ms\n",
      "191:\ttotal: 2.64s\tremaining: 110ms\n",
      "192:\ttotal: 2.65s\tremaining: 96.2ms\n",
      "193:\ttotal: 2.66s\tremaining: 82.4ms\n",
      "194:\ttotal: 2.68s\tremaining: 68.6ms\n",
      "195:\ttotal: 2.69s\tremaining: 54.9ms\n",
      "196:\ttotal: 2.7s\tremaining: 41.1ms\n",
      "197:\ttotal: 2.72s\tremaining: 27.5ms\n",
      "198:\ttotal: 2.73s\tremaining: 13.7ms\n",
      "199:\ttotal: 2.75s\tremaining: 0us\n"
     ]
    },
    {
     "data": {
      "text/plain": [
       "<catboost.core.CatBoostClassifier at 0x7fe8a2799b00>"
      ]
     },
     "execution_count": 22,
     "metadata": {},
     "output_type": "execute_result"
    }
   ],
   "source": [
    "parameters = {\"learning_rate\":0.1, \"depth\":5, \"early_stopping_rounds\":20, \"l2_leaf_reg\":10}\n",
    "model = CatBoostClassifier(iterations=200, eval_metric='AUC', **parameters)\n",
    "model.fit(train_data, train_label, cat_features=[])"
   ]
  },
  {
   "cell_type": "code",
   "execution_count": 23,
   "metadata": {
    "ExecuteTime": {
     "end_time": "2019-06-25T10:35:15.795280Z",
     "start_time": "2019-06-25T10:35:11.872725Z"
    }
   },
   "outputs": [
    {
     "name": "stdout",
     "output_type": "stream",
     "text": [
      "CV mean score: 0.7025, std: 0.1352.\n"
     ]
    }
   ],
   "source": [
    "model = LogisticRegression(class_weight='balanced', penalty='l1', C=0.1, solver='liblinear')\n",
    "oof3, score3, predition3 = train_model(train_data, train_label, val_data, params=None, model= model, folds=repeatedfolds)"
   ]
  },
  {
   "cell_type": "code",
   "execution_count": 24,
   "metadata": {
    "ExecuteTime": {
     "end_time": "2019-06-25T10:35:24.695522Z",
     "start_time": "2019-06-25T10:35:15.798003Z"
    }
   },
   "outputs": [
    {
     "name": "stdout",
     "output_type": "stream",
     "text": [
      "CV mean score: 0.7075, std: 0.1430.\n"
     ]
    }
   ],
   "source": [
    "oof4, score4, predition4 = train_model(train_data, train_label, test.iloc[:,1:], params=None, model= model, folds=repeatedfolds)"
   ]
  },
  {
   "cell_type": "code",
   "execution_count": 25,
   "metadata": {
    "ExecuteTime": {
     "end_time": "2019-06-25T10:35:24.832007Z",
     "start_time": "2019-06-25T10:35:24.698621Z"
    }
   },
   "outputs": [],
   "source": [
    "submission = pd.DataFrame({'id':test.id, 'target':predition4})\n",
    "submission.to_csv('submission1.csv', index = False)"
   ]
  },
  {
   "cell_type": "code",
   "execution_count": 26,
   "metadata": {
    "ExecuteTime": {
     "end_time": "2019-06-25T10:35:24.837006Z",
     "start_time": "2019-06-25T10:35:24.833672Z"
    }
   },
   "outputs": [],
   "source": [
    "def create_download_link(title = \"Download CSV file\", filename = \"data.csv\"):  \n",
    "    \"\"\"this function is used with Kaggle kernel to download the submission file\"\"\"\n",
    "    html = '<a href={filename}>{title}</a>'\n",
    "    html = html.format(title=title,filename=filename)\n",
    "    return HTML(html)\n",
    "\n",
    "# create a link to download the dataframe which was saved with .to_csv method\n",
    "#create_download_link(filename='submission1.csv')"
   ]
  },
  {
   "cell_type": "code",
   "execution_count": 27,
   "metadata": {
    "ExecuteTime": {
     "end_time": "2019-06-25T10:35:24.878750Z",
     "start_time": "2019-06-25T10:35:24.838763Z"
    }
   },
   "outputs": [
    {
     "data": {
      "text/html": [
       "\n",
       "    <style>\n",
       "    table.eli5-weights tr:hover {\n",
       "        filter: brightness(85%);\n",
       "    }\n",
       "</style>\n",
       "\n",
       "\n",
       "\n",
       "    \n",
       "\n",
       "    \n",
       "\n",
       "    \n",
       "\n",
       "    \n",
       "\n",
       "    \n",
       "\n",
       "    \n",
       "\n",
       "\n",
       "    \n",
       "\n",
       "    \n",
       "\n",
       "    \n",
       "\n",
       "    \n",
       "        \n",
       "\n",
       "    \n",
       "\n",
       "        \n",
       "            \n",
       "                \n",
       "                \n",
       "    \n",
       "        <p style=\"margin-bottom: 0.5em; margin-top: 0em\">\n",
       "            <b>\n",
       "    \n",
       "        y=1.0\n",
       "    \n",
       "</b>\n",
       "\n",
       "top features\n",
       "        </p>\n",
       "    \n",
       "    <table class=\"eli5-weights\"\n",
       "           style=\"border-collapse: collapse; border: none; margin-top: 0em; table-layout: auto; margin-bottom: 2em;\">\n",
       "        <thead>\n",
       "        <tr style=\"border: none;\">\n",
       "            \n",
       "                <th style=\"padding: 0 1em 0 0.5em; text-align: right; border: none;\" title=\"Feature weights. Note that weights do not account for feature value scales, so if feature values have different scales, features with highest weights might not be the most important.\">\n",
       "                    Weight<sup>?</sup>\n",
       "                </th>\n",
       "            \n",
       "            <th style=\"padding: 0 0.5em 0 0.5em; text-align: left; border: none;\">Feature</th>\n",
       "            \n",
       "        </tr>\n",
       "        </thead>\n",
       "        <tbody>\n",
       "        \n",
       "            <tr style=\"background-color: hsl(120, 100.00%, 80.00%); border: none;\">\n",
       "    <td style=\"padding: 0 1em 0 0.5em; text-align: right; border: none;\">\n",
       "        +0.508\n",
       "    </td>\n",
       "    <td style=\"padding: 0 0.5em 0 0.5em; text-align: left; border: none;\">\n",
       "        x33\n",
       "    </td>\n",
       "    \n",
       "</tr>\n",
       "        \n",
       "            <tr style=\"background-color: hsl(120, 100.00%, 80.60%); border: none;\">\n",
       "    <td style=\"padding: 0 1em 0 0.5em; text-align: right; border: none;\">\n",
       "        +0.486\n",
       "    </td>\n",
       "    <td style=\"padding: 0 0.5em 0 0.5em; text-align: left; border: none;\">\n",
       "        x65\n",
       "    </td>\n",
       "    \n",
       "</tr>\n",
       "        \n",
       "            <tr style=\"background-color: hsl(120, 100.00%, 89.84%); border: none;\">\n",
       "    <td style=\"padding: 0 1em 0 0.5em; text-align: right; border: none;\">\n",
       "        +0.193\n",
       "    </td>\n",
       "    <td style=\"padding: 0 0.5em 0 0.5em; text-align: left; border: none;\">\n",
       "        x199\n",
       "    </td>\n",
       "    \n",
       "</tr>\n",
       "        \n",
       "            <tr style=\"background-color: hsl(120, 100.00%, 93.01%); border: none;\">\n",
       "    <td style=\"padding: 0 1em 0 0.5em; text-align: right; border: none;\">\n",
       "        +0.113\n",
       "    </td>\n",
       "    <td style=\"padding: 0 0.5em 0 0.5em; text-align: left; border: none;\">\n",
       "        x24\n",
       "    </td>\n",
       "    \n",
       "</tr>\n",
       "        \n",
       "            <tr style=\"background-color: hsl(120, 100.00%, 94.42%); border: none;\">\n",
       "    <td style=\"padding: 0 1em 0 0.5em; text-align: right; border: none;\">\n",
       "        +0.082\n",
       "    </td>\n",
       "    <td style=\"padding: 0 0.5em 0 0.5em; text-align: left; border: none;\">\n",
       "        x226\n",
       "    </td>\n",
       "    \n",
       "</tr>\n",
       "        \n",
       "            <tr style=\"background-color: hsl(120, 100.00%, 96.26%); border: none;\">\n",
       "    <td style=\"padding: 0 1em 0 0.5em; text-align: right; border: none;\">\n",
       "        +0.046\n",
       "    </td>\n",
       "    <td style=\"padding: 0 0.5em 0 0.5em; text-align: left; border: none;\">\n",
       "        x168\n",
       "    </td>\n",
       "    \n",
       "</tr>\n",
       "        \n",
       "            <tr style=\"background-color: hsl(120, 100.00%, 96.92%); border: none;\">\n",
       "    <td style=\"padding: 0 1em 0 0.5em; text-align: right; border: none;\">\n",
       "        +0.035\n",
       "    </td>\n",
       "    <td style=\"padding: 0 0.5em 0 0.5em; text-align: left; border: none;\">\n",
       "        x272\n",
       "    </td>\n",
       "    \n",
       "</tr>\n",
       "        \n",
       "            <tr style=\"background-color: hsl(120, 100.00%, 97.52%); border: none;\">\n",
       "    <td style=\"padding: 0 1em 0 0.5em; text-align: right; border: none;\">\n",
       "        +0.026\n",
       "    </td>\n",
       "    <td style=\"padding: 0 0.5em 0 0.5em; text-align: left; border: none;\">\n",
       "        x289\n",
       "    </td>\n",
       "    \n",
       "</tr>\n",
       "        \n",
       "            <tr style=\"background-color: hsl(120, 100.00%, 98.64%); border: none;\">\n",
       "    <td style=\"padding: 0 1em 0 0.5em; text-align: right; border: none;\">\n",
       "        +0.011\n",
       "    </td>\n",
       "    <td style=\"padding: 0 0.5em 0 0.5em; text-align: left; border: none;\">\n",
       "        x162\n",
       "    </td>\n",
       "    \n",
       "</tr>\n",
       "        \n",
       "            <tr style=\"background-color: hsl(120, 100.00%, 98.78%); border: none;\">\n",
       "    <td style=\"padding: 0 1em 0 0.5em; text-align: right; border: none;\">\n",
       "        +0.009\n",
       "    </td>\n",
       "    <td style=\"padding: 0 0.5em 0 0.5em; text-align: left; border: none;\">\n",
       "        x107\n",
       "    </td>\n",
       "    \n",
       "</tr>\n",
       "        \n",
       "            <tr style=\"background-color: hsl(120, 100.00%, 98.86%); border: none;\">\n",
       "    <td style=\"padding: 0 1em 0 0.5em; text-align: right; border: none;\">\n",
       "        +0.008\n",
       "    </td>\n",
       "    <td style=\"padding: 0 0.5em 0 0.5em; text-align: left; border: none;\">\n",
       "        x221\n",
       "    </td>\n",
       "    \n",
       "</tr>\n",
       "        \n",
       "        \n",
       "\n",
       "        \n",
       "        \n",
       "            <tr style=\"background-color: hsl(0, 100.00%, 99.88%); border: none;\">\n",
       "    <td style=\"padding: 0 1em 0 0.5em; text-align: right; border: none;\">\n",
       "        -0.000\n",
       "    </td>\n",
       "    <td style=\"padding: 0 0.5em 0 0.5em; text-align: left; border: none;\">\n",
       "        x129\n",
       "    </td>\n",
       "    \n",
       "</tr>\n",
       "        \n",
       "            <tr style=\"background-color: hsl(0, 100.00%, 99.80%); border: none;\">\n",
       "    <td style=\"padding: 0 1em 0 0.5em; text-align: right; border: none;\">\n",
       "        -0.001\n",
       "    </td>\n",
       "    <td style=\"padding: 0 0.5em 0 0.5em; text-align: left; border: none;\">\n",
       "        x229\n",
       "    </td>\n",
       "    \n",
       "</tr>\n",
       "        \n",
       "            <tr style=\"background-color: hsl(0, 100.00%, 99.64%); border: none;\">\n",
       "    <td style=\"padding: 0 1em 0 0.5em; text-align: right; border: none;\">\n",
       "        -0.002\n",
       "    </td>\n",
       "    <td style=\"padding: 0 0.5em 0 0.5em; text-align: left; border: none;\">\n",
       "        x268\n",
       "    </td>\n",
       "    \n",
       "</tr>\n",
       "        \n",
       "            <tr style=\"background-color: hsl(0, 100.00%, 98.82%); border: none;\">\n",
       "    <td style=\"padding: 0 1em 0 0.5em; text-align: right; border: none;\">\n",
       "        -0.009\n",
       "    </td>\n",
       "    <td style=\"padding: 0 0.5em 0 0.5em; text-align: left; border: none;\">\n",
       "        x209\n",
       "    </td>\n",
       "    \n",
       "</tr>\n",
       "        \n",
       "            <tr style=\"background-color: hsl(0, 100.00%, 98.65%); border: none;\">\n",
       "    <td style=\"padding: 0 1em 0 0.5em; text-align: right; border: none;\">\n",
       "        -0.011\n",
       "    </td>\n",
       "    <td style=\"padding: 0 0.5em 0 0.5em; text-align: left; border: none;\">\n",
       "        x90\n",
       "    </td>\n",
       "    \n",
       "</tr>\n",
       "        \n",
       "            <tr style=\"background-color: hsl(0, 100.00%, 97.99%); border: none;\">\n",
       "    <td style=\"padding: 0 1em 0 0.5em; text-align: right; border: none;\">\n",
       "        -0.019\n",
       "    </td>\n",
       "    <td style=\"padding: 0 0.5em 0 0.5em; text-align: left; border: none;\">\n",
       "        x165\n",
       "    </td>\n",
       "    \n",
       "</tr>\n",
       "        \n",
       "            <tr style=\"background-color: hsl(0, 100.00%, 96.89%); border: none;\">\n",
       "    <td style=\"padding: 0 1em 0 0.5em; text-align: right; border: none;\">\n",
       "        -0.036\n",
       "    </td>\n",
       "    <td style=\"padding: 0 0.5em 0 0.5em; text-align: left; border: none;\">\n",
       "        x295\n",
       "    </td>\n",
       "    \n",
       "</tr>\n",
       "        \n",
       "            <tr style=\"background-color: hsl(0, 100.00%, 96.55%); border: none;\">\n",
       "    <td style=\"padding: 0 1em 0 0.5em; text-align: right; border: none;\">\n",
       "        -0.041\n",
       "    </td>\n",
       "    <td style=\"padding: 0 0.5em 0 0.5em; text-align: left; border: none;\">\n",
       "        x211\n",
       "    </td>\n",
       "    \n",
       "</tr>\n",
       "        \n",
       "            <tr style=\"background-color: hsl(0, 100.00%, 96.44%); border: none;\">\n",
       "    <td style=\"padding: 0 1em 0 0.5em; text-align: right; border: none;\">\n",
       "        -0.043\n",
       "    </td>\n",
       "    <td style=\"padding: 0 0.5em 0 0.5em; text-align: left; border: none;\">\n",
       "        x239\n",
       "    </td>\n",
       "    \n",
       "</tr>\n",
       "        \n",
       "            <tr style=\"background-color: hsl(0, 100.00%, 96.29%); border: none;\">\n",
       "    <td style=\"padding: 0 1em 0 0.5em; text-align: right; border: none;\">\n",
       "        -0.046\n",
       "    </td>\n",
       "    <td style=\"padding: 0 0.5em 0 0.5em; text-align: left; border: none;\">\n",
       "        x43\n",
       "    </td>\n",
       "    \n",
       "</tr>\n",
       "        \n",
       "            <tr style=\"background-color: hsl(0, 100.00%, 96.29%); border: none;\">\n",
       "    <td style=\"padding: 0 1em 0 0.5em; text-align: right; border: none;\">\n",
       "        -0.046\n",
       "    </td>\n",
       "    <td style=\"padding: 0 0.5em 0 0.5em; text-align: left; border: none;\">\n",
       "        x80\n",
       "    </td>\n",
       "    \n",
       "</tr>\n",
       "        \n",
       "            <tr style=\"background-color: hsl(0, 100.00%, 96.07%); border: none;\">\n",
       "    <td style=\"padding: 0 1em 0 0.5em; text-align: right; border: none;\">\n",
       "        -0.050\n",
       "    </td>\n",
       "    <td style=\"padding: 0 0.5em 0 0.5em; text-align: left; border: none;\">\n",
       "        x16\n",
       "    </td>\n",
       "    \n",
       "</tr>\n",
       "        \n",
       "            <tr style=\"background-color: hsl(0, 100.00%, 95.99%); border: none;\">\n",
       "    <td style=\"padding: 0 1em 0 0.5em; text-align: right; border: none;\">\n",
       "        -0.051\n",
       "    </td>\n",
       "    <td style=\"padding: 0 0.5em 0 0.5em; text-align: left; border: none;\">\n",
       "        x252\n",
       "    </td>\n",
       "    \n",
       "</tr>\n",
       "        \n",
       "            <tr style=\"background-color: hsl(0, 100.00%, 95.56%); border: none;\">\n",
       "    <td style=\"padding: 0 1em 0 0.5em; text-align: right; border: none;\">\n",
       "        -0.059\n",
       "    </td>\n",
       "    <td style=\"padding: 0 0.5em 0 0.5em; text-align: left; border: none;\">\n",
       "        x217\n",
       "    </td>\n",
       "    \n",
       "</tr>\n",
       "        \n",
       "            <tr style=\"background-color: hsl(0, 100.00%, 95.46%); border: none;\">\n",
       "    <td style=\"padding: 0 1em 0 0.5em; text-align: right; border: none;\">\n",
       "        -0.061\n",
       "    </td>\n",
       "    <td style=\"padding: 0 0.5em 0 0.5em; text-align: left; border: none;\">\n",
       "        x189\n",
       "    </td>\n",
       "    \n",
       "</tr>\n",
       "        \n",
       "            <tr style=\"background-color: hsl(0, 100.00%, 95.11%); border: none;\">\n",
       "    <td style=\"padding: 0 1em 0 0.5em; text-align: right; border: none;\">\n",
       "        -0.068\n",
       "    </td>\n",
       "    <td style=\"padding: 0 0.5em 0 0.5em; text-align: left; border: none;\">\n",
       "        x227\n",
       "    </td>\n",
       "    \n",
       "</tr>\n",
       "        \n",
       "            <tr style=\"background-color: hsl(0, 100.00%, 93.97%); border: none;\">\n",
       "    <td style=\"padding: 0 1em 0 0.5em; text-align: right; border: none;\">\n",
       "        -0.091\n",
       "    </td>\n",
       "    <td style=\"padding: 0 0.5em 0 0.5em; text-align: left; border: none;\">\n",
       "        x63\n",
       "    </td>\n",
       "    \n",
       "</tr>\n",
       "        \n",
       "            <tr style=\"background-color: hsl(0, 100.00%, 93.92%); border: none;\">\n",
       "    <td style=\"padding: 0 1em 0 0.5em; text-align: right; border: none;\">\n",
       "        -0.093\n",
       "    </td>\n",
       "    <td style=\"padding: 0 0.5em 0 0.5em; text-align: left; border: none;\">\n",
       "        x82\n",
       "    </td>\n",
       "    \n",
       "</tr>\n",
       "        \n",
       "            <tr style=\"background-color: hsl(0, 100.00%, 92.36%); border: none;\">\n",
       "    <td style=\"padding: 0 1em 0 0.5em; text-align: right; border: none;\">\n",
       "        -0.128\n",
       "    </td>\n",
       "    <td style=\"padding: 0 0.5em 0 0.5em; text-align: left; border: none;\">\n",
       "        x134\n",
       "    </td>\n",
       "    \n",
       "</tr>\n",
       "        \n",
       "            <tr style=\"background-color: hsl(0, 100.00%, 91.93%); border: none;\">\n",
       "    <td style=\"padding: 0 1em 0 0.5em; text-align: right; border: none;\">\n",
       "        -0.139\n",
       "    </td>\n",
       "    <td style=\"padding: 0 0.5em 0 0.5em; text-align: left; border: none;\">\n",
       "        x73\n",
       "    </td>\n",
       "    \n",
       "</tr>\n",
       "        \n",
       "            <tr style=\"background-color: hsl(0, 100.00%, 90.78%); border: none;\">\n",
       "    <td style=\"padding: 0 1em 0 0.5em; text-align: right; border: none;\">\n",
       "        -0.168\n",
       "    </td>\n",
       "    <td style=\"padding: 0 0.5em 0 0.5em; text-align: left; border: none;\">\n",
       "        x117\n",
       "    </td>\n",
       "    \n",
       "</tr>\n",
       "        \n",
       "            <tr style=\"background-color: hsl(0, 100.00%, 89.23%); border: none;\">\n",
       "    <td style=\"padding: 0 1em 0 0.5em; text-align: right; border: none;\">\n",
       "        -0.210\n",
       "    </td>\n",
       "    <td style=\"padding: 0 0.5em 0 0.5em; text-align: left; border: none;\">\n",
       "        x91\n",
       "    </td>\n",
       "    \n",
       "</tr>\n",
       "        \n",
       "\n",
       "        </tbody>\n",
       "    </table>\n",
       "\n",
       "            \n",
       "        \n",
       "\n",
       "        \n",
       "\n",
       "\n",
       "\n",
       "    \n",
       "\n",
       "    \n",
       "\n",
       "    \n",
       "\n",
       "    \n",
       "\n",
       "\n",
       "    \n",
       "\n",
       "    \n",
       "\n",
       "    \n",
       "\n",
       "    \n",
       "\n",
       "    \n",
       "\n",
       "    \n",
       "\n",
       "\n",
       "    \n",
       "\n",
       "    \n",
       "\n",
       "    \n",
       "\n",
       "    \n",
       "\n",
       "    \n",
       "\n",
       "    \n",
       "\n",
       "\n",
       "\n"
      ],
      "text/plain": [
       "<IPython.core.display.HTML object>"
      ]
     },
     "execution_count": 27,
     "metadata": {},
     "output_type": "execute_result"
    }
   ],
   "source": [
    "eli5.show_weights(model, top=50)"
   ]
  },
  {
   "cell_type": "code",
   "execution_count": 28,
   "metadata": {
    "ExecuteTime": {
     "end_time": "2019-06-25T10:35:24.883361Z",
     "start_time": "2019-06-25T10:35:24.880318Z"
    }
   },
   "outputs": [
    {
     "data": {
      "text/plain": [
       "33"
      ]
     },
     "execution_count": 28,
     "metadata": {},
     "output_type": "execute_result"
    }
   ],
   "source": [
    "(model.coef_ != 0).sum()"
   ]
  },
  {
   "cell_type": "code",
   "execution_count": 29,
   "metadata": {
    "ExecuteTime": {
     "end_time": "2019-06-25T10:35:24.889721Z",
     "start_time": "2019-06-25T10:35:24.884780Z"
    }
   },
   "outputs": [],
   "source": [
    "top_features = [int(i[1:]) for i in eli5.formatters.as_dataframe.explain_weights_df(model).feature if 'BIAS' not in i]"
   ]
  },
  {
   "cell_type": "code",
   "execution_count": 30,
   "metadata": {
    "ExecuteTime": {
     "end_time": "2019-06-25T10:35:28.102388Z",
     "start_time": "2019-06-25T10:35:24.891052Z"
    }
   },
   "outputs": [
    {
     "name": "stdout",
     "output_type": "stream",
     "text": [
      "CV mean score: 0.7268, std: 0.1432.\n"
     ]
    }
   ],
   "source": [
    "x_train = train_data[:,top_features]\n",
    "x_test = test.iloc[:,top_features]\n",
    "sc = StandardScaler()\n",
    "x_train = sc.fit_transform(x_train)\n",
    "x_test = sc.transform(x_test)\n",
    "model = LogisticRegression(C=0.1, solver='liblinear', penalty='l1', class_weight='balanced')\n",
    "oof5, score5, predition5 = train_model(x_train, train_label, x_test, params=None, model= model, folds=repeatedfolds)"
   ]
  },
  {
   "cell_type": "code",
   "execution_count": 31,
   "metadata": {
    "ExecuteTime": {
     "end_time": "2019-06-25T10:35:28.245541Z",
     "start_time": "2019-06-25T10:35:28.105416Z"
    }
   },
   "outputs": [
    {
     "data": {
      "text/html": [
       "<a href=submission2.csv>Download CSV file</a>"
      ],
      "text/plain": [
       "<IPython.core.display.HTML object>"
      ]
     },
     "execution_count": 31,
     "metadata": {},
     "output_type": "execute_result"
    }
   ],
   "source": [
    "submission = pd.DataFrame({'id':test.id, 'target':predition5})\n",
    "submission.to_csv('submission2.csv', index = False)\n",
    "create_download_link(filename='submission2.csv')"
   ]
  },
  {
   "cell_type": "code",
   "execution_count": 32,
   "metadata": {
    "ExecuteTime": {
     "end_time": "2019-06-25T10:36:10.721205Z",
     "start_time": "2019-06-25T10:36:05.975335Z"
    }
   },
   "outputs": [
    {
     "name": "stdout",
     "output_type": "stream",
     "text": [
      "CV mean score: 0.6981, std: 0.1424.\n"
     ]
    },
    {
     "data": {
      "text/html": [
       "\n",
       "    <style>\n",
       "    table.eli5-weights tr:hover {\n",
       "        filter: brightness(85%);\n",
       "    }\n",
       "</style>\n",
       "\n",
       "\n",
       "\n",
       "    \n",
       "\n",
       "    \n",
       "\n",
       "    \n",
       "\n",
       "    \n",
       "\n",
       "    \n",
       "\n",
       "    \n",
       "\n",
       "\n",
       "    \n",
       "\n",
       "    \n",
       "\n",
       "    \n",
       "\n",
       "    \n",
       "\n",
       "    \n",
       "\n",
       "    \n",
       "\n",
       "\n",
       "    \n",
       "\n",
       "    \n",
       "\n",
       "    \n",
       "\n",
       "    \n",
       "\n",
       "    \n",
       "        <table class=\"eli5-weights eli5-feature-importances\" style=\"border-collapse: collapse; border: none; margin-top: 0em; table-layout: auto;\">\n",
       "    <thead>\n",
       "    <tr style=\"border: none;\">\n",
       "        <th style=\"padding: 0 1em 0 0.5em; text-align: right; border: none;\">Weight</th>\n",
       "        <th style=\"padding: 0 0.5em 0 0.5em; text-align: left; border: none;\">Feature</th>\n",
       "    </tr>\n",
       "    </thead>\n",
       "    <tbody>\n",
       "    \n",
       "        <tr style=\"background-color: hsl(120, 100.00%, 80.00%); border: none;\">\n",
       "            <td style=\"padding: 0 1em 0 0.5em; text-align: right; border: none;\">\n",
       "                0.1530\n",
       "                \n",
       "                    &plusmn; 0.0206\n",
       "                \n",
       "            </td>\n",
       "            <td style=\"padding: 0 0.5em 0 0.5em; text-align: left; border: none;\">\n",
       "                x33\n",
       "            </td>\n",
       "        </tr>\n",
       "    \n",
       "        <tr style=\"background-color: hsl(120, 100.00%, 81.39%); border: none;\">\n",
       "            <td style=\"padding: 0 1em 0 0.5em; text-align: right; border: none;\">\n",
       "                0.1380\n",
       "                \n",
       "                    &plusmn; 0.0445\n",
       "                \n",
       "            </td>\n",
       "            <td style=\"padding: 0 0.5em 0 0.5em; text-align: left; border: none;\">\n",
       "                x65\n",
       "            </td>\n",
       "        </tr>\n",
       "    \n",
       "        <tr style=\"background-color: hsl(120, 100.00%, 91.51%); border: none;\">\n",
       "            <td style=\"padding: 0 1em 0 0.5em; text-align: right; border: none;\">\n",
       "                0.0450\n",
       "                \n",
       "                    &plusmn; 0.0190\n",
       "                \n",
       "            </td>\n",
       "            <td style=\"padding: 0 0.5em 0 0.5em; text-align: left; border: none;\">\n",
       "                x199\n",
       "            </td>\n",
       "        </tr>\n",
       "    \n",
       "        <tr style=\"background-color: hsl(120, 100.00%, 92.60%); border: none;\">\n",
       "            <td style=\"padding: 0 1em 0 0.5em; text-align: right; border: none;\">\n",
       "                0.0370\n",
       "                \n",
       "                    &plusmn; 0.0150\n",
       "                \n",
       "            </td>\n",
       "            <td style=\"padding: 0 0.5em 0 0.5em; text-align: left; border: none;\">\n",
       "                x117\n",
       "            </td>\n",
       "        </tr>\n",
       "    \n",
       "        <tr style=\"background-color: hsl(120, 100.00%, 93.76%); border: none;\">\n",
       "            <td style=\"padding: 0 1em 0 0.5em; text-align: right; border: none;\">\n",
       "                0.0290\n",
       "                \n",
       "                    &plusmn; 0.0256\n",
       "                \n",
       "            </td>\n",
       "            <td style=\"padding: 0 0.5em 0 0.5em; text-align: left; border: none;\">\n",
       "                x91\n",
       "            </td>\n",
       "        </tr>\n",
       "    \n",
       "        <tr style=\"background-color: hsl(120, 100.00%, 93.91%); border: none;\">\n",
       "            <td style=\"padding: 0 1em 0 0.5em; text-align: right; border: none;\">\n",
       "                0.0280\n",
       "                \n",
       "                    &plusmn; 0.0361\n",
       "                \n",
       "            </td>\n",
       "            <td style=\"padding: 0 0.5em 0 0.5em; text-align: left; border: none;\">\n",
       "                x217\n",
       "            </td>\n",
       "        </tr>\n",
       "    \n",
       "        <tr style=\"background-color: hsl(120, 100.00%, 95.19%); border: none;\">\n",
       "            <td style=\"padding: 0 1em 0 0.5em; text-align: right; border: none;\">\n",
       "                0.0200\n",
       "                \n",
       "                    &plusmn; 0.0352\n",
       "                \n",
       "            </td>\n",
       "            <td style=\"padding: 0 0.5em 0 0.5em; text-align: left; border: none;\">\n",
       "                x16\n",
       "            </td>\n",
       "        </tr>\n",
       "    \n",
       "        <tr style=\"background-color: hsl(120, 100.00%, 95.36%); border: none;\">\n",
       "            <td style=\"padding: 0 1em 0 0.5em; text-align: right; border: none;\">\n",
       "                0.0190\n",
       "                \n",
       "                    &plusmn; 0.0271\n",
       "                \n",
       "            </td>\n",
       "            <td style=\"padding: 0 0.5em 0 0.5em; text-align: left; border: none;\">\n",
       "                x73\n",
       "            </td>\n",
       "        </tr>\n",
       "    \n",
       "        <tr style=\"background-color: hsl(120, 100.00%, 96.25%); border: none;\">\n",
       "            <td style=\"padding: 0 1em 0 0.5em; text-align: right; border: none;\">\n",
       "                0.0140\n",
       "                \n",
       "                    &plusmn; 0.0098\n",
       "                \n",
       "            </td>\n",
       "            <td style=\"padding: 0 0.5em 0 0.5em; text-align: left; border: none;\">\n",
       "                x24\n",
       "            </td>\n",
       "        </tr>\n",
       "    \n",
       "        <tr style=\"background-color: hsl(120, 100.00%, 96.44%); border: none;\">\n",
       "            <td style=\"padding: 0 1em 0 0.5em; text-align: right; border: none;\">\n",
       "                0.0130\n",
       "                \n",
       "                    &plusmn; 0.0233\n",
       "                \n",
       "            </td>\n",
       "            <td style=\"padding: 0 0.5em 0 0.5em; text-align: left; border: none;\">\n",
       "                x211\n",
       "            </td>\n",
       "        </tr>\n",
       "    \n",
       "        <tr style=\"background-color: hsl(120, 100.00%, 96.63%); border: none;\">\n",
       "            <td style=\"padding: 0 1em 0 0.5em; text-align: right; border: none;\">\n",
       "                0.0120\n",
       "                \n",
       "                    &plusmn; 0.0136\n",
       "                \n",
       "            </td>\n",
       "            <td style=\"padding: 0 0.5em 0 0.5em; text-align: left; border: none;\">\n",
       "                x239\n",
       "            </td>\n",
       "        </tr>\n",
       "    \n",
       "        <tr style=\"background-color: hsl(120, 100.00%, 97.25%); border: none;\">\n",
       "            <td style=\"padding: 0 1em 0 0.5em; text-align: right; border: none;\">\n",
       "                0.0090\n",
       "                \n",
       "                    &plusmn; 0.0075\n",
       "                \n",
       "            </td>\n",
       "            <td style=\"padding: 0 0.5em 0 0.5em; text-align: left; border: none;\">\n",
       "                x189\n",
       "            </td>\n",
       "        </tr>\n",
       "    \n",
       "        <tr style=\"background-color: hsl(120, 100.00%, 97.47%); border: none;\">\n",
       "            <td style=\"padding: 0 1em 0 0.5em; text-align: right; border: none;\">\n",
       "                0.0080\n",
       "                \n",
       "                    &plusmn; 0.0196\n",
       "                \n",
       "            </td>\n",
       "            <td style=\"padding: 0 0.5em 0 0.5em; text-align: left; border: none;\">\n",
       "                x134\n",
       "            </td>\n",
       "        </tr>\n",
       "    \n",
       "        <tr style=\"background-color: hsl(120, 100.00%, 97.69%); border: none;\">\n",
       "            <td style=\"padding: 0 1em 0 0.5em; text-align: right; border: none;\">\n",
       "                0.0070\n",
       "                \n",
       "                    &plusmn; 0.0162\n",
       "                \n",
       "            </td>\n",
       "            <td style=\"padding: 0 0.5em 0 0.5em; text-align: left; border: none;\">\n",
       "                x226\n",
       "            </td>\n",
       "        </tr>\n",
       "    \n",
       "        <tr style=\"background-color: hsl(120, 100.00%, 97.93%); border: none;\">\n",
       "            <td style=\"padding: 0 1em 0 0.5em; text-align: right; border: none;\">\n",
       "                0.0060\n",
       "                \n",
       "                    &plusmn; 0.0172\n",
       "                \n",
       "            </td>\n",
       "            <td style=\"padding: 0 0.5em 0 0.5em; text-align: left; border: none;\">\n",
       "                x63\n",
       "            </td>\n",
       "        </tr>\n",
       "    \n",
       "        <tr style=\"background-color: hsl(120, 100.00%, 98.18%); border: none;\">\n",
       "            <td style=\"padding: 0 1em 0 0.5em; text-align: right; border: none;\">\n",
       "                0.0050\n",
       "                \n",
       "                    &plusmn; 0.0089\n",
       "                \n",
       "            </td>\n",
       "            <td style=\"padding: 0 0.5em 0 0.5em; text-align: left; border: none;\">\n",
       "                x107\n",
       "            </td>\n",
       "        </tr>\n",
       "    \n",
       "        <tr style=\"background-color: hsl(120, 100.00%, 98.18%); border: none;\">\n",
       "            <td style=\"padding: 0 1em 0 0.5em; text-align: right; border: none;\">\n",
       "                0.0050\n",
       "                \n",
       "                    &plusmn; 0.0210\n",
       "                \n",
       "            </td>\n",
       "            <td style=\"padding: 0 0.5em 0 0.5em; text-align: left; border: none;\">\n",
       "                x227\n",
       "            </td>\n",
       "        </tr>\n",
       "    \n",
       "        <tr style=\"background-color: hsl(120, 100.00%, 98.44%); border: none;\">\n",
       "            <td style=\"padding: 0 1em 0 0.5em; text-align: right; border: none;\">\n",
       "                0.0040\n",
       "                \n",
       "                    &plusmn; 0.0075\n",
       "                \n",
       "            </td>\n",
       "            <td style=\"padding: 0 0.5em 0 0.5em; text-align: left; border: none;\">\n",
       "                x4\n",
       "            </td>\n",
       "        </tr>\n",
       "    \n",
       "        <tr style=\"background-color: hsl(120, 100.00%, 98.72%); border: none;\">\n",
       "            <td style=\"padding: 0 1em 0 0.5em; text-align: right; border: none;\">\n",
       "                0.0030\n",
       "                \n",
       "                    &plusmn; 0.0049\n",
       "                \n",
       "            </td>\n",
       "            <td style=\"padding: 0 0.5em 0 0.5em; text-align: left; border: none;\">\n",
       "                x168\n",
       "            </td>\n",
       "        </tr>\n",
       "    \n",
       "        <tr style=\"background-color: hsl(120, 100.00%, 98.72%); border: none;\">\n",
       "            <td style=\"padding: 0 1em 0 0.5em; text-align: right; border: none;\">\n",
       "                0.0030\n",
       "                \n",
       "                    &plusmn; 0.0049\n",
       "                \n",
       "            </td>\n",
       "            <td style=\"padding: 0 0.5em 0 0.5em; text-align: left; border: none;\">\n",
       "                x133\n",
       "            </td>\n",
       "        </tr>\n",
       "    \n",
       "        <tr style=\"background-color: hsl(120, 100.00%, 99.04%); border: none;\">\n",
       "            <td style=\"padding: 0 1em 0 0.5em; text-align: right; border: none;\">\n",
       "                0.0020\n",
       "                \n",
       "                    &plusmn; 0.0102\n",
       "                \n",
       "            </td>\n",
       "            <td style=\"padding: 0 0.5em 0 0.5em; text-align: left; border: none;\">\n",
       "                x237\n",
       "            </td>\n",
       "        </tr>\n",
       "    \n",
       "        <tr style=\"background-color: hsl(120, 100.00%, 99.41%); border: none;\">\n",
       "            <td style=\"padding: 0 1em 0 0.5em; text-align: right; border: none;\">\n",
       "                0.0010\n",
       "                \n",
       "                    &plusmn; 0.0117\n",
       "                \n",
       "            </td>\n",
       "            <td style=\"padding: 0 0.5em 0 0.5em; text-align: left; border: none;\">\n",
       "                x129\n",
       "            </td>\n",
       "        </tr>\n",
       "    \n",
       "        <tr style=\"background-color: hsl(0, 100.00%, 100.00%); border: none;\">\n",
       "            <td style=\"padding: 0 1em 0 0.5em; text-align: right; border: none;\">\n",
       "                0\n",
       "                \n",
       "                    &plusmn; 0.0000\n",
       "                \n",
       "            </td>\n",
       "            <td style=\"padding: 0 0.5em 0 0.5em; text-align: left; border: none;\">\n",
       "                x86\n",
       "            </td>\n",
       "        </tr>\n",
       "    \n",
       "        <tr style=\"background-color: hsl(0, 100.00%, 100.00%); border: none;\">\n",
       "            <td style=\"padding: 0 1em 0 0.5em; text-align: right; border: none;\">\n",
       "                0\n",
       "                \n",
       "                    &plusmn; 0.0000\n",
       "                \n",
       "            </td>\n",
       "            <td style=\"padding: 0 0.5em 0 0.5em; text-align: left; border: none;\">\n",
       "                x136\n",
       "            </td>\n",
       "        </tr>\n",
       "    \n",
       "        <tr style=\"background-color: hsl(0, 100.00%, 100.00%); border: none;\">\n",
       "            <td style=\"padding: 0 1em 0 0.5em; text-align: right; border: none;\">\n",
       "                0\n",
       "                \n",
       "                    &plusmn; 0.0000\n",
       "                \n",
       "            </td>\n",
       "            <td style=\"padding: 0 0.5em 0 0.5em; text-align: left; border: none;\">\n",
       "                x84\n",
       "            </td>\n",
       "        </tr>\n",
       "    \n",
       "        <tr style=\"background-color: hsl(0, 100.00%, 100.00%); border: none;\">\n",
       "            <td style=\"padding: 0 1em 0 0.5em; text-align: right; border: none;\">\n",
       "                0\n",
       "                \n",
       "                    &plusmn; 0.0000\n",
       "                \n",
       "            </td>\n",
       "            <td style=\"padding: 0 0.5em 0 0.5em; text-align: left; border: none;\">\n",
       "                x83\n",
       "            </td>\n",
       "        </tr>\n",
       "    \n",
       "        <tr style=\"background-color: hsl(0, 100.00%, 100.00%); border: none;\">\n",
       "            <td style=\"padding: 0 1em 0 0.5em; text-align: right; border: none;\">\n",
       "                0\n",
       "                \n",
       "                    &plusmn; 0.0000\n",
       "                \n",
       "            </td>\n",
       "            <td style=\"padding: 0 0.5em 0 0.5em; text-align: left; border: none;\">\n",
       "                x87\n",
       "            </td>\n",
       "        </tr>\n",
       "    \n",
       "        <tr style=\"background-color: hsl(0, 100.00%, 100.00%); border: none;\">\n",
       "            <td style=\"padding: 0 1em 0 0.5em; text-align: right; border: none;\">\n",
       "                0\n",
       "                \n",
       "                    &plusmn; 0.0000\n",
       "                \n",
       "            </td>\n",
       "            <td style=\"padding: 0 0.5em 0 0.5em; text-align: left; border: none;\">\n",
       "                x81\n",
       "            </td>\n",
       "        </tr>\n",
       "    \n",
       "        <tr style=\"background-color: hsl(0, 100.00%, 100.00%); border: none;\">\n",
       "            <td style=\"padding: 0 1em 0 0.5em; text-align: right; border: none;\">\n",
       "                0\n",
       "                \n",
       "                    &plusmn; 0.0000\n",
       "                \n",
       "            </td>\n",
       "            <td style=\"padding: 0 0.5em 0 0.5em; text-align: left; border: none;\">\n",
       "                x80\n",
       "            </td>\n",
       "        </tr>\n",
       "    \n",
       "        <tr style=\"background-color: hsl(0, 100.00%, 100.00%); border: none;\">\n",
       "            <td style=\"padding: 0 1em 0 0.5em; text-align: right; border: none;\">\n",
       "                0\n",
       "                \n",
       "                    &plusmn; 0.0000\n",
       "                \n",
       "            </td>\n",
       "            <td style=\"padding: 0 0.5em 0 0.5em; text-align: left; border: none;\">\n",
       "                x108\n",
       "            </td>\n",
       "        </tr>\n",
       "    \n",
       "        <tr style=\"background-color: hsl(0, 100.00%, 100.00%); border: none;\">\n",
       "            <td style=\"padding: 0 1em 0 0.5em; text-align: right; border: none;\">\n",
       "                0\n",
       "                \n",
       "                    &plusmn; 0.0000\n",
       "                \n",
       "            </td>\n",
       "            <td style=\"padding: 0 0.5em 0 0.5em; text-align: left; border: none;\">\n",
       "                x78\n",
       "            </td>\n",
       "        </tr>\n",
       "    \n",
       "        <tr style=\"background-color: hsl(0, 100.00%, 100.00%); border: none;\">\n",
       "            <td style=\"padding: 0 1em 0 0.5em; text-align: right; border: none;\">\n",
       "                0\n",
       "                \n",
       "                    &plusmn; 0.0000\n",
       "                \n",
       "            </td>\n",
       "            <td style=\"padding: 0 0.5em 0 0.5em; text-align: left; border: none;\">\n",
       "                x85\n",
       "            </td>\n",
       "        </tr>\n",
       "    \n",
       "        <tr style=\"background-color: hsl(0, 100.00%, 100.00%); border: none;\">\n",
       "            <td style=\"padding: 0 1em 0 0.5em; text-align: right; border: none;\">\n",
       "                0\n",
       "                \n",
       "                    &plusmn; 0.0000\n",
       "                \n",
       "            </td>\n",
       "            <td style=\"padding: 0 0.5em 0 0.5em; text-align: left; border: none;\">\n",
       "                x100\n",
       "            </td>\n",
       "        </tr>\n",
       "    \n",
       "        <tr style=\"background-color: hsl(0, 100.00%, 100.00%); border: none;\">\n",
       "            <td style=\"padding: 0 1em 0 0.5em; text-align: right; border: none;\">\n",
       "                0\n",
       "                \n",
       "                    &plusmn; 0.0000\n",
       "                \n",
       "            </td>\n",
       "            <td style=\"padding: 0 0.5em 0 0.5em; text-align: left; border: none;\">\n",
       "                x102\n",
       "            </td>\n",
       "        </tr>\n",
       "    \n",
       "        <tr style=\"background-color: hsl(0, 100.00%, 100.00%); border: none;\">\n",
       "            <td style=\"padding: 0 1em 0 0.5em; text-align: right; border: none;\">\n",
       "                0\n",
       "                \n",
       "                    &plusmn; 0.0000\n",
       "                \n",
       "            </td>\n",
       "            <td style=\"padding: 0 0.5em 0 0.5em; text-align: left; border: none;\">\n",
       "                x99\n",
       "            </td>\n",
       "        </tr>\n",
       "    \n",
       "        <tr style=\"background-color: hsl(0, 100.00%, 100.00%); border: none;\">\n",
       "            <td style=\"padding: 0 1em 0 0.5em; text-align: right; border: none;\">\n",
       "                0\n",
       "                \n",
       "                    &plusmn; 0.0000\n",
       "                \n",
       "            </td>\n",
       "            <td style=\"padding: 0 0.5em 0 0.5em; text-align: left; border: none;\">\n",
       "                x98\n",
       "            </td>\n",
       "        </tr>\n",
       "    \n",
       "        <tr style=\"background-color: hsl(0, 100.00%, 100.00%); border: none;\">\n",
       "            <td style=\"padding: 0 1em 0 0.5em; text-align: right; border: none;\">\n",
       "                0\n",
       "                \n",
       "                    &plusmn; 0.0000\n",
       "                \n",
       "            </td>\n",
       "            <td style=\"padding: 0 0.5em 0 0.5em; text-align: left; border: none;\">\n",
       "                x97\n",
       "            </td>\n",
       "        </tr>\n",
       "    \n",
       "        <tr style=\"background-color: hsl(0, 100.00%, 100.00%); border: none;\">\n",
       "            <td style=\"padding: 0 1em 0 0.5em; text-align: right; border: none;\">\n",
       "                0\n",
       "                \n",
       "                    &plusmn; 0.0000\n",
       "                \n",
       "            </td>\n",
       "            <td style=\"padding: 0 0.5em 0 0.5em; text-align: left; border: none;\">\n",
       "                x96\n",
       "            </td>\n",
       "        </tr>\n",
       "    \n",
       "        <tr style=\"background-color: hsl(0, 100.00%, 100.00%); border: none;\">\n",
       "            <td style=\"padding: 0 1em 0 0.5em; text-align: right; border: none;\">\n",
       "                0\n",
       "                \n",
       "                    &plusmn; 0.0000\n",
       "                \n",
       "            </td>\n",
       "            <td style=\"padding: 0 0.5em 0 0.5em; text-align: left; border: none;\">\n",
       "                x103\n",
       "            </td>\n",
       "        </tr>\n",
       "    \n",
       "        <tr style=\"background-color: hsl(0, 100.00%, 100.00%); border: none;\">\n",
       "            <td style=\"padding: 0 1em 0 0.5em; text-align: right; border: none;\">\n",
       "                0\n",
       "                \n",
       "                    &plusmn; 0.0000\n",
       "                \n",
       "            </td>\n",
       "            <td style=\"padding: 0 0.5em 0 0.5em; text-align: left; border: none;\">\n",
       "                x104\n",
       "            </td>\n",
       "        </tr>\n",
       "    \n",
       "        <tr style=\"background-color: hsl(0, 100.00%, 100.00%); border: none;\">\n",
       "            <td style=\"padding: 0 1em 0 0.5em; text-align: right; border: none;\">\n",
       "                0\n",
       "                \n",
       "                    &plusmn; 0.0000\n",
       "                \n",
       "            </td>\n",
       "            <td style=\"padding: 0 0.5em 0 0.5em; text-align: left; border: none;\">\n",
       "                x88\n",
       "            </td>\n",
       "        </tr>\n",
       "    \n",
       "        <tr style=\"background-color: hsl(0, 100.00%, 100.00%); border: none;\">\n",
       "            <td style=\"padding: 0 1em 0 0.5em; text-align: right; border: none;\">\n",
       "                0\n",
       "                \n",
       "                    &plusmn; 0.0000\n",
       "                \n",
       "            </td>\n",
       "            <td style=\"padding: 0 0.5em 0 0.5em; text-align: left; border: none;\">\n",
       "                x95\n",
       "            </td>\n",
       "        </tr>\n",
       "    \n",
       "        <tr style=\"background-color: hsl(0, 100.00%, 100.00%); border: none;\">\n",
       "            <td style=\"padding: 0 1em 0 0.5em; text-align: right; border: none;\">\n",
       "                0\n",
       "                \n",
       "                    &plusmn; 0.0000\n",
       "                \n",
       "            </td>\n",
       "            <td style=\"padding: 0 0.5em 0 0.5em; text-align: left; border: none;\">\n",
       "                x93\n",
       "            </td>\n",
       "        </tr>\n",
       "    \n",
       "        <tr style=\"background-color: hsl(0, 100.00%, 100.00%); border: none;\">\n",
       "            <td style=\"padding: 0 1em 0 0.5em; text-align: right; border: none;\">\n",
       "                0\n",
       "                \n",
       "                    &plusmn; 0.0000\n",
       "                \n",
       "            </td>\n",
       "            <td style=\"padding: 0 0.5em 0 0.5em; text-align: left; border: none;\">\n",
       "                x92\n",
       "            </td>\n",
       "        </tr>\n",
       "    \n",
       "        <tr style=\"background-color: hsl(0, 100.00%, 100.00%); border: none;\">\n",
       "            <td style=\"padding: 0 1em 0 0.5em; text-align: right; border: none;\">\n",
       "                0\n",
       "                \n",
       "                    &plusmn; 0.0000\n",
       "                \n",
       "            </td>\n",
       "            <td style=\"padding: 0 0.5em 0 0.5em; text-align: left; border: none;\">\n",
       "                x79\n",
       "            </td>\n",
       "        </tr>\n",
       "    \n",
       "        <tr style=\"background-color: hsl(0, 100.00%, 100.00%); border: none;\">\n",
       "            <td style=\"padding: 0 1em 0 0.5em; text-align: right; border: none;\">\n",
       "                0\n",
       "                \n",
       "                    &plusmn; 0.0000\n",
       "                \n",
       "            </td>\n",
       "            <td style=\"padding: 0 0.5em 0 0.5em; text-align: left; border: none;\">\n",
       "                x90\n",
       "            </td>\n",
       "        </tr>\n",
       "    \n",
       "        <tr style=\"background-color: hsl(0, 100.00%, 100.00%); border: none;\">\n",
       "            <td style=\"padding: 0 1em 0 0.5em; text-align: right; border: none;\">\n",
       "                0\n",
       "                \n",
       "                    &plusmn; 0.0000\n",
       "                \n",
       "            </td>\n",
       "            <td style=\"padding: 0 0.5em 0 0.5em; text-align: left; border: none;\">\n",
       "                x105\n",
       "            </td>\n",
       "        </tr>\n",
       "    \n",
       "        <tr style=\"background-color: hsl(0, 100.00%, 100.00%); border: none;\">\n",
       "            <td style=\"padding: 0 1em 0 0.5em; text-align: right; border: none;\">\n",
       "                0\n",
       "                \n",
       "                    &plusmn; 0.0000\n",
       "                \n",
       "            </td>\n",
       "            <td style=\"padding: 0 0.5em 0 0.5em; text-align: left; border: none;\">\n",
       "                x89\n",
       "            </td>\n",
       "        </tr>\n",
       "    \n",
       "        <tr style=\"background-color: hsl(0, 100.00%, 100.00%); border: none;\">\n",
       "            <td style=\"padding: 0 1em 0 0.5em; text-align: right; border: none;\">\n",
       "                0\n",
       "                \n",
       "                    &plusmn; 0.0000\n",
       "                \n",
       "            </td>\n",
       "            <td style=\"padding: 0 0.5em 0 0.5em; text-align: left; border: none;\">\n",
       "                x94\n",
       "            </td>\n",
       "        </tr>\n",
       "    \n",
       "        <tr style=\"background-color: hsl(0, 100.00%, 100.00%); border: none;\">\n",
       "            <td style=\"padding: 0 1em 0 0.5em; text-align: right; border: none;\">\n",
       "                0\n",
       "                \n",
       "                    &plusmn; 0.0000\n",
       "                \n",
       "            </td>\n",
       "            <td style=\"padding: 0 0.5em 0 0.5em; text-align: left; border: none;\">\n",
       "                x135\n",
       "            </td>\n",
       "        </tr>\n",
       "    \n",
       "    \n",
       "        \n",
       "            <tr style=\"background-color: hsl(0, 100.00%, 100.00%); border: none;\">\n",
       "                <td colspan=\"2\" style=\"padding: 0 0.5em 0 0.5em; text-align: center; border: none; white-space: nowrap;\">\n",
       "                    <i>&hellip; 250 more &hellip;</i>\n",
       "                </td>\n",
       "            </tr>\n",
       "        \n",
       "    \n",
       "    </tbody>\n",
       "</table>\n",
       "    \n",
       "\n",
       "    \n",
       "\n",
       "\n",
       "    \n",
       "\n",
       "    \n",
       "\n",
       "    \n",
       "\n",
       "    \n",
       "\n",
       "    \n",
       "\n",
       "    \n",
       "\n",
       "\n",
       "\n"
      ],
      "text/plain": [
       "<IPython.core.display.HTML object>"
      ]
     },
     "execution_count": 32,
     "metadata": {},
     "output_type": "execute_result"
    }
   ],
   "source": [
    "model = LogisticRegression(C=0.1, solver='liblinear', penalty='l1', class_weight='balanced')\n",
    "_, _, _ = train_model(train_data, train_label, val_data, params=None, model= model, folds=repeatedfolds)\n",
    "perm = PermutationImportance(model, random_state = 1).fit(train_data, train_label)\n",
    "eli5.show_weights(perm, top=50)"
   ]
  },
  {
   "cell_type": "code",
   "execution_count": 33,
   "metadata": {
    "ExecuteTime": {
     "end_time": "2019-06-25T10:36:42.059548Z",
     "start_time": "2019-06-25T10:36:38.852371Z"
    }
   },
   "outputs": [
    {
     "name": "stdout",
     "output_type": "stream",
     "text": [
      "CV mean score: 0.8768, std: 0.1109.\n"
     ]
    },
    {
     "data": {
      "text/html": [
       "<a href=submission3.csv>Download CSV file</a>"
      ],
      "text/plain": [
       "<IPython.core.display.HTML object>"
      ]
     },
     "execution_count": 33,
     "metadata": {},
     "output_type": "execute_result"
    }
   ],
   "source": [
    "top_feature = [int(i[1:]) for i in eli5.formatters.as_dataframe.explain_weights_df(model).feature if 'BIAS' not in i]\n",
    "x_train = train_data[:, top_feature]\n",
    "x_test = test.iloc[:,top_feature]\n",
    "sc = StandardScaler()\n",
    "x_train = sc.fit_transform(x_train)\n",
    "x_test = sc.transform(x_test)\n",
    "model = LogisticRegression(C=0.1, solver='liblinear', penalty='l2', class_weight ='balanced')\n",
    "oof6, score6, predition6 = train_model(x_train, train_label, x_test, params=None, model= model, folds=repeatedfolds)\n",
    "submission = pd.DataFrame({'id':test.id, 'target':predition6})\n",
    "submission.to_csv('submission3.csv', index = False)\n",
    "create_download_link(filename='submission3.csv')"
   ]
  },
  {
   "cell_type": "code",
   "execution_count": 34,
   "metadata": {
    "ExecuteTime": {
     "end_time": "2019-06-25T10:36:54.442839Z",
     "start_time": "2019-06-25T10:36:48.727400Z"
    }
   },
   "outputs": [
    {
     "name": "stdout",
     "output_type": "stream",
     "text": [
      "CV mean score: 0.6853, std: 0.1479.\n"
     ]
    },
    {
     "name": "stderr",
     "output_type": "stream",
     "text": [
      "/home/yas/anaconda3/lib/python3.7/site-packages/shap/explainers/linear.py:49: UserWarning:\n",
      "\n",
      "The default value for feature_dependence has been changed to \"independent\"!\n",
      "\n"
     ]
    },
    {
     "data": {
      "image/png": "[encoded data removed]",
      "text/plain": [
       "<Figure size 576x684 with 2 Axes>"
      ]
     },
     "metadata": {
      "needs_background": "light"
     },
     "output_type": "display_data"
    }
   ],
   "source": [
    "model = LogisticRegression(C= 0.1, solver = 'liblinear', penalty='l2', class_weight='balanced')\n",
    "sc = StandardScaler()\n",
    "x_train = sc.fit_transform(train_data)\n",
    "x_val = sc.transform(val_data)\n",
    "oof6, score6, predition6 = train_model(x_train, train_label, x_val, params=None, model= model, folds=repeatedfolds)\n",
    "explainer = shap.LinearExplainer(model, x_train)\n",
    "shap_values = explainer.shap_values(x_train)\n",
    "shap.summary_plot(shap_values, x_train)"
   ]
  },
  {
   "cell_type": "code",
   "execution_count": 35,
   "metadata": {
    "ExecuteTime": {
     "end_time": "2019-06-25T10:39:53.184502Z",
     "start_time": "2019-06-25T10:37:01.729953Z"
    }
   },
   "outputs": [],
   "source": [
    "sfs1 = SFS(model, k_features=(10, 15), forward=True, floating=True, scoring='roc_auc', cv= folds)\n",
    "sfs1 = sfs1.fit(x_train, train_label)"
   ]
  },
  {
   "cell_type": "code",
   "execution_count": 36,
   "metadata": {
    "ExecuteTime": {
     "end_time": "2019-06-25T10:40:00.115324Z",
     "start_time": "2019-06-25T10:39:59.944547Z"
    }
   },
   "outputs": [
    {
     "data": {
      "image/png": "[encoded data removed]",
      "text/plain": [
       "<Figure size 432x288 with 1 Axes>"
      ]
     },
     "metadata": {
      "needs_background": "light"
     },
     "output_type": "display_data"
    }
   ],
   "source": [
    "fig = plot_sfs(sfs1.get_metric_dict(), kind='std_dev')\n",
    "plt.grid()\n",
    "plt.show()"
   ]
  },
  {
   "cell_type": "code",
   "execution_count": 37,
   "metadata": {
    "ExecuteTime": {
     "end_time": "2019-06-25T10:40:03.548184Z",
     "start_time": "2019-06-25T10:40:02.512206Z"
    }
   },
   "outputs": [
    {
     "name": "stdout",
     "output_type": "stream",
     "text": [
      "CV mean score: 0.7849, std: 0.1388.\n"
     ]
    }
   ],
   "source": [
    "top_feature = [int(i) for i in sfs1.k_feature_names_]\n",
    "x_train = train_data[:, top_feature]\n",
    "x_val = val_data[:,top_feature]\n",
    "sc = StandardScaler()\n",
    "x_train = sc.fit_transform(x_train)\n",
    "x_val = sc.transform(x_val)\n",
    "model = LogisticRegression(C=0.1, solver='liblinear', penalty='l2', class_weight ='balanced')\n",
    "oof6, score6, _ = train_model(x_train, train_label, x_val, params=None, model= model, folds=repeatedfolds)"
   ]
  },
  {
   "cell_type": "code",
   "execution_count": 38,
   "metadata": {
    "ExecuteTime": {
     "end_time": "2019-06-25T10:40:07.166946Z",
     "start_time": "2019-06-25T10:40:07.162634Z"
    }
   },
   "outputs": [],
   "source": [
    "sc = StandardScaler()\n",
    "x_train = sc.fit_transform(train_data)\n",
    "x_val = sc.transform(val_data)"
   ]
  },
  {
   "cell_type": "code",
   "execution_count": 40,
   "metadata": {
    "ExecuteTime": {
     "end_time": "2019-06-25T10:40:59.522641Z",
     "start_time": "2019-06-25T10:40:53.300906Z"
    }
   },
   "outputs": [
    {
     "name": "stdout",
     "output_type": "stream",
     "text": [
      "best score  0.7550595238095238\n",
      "best params  {'C': 1, 'class_weight': 'balanced', 'penalty': 'l2', 'solver': 'newton-cg'}\n"
     ]
    },
    {
     "name": "stderr",
     "output_type": "stream",
     "text": [
      "/home/yas/anaconda3/lib/python3.7/site-packages/sklearn/model_selection/_search.py:841: DeprecationWarning:\n",
      "\n",
      "The default of the `iid` parameter will change from True to False in version 0.22 and will be removed in 0.24. This will change numeric results when test-set sizes are unequal.\n",
      "\n"
     ]
    }
   ],
   "source": [
    "model = LogisticRegression(solver='liblinear', max_iter=100)\n",
    "params = {'penalty' : [\"l2\"],\n",
    "          'C': [0.01, 0.1, 1, 10],\n",
    "          'class_weight' : ['balanced', None],\n",
    "          'solver': ['newton-cg', 'lbfgs']}\n",
    "model = GridSearchCV(model, params, cv=folds, scoring='roc_auc')\n",
    "model.fit(x_train, train_label)\n",
    "print(\"best score \", model.best_score_)\n",
    "print(\"best params \", model.best_params_)"
   ]
  },
  {
   "cell_type": "code",
   "execution_count": 41,
   "metadata": {
    "ExecuteTime": {
     "end_time": "2019-06-25T10:41:47.694468Z",
     "start_time": "2019-06-25T10:41:40.050061Z"
    }
   },
   "outputs": [
    {
     "name": "stdout",
     "output_type": "stream",
     "text": [
      "CV mean score: 0.6864, std: 0.1493.\n"
     ]
    }
   ],
   "source": [
    "model = LogisticRegression(solver='liblinear', C=20, max_iter=10000, penalty='l2')\n",
    "oof6, score_lr, _ = train_model(x_train, train_label, x_val, params=None, model= model, folds=repeatedfolds)"
   ]
  },
  {
   "cell_type": "code",
   "execution_count": 42,
   "metadata": {
    "ExecuteTime": {
     "end_time": "2019-06-25T10:42:22.492896Z",
     "start_time": "2019-06-25T10:41:55.501552Z"
    }
   },
   "outputs": [
    {
     "name": "stdout",
     "output_type": "stream",
     "text": [
      "CV mean score: 0.6775, std: 0.1470.\n"
     ]
    }
   ],
   "source": [
    "from sklearn.svm import SVC\n",
    "model_svm = SVC()\n",
    "grid_params = {'C':[0.01, 0.03, 0.09, 0.5],\n",
    "               'kernel':['rbf', 'linear', 'poly']}\n",
    "grid_model = GridSearchCV(model_svm, grid_params, cv=folds, n_jobs=-1)\n",
    "grid_model.fit(x_train, train_label)\n",
    "print(\"best parameters :\", grid_model.best_params_)\n",
    "print(\"best score :\", grid_model.best_score_)\n",
    "model = SVC(gamma = 'scale', probability =True,**grid_model.best_params_)\n",
    "_, score_svm, _ = train_model(x_train, train_label, x_val, params=None, model= model, folds=repeatedfolds)"
   ]
  },
  {
   "cell_type": "code",
   "execution_count": 43,
   "metadata": {
    "ExecuteTime": {
     "end_time": "2019-06-25T10:43:41.715804Z",
     "start_time": "2019-06-25T10:42:50.132106Z"
    },
    "scrolled": true
   },
   "outputs": [
    {
     "name": "stdout",
     "output_type": "stream",
     "text": [
      "CV mean score: 0.5850, std: 0.1536.\n"
     ]
    }
   ],
   "source": [
    "from sklearn.gaussian_process import GaussianProcessClassifier\n",
    "model_gpc = GaussianProcessClassifier()\n",
    "model = GaussianProcessClassifier()\n",
    "_, score_gpc, _ = train_model(x_train, train_label, x_val, params=None, model= model, folds=repeatedfolds)"
   ]
  },
  {
   "cell_type": "code",
   "execution_count": 43,
   "metadata": {},
   "outputs": [],
   "source": [
    "from sklearn.ensemble import RandomForestClassifier\n",
    "model_rf = RandomForestClassifier()\n",
    "grid_params = {'n_estimators': [10, 50, 100, 1000],\n",
    "                  'max_depth': [None, 3, 5, 15]\n",
    "                 }\n",
    "#grid_model = GridSearchCV(model_rf, grid_params, cv=folds, n_jobs=-1)\n",
    "#grid_model.fit(x_train, train_label)\n",
    "#print(\"best parameters :\", grid_model.best_params_)\n",
    "#print(\"best score :\", grid_model.best_score_)\n",
    "#model = RandomForestClassifier(**grid_model.best_params_)\n",
    "#_, score_rf, _ = train_model(x_train, train_label, x_val, params=None, model= model, folds=repeatedfolds)"
   ]
  },
  {
   "cell_type": "code",
   "execution_count": 46,
   "metadata": {
    "ExecuteTime": {
     "end_time": "2019-06-25T10:54:59.201936Z",
     "start_time": "2019-06-25T10:51:08.690198Z"
    }
   },
   "outputs": [
    {
     "name": "stdout",
     "output_type": "stream",
     "text": [
      "CV mean score: 0.5752, std: 0.1170.\n"
     ]
    }
   ],
   "source": [
    "from sklearn.ensemble import AdaBoostClassifier\n",
    "model_abc = AdaBoostClassifier()\n",
    "grid_params = {'n_estimators':[10, 100],\n",
    "               'learning_rate':[0.01, 0.3, 10]}\n",
    "grid_model = GridSearchCV(model_abc, grid_params, cv=folds, n_jobs=-1)\n",
    "grid_model.fit(x_train, train_label)\n",
    "\n",
    "print(\"best parameters :\", grid_model.best_params_)\n",
    "print(\"best score :\", grid_model.best_score_)\n",
    "model = AdaBoostClassifier(**grid_model.best_params_)\n",
    "_, score_abc, _ = train_model(x_train, train_label, x_val, params=None, model= model, folds=repeatedfolds)"
   ]
  },
  {
   "cell_type": "code",
   "execution_count": 47,
   "metadata": {
    "ExecuteTime": {
     "end_time": "2019-06-25T10:55:04.285270Z",
     "start_time": "2019-06-25T10:54:59.506377Z"
    }
   },
   "outputs": [
    {
     "name": "stdout",
     "output_type": "stream",
     "text": [
      "CV mean score: 0.5557, std: 0.1639.\n"
     ]
    }
   ],
   "source": [
    "from sklearn.ensemble import ExtraTreesClassifier\n",
    "etc = ExtraTreesClassifier()\n",
    "\n",
    "parameter_grid = {'class_weight': [None, 'balanced'],\n",
    "                  'max_depth': [None, 3, 5, 15]\n",
    "                 }\n",
    "\n",
    "grid_search = GridSearchCV(etc, param_grid=parameter_grid, cv=folds, scoring='roc_auc', n_jobs=-1)\n",
    "grid_search.fit(x_train, train_label)\n",
    "print('Best score: {}'.format(grid_search.best_score_))\n",
    "print('Best parameters: {}'.format(grid_search.best_params_))\n",
    "model = ExtraTreesClassifier(**grid_search.best_params_)\n",
    "_, score_etc, _ = train_model(x_train, train_label, x_val, params=None, model= model, folds=repeatedfolds)"
   ]
  },
  {
   "cell_type": "code",
   "execution_count": 48,
   "metadata": {
    "ExecuteTime": {
     "end_time": "2019-06-25T10:55:05.798908Z",
     "start_time": "2019-06-25T10:55:04.551638Z"
    }
   },
   "outputs": [
    {
     "name": "stdout",
     "output_type": "stream",
     "text": [
      "CV mean score: 0.6336, std: 0.1427.\n"
     ]
    }
   ],
   "source": [
    "from sklearn.naive_bayes import GaussianNB\n",
    "model = GaussianNB()\n",
    "_, score_gnb, _ = train_model(x_train, train_label, x_val, params=None, model= model, folds=repeatedfolds)"
   ]
  },
  {
   "cell_type": "code",
   "execution_count": 49,
   "metadata": {
    "ExecuteTime": {
     "end_time": "2019-06-25T10:55:10.324957Z",
     "start_time": "2019-06-25T10:55:06.127295Z"
    }
   },
   "outputs": [
    {
     "name": "stdout",
     "output_type": "stream",
     "text": [
      "CV mean score: 0.6600, std: 0.1511.\n"
     ]
    }
   ],
   "source": [
    "from sklearn.linear_model import SGDClassifier\n",
    "model_sgd = SGDClassifier(eta0=1, loss='log')\n",
    "grid_params = {'learning_rate':['optimal', 'invscaling'], \n",
    "               'class_weight': ['balanced', None],\n",
    "               'penalty':['l1', 'l2']}\n",
    "grid_model = GridSearchCV(model_sgd, grid_params, cv=folds, n_jobs=-1)\n",
    "grid_model.fit(x_train, train_label)\n",
    "print(\"best parameters :\", grid_model.best_params_)\n",
    "print(\"best score :\", grid_model.best_score_)\n",
    "model = SGDClassifier(eta0=1, loss='log', **grid_model.best_params_)\n",
    "_, score_sgd, _ = train_model(x_train, train_label, x_val, params=None, model= model, folds=repeatedfolds)"
   ]
  },
  {
   "cell_type": "code",
   "execution_count": 50,
   "metadata": {
    "ExecuteTime": {
     "end_time": "2019-06-25T10:55:22.930863Z",
     "start_time": "2019-06-25T10:55:10.676969Z"
    }
   },
   "outputs": [
    {
     "name": "stdout",
     "output_type": "stream",
     "text": [
      "CV mean score: 0.5829, std: 0.1241.\n"
     ]
    }
   ],
   "source": [
    "from sklearn.neighbors import KNeighborsClassifier\n",
    "\n",
    "model_knn = KNeighborsClassifier()\n",
    "\n",
    "grid_params = {'n_neighbors': [2, 3, 20],\n",
    "                  'weights': ['uniform', 'distance'],\n",
    "                  'leaf_size': [5, 10, 30]\n",
    "                 }\n",
    "grid_model = GridSearchCV(model_knn, grid_params, cv=folds, n_jobs=-1, scoring='roc_auc')\n",
    "\n",
    "grid_model.fit(x_train, train_label)\n",
    "print(\"best parameters :\", grid_model.best_params_)\n",
    "print(\"best score :\", grid_model.best_score_)\n",
    "model = KNeighborsClassifier(**grid_model.best_params_)\n",
    "_, score_knn, _ = train_model(x_train, train_label, x_val, params=None, model= model, folds=repeatedfolds)"
   ]
  },
  {
   "cell_type": "code",
   "execution_count": 51,
   "metadata": {
    "ExecuteTime": {
     "end_time": "2019-06-25T10:55:25.212008Z",
     "start_time": "2019-06-25T10:55:23.231629Z"
    }
   },
   "outputs": [
    {
     "name": "stdout",
     "output_type": "stream",
     "text": [
      "CV mean score: 0.6141, std: 0.1539.\n"
     ]
    }
   ],
   "source": [
    "from sklearn.naive_bayes import BernoulliNB\n",
    "model_bnb = BernoulliNB()\n",
    "grid_params = {'alpha':[0, 0.1, 1, 10],\n",
    "               'binarize':[0, 0.1, 1]}\n",
    "grid_model = GridSearchCV(model_bnb, grid_params, cv=folds, n_jobs=-1)\n",
    "grid_model.fit(x_train, train_label)\n",
    "print(\"best parameters :\", grid_model.best_params_)\n",
    "print(\"best score :\", grid_model.best_score_)\n",
    "model = BernoulliNB(**grid_model.best_params_)\n",
    "_, score_bnb, _ = train_model(x_train, train_label, x_val, params=None, model= model, folds=repeatedfolds)"
   ]
  },
  {
   "cell_type": "code",
   "execution_count": 53,
   "metadata": {
    "ExecuteTime": {
     "end_time": "2019-06-25T10:55:32.910300Z",
     "start_time": "2019-06-25T10:55:32.602468Z"
    }
   },
   "outputs": [
    {
     "data": {
      "text/plain": [
       "(array([0, 1, 2, 3, 4, 5, 6, 7, 8]), <a list of 9 Text xticklabel objects>)"
      ]
     },
     "execution_count": 53,
     "metadata": {},
     "output_type": "execute_result"
    },
    {
     "data": {
      "image/png": "[encoded data removed]",
      "text/plain": [
       "<Figure size 720x720 with 1 Axes>"
      ]
     },
     "metadata": {
      "needs_background": "light"
     },
     "output_type": "display_data"
    }
   ],
   "source": [
    "fig = plt.figure(figsize=(10, 10))\n",
    "box_data = pd.DataFrame({'linear regression': score_lr})\n",
    "box_data['SVM'] = score_svm\n",
    "box_data['stochastic gradient'] = score_sgd\n",
    "box_data['adaboost clf'] = score_abc\n",
    "box_data['extra tree classifer'] = score_etc\n",
    "#box_data['Random forest'] = score_rf\n",
    "box_data['Gaussian NB'] = score_gnb\n",
    "box_data['bernoulli NB'] = score_bnb\n",
    "box_data['K nearest neighbors'] = score_knn\n",
    "box_data['Gaussian Process Clf'] = score_gpc\n",
    "sns.boxplot(data=box_data)\n",
    "plt.xticks(rotation=45)"
   ]
  },
  {
   "cell_type": "code",
   "execution_count": 54,
   "metadata": {
    "ExecuteTime": {
     "end_time": "2019-06-25T10:55:39.853674Z",
     "start_time": "2019-06-25T10:55:39.085788Z"
    }
   },
   "outputs": [],
   "source": [
    "from sklearn.preprocessing import PolynomialFeatures\n",
    "poly = PolynomialFeatures(2)\n",
    "x_train = poly.fit_transform(train_data)\n",
    "x_val = poly.transform(val_data)"
   ]
  },
  {
   "cell_type": "code",
   "execution_count": 55,
   "metadata": {
    "ExecuteTime": {
     "end_time": "2019-06-25T10:55:40.875634Z",
     "start_time": "2019-06-25T10:55:40.872165Z"
    }
   },
   "outputs": [
    {
     "data": {
      "text/plain": [
       "((200, 45451), (50, 45451))"
      ]
     },
     "execution_count": 55,
     "metadata": {},
     "output_type": "execute_result"
    }
   ],
   "source": [
    "x_train.shape, x_val.shape"
   ]
  },
  {
   "cell_type": "code",
   "execution_count": 56,
   "metadata": {
    "ExecuteTime": {
     "end_time": "2019-06-25T10:55:58.222957Z",
     "start_time": "2019-06-25T10:55:43.735420Z"
    }
   },
   "outputs": [
    {
     "name": "stdout",
     "output_type": "stream",
     "text": [
      "CV mean score: 0.5292, std: 0.1564.\n"
     ]
    }
   ],
   "source": [
    "model = LogisticRegression(C=0.1, solver= 'liblinear', penalty='l1', class_weight='balanced')\n",
    "oof, score, pred = train_model(x_train, train_label, x_val, params=None,model=model)"
   ]
  },
  {
   "cell_type": "code",
   "execution_count": 58,
   "metadata": {
    "ExecuteTime": {
     "end_time": "2019-06-25T10:56:19.028406Z",
     "start_time": "2019-06-25T10:56:10.415620Z"
    }
   },
   "outputs": [],
   "source": [
    "corr = pd.DataFrame(x_train).corrwith(pd.Series(train_label))"
   ]
  },
  {
   "cell_type": "code",
   "execution_count": 59,
   "metadata": {
    "ExecuteTime": {
     "end_time": "2019-06-25T10:56:47.400661Z",
     "start_time": "2019-06-25T10:56:22.275304Z"
    }
   },
   "outputs": [
    {
     "name": "stdout",
     "output_type": "stream",
     "text": [
      "CV mean score: 0.6119, std: 0.1865.\n"
     ]
    }
   ],
   "source": [
    "scores = []\n",
    "for i in range(10, 500, 5):\n",
    "    feature = list(corr.abs().sort_values().tail(i).reset_index()['index'].values)\n",
    "    train = x_train[:,feature]\n",
    "    val = x_val[:, feature]\n",
    "    model = LogisticRegression(C=0.1, solver= 'liblinear', penalty='l1', class_weight='balanced')\n",
    "    _, score, _ = train_model(train, train_label, val, params=None, model= model)\n",
    "    scores.append(score)"
   ]
  },
  {
   "cell_type": "code",
   "execution_count": 60,
   "metadata": {
    "ExecuteTime": {
     "end_time": "2019-06-25T10:56:50.655881Z",
     "start_time": "2019-06-25T10:56:50.464902Z"
    }
   },
   "outputs": [
    {
     "data": {
      "application/vnd.plotly.v1+json": {
       "config": {
        "linkText": "Export to plot.ly",
        "plotlyServerURL": "https://plot.ly",
        "showLink": false
       },
       "data": [
        {
         "name": "CV scores",
         "type": "scatter",
         "uid": "7165a934-5b61-4360-85fb-5c7c745740b0",
         "x": [
          10,
          15,
          20,
          25,
          30,
          35,
          40,
          45,
          50,
          55,
          60,
          65,
          70,
          75,
          80,
          85,
          90,
          95,
          100,
          105,
          110,
          115,
          120,
          125,
          130,
          135,
          140,
          145,
          150,
          155,
          160,
          165,
          170,
          175,
          180,
          185,
          190,
          195,
          200,
          205,
          210,
          215,
          220,
          225,
          230,
          235,
          240,
          245,
          250,
          255,
          260,
          265,
          270,
          275,
          280,
          285,
          290,
          295,
          300,
          305,
          310,
          315,
          320,
          325,
          330,
          335,
          340,
          345,
          350,
          355,
          360,
          365,
          370,
          375,
          380,
          385,
          390,
          395,
          400,
          405,
          410,
          415,
          420,
          425,
          430,
          435,
          440,
          445,
          450,
          455,
          460,
          465,
          470,
          475,
          480,
          485,
          490,
          495
         ],
         "y": [
          0.7646,
          0.7896,
          0.8262,
          0.8324,
          0.8408,
          0.8354,
          0.8208,
          0.8366,
          0.8179,
          0.8128,
          0.8307,
          0.8068,
          0.8021,
          0.8083,
          0.7932,
          0.7932,
          0.7765,
          0.7744,
          0.7699,
          0.7699,
          0.7699,
          0.7813,
          0.7771,
          0.7667,
          0.7738,
          0.7536,
          0.7229,
          0.7312,
          0.7592,
          0.753,
          0.7488,
          0.7515,
          0.7583,
          0.7339,
          0.708,
          0.708,
          0.7024,
          0.6929,
          0.6815,
          0.6842,
          0.6801,
          0.6613,
          0.6613,
          0.6551,
          0.6557,
          0.6565,
          0.6565,
          0.6583,
          0.6548,
          0.6548,
          0.6423,
          0.6423,
          0.6443,
          0.6345,
          0.6289,
          0.6289,
          0.6351,
          0.6351,
          0.6351,
          0.6414,
          0.6351,
          0.6387,
          0.6345,
          0.6345,
          0.6262,
          0.631,
          0.631,
          0.6429,
          0.6429,
          0.647,
          0.647,
          0.633,
          0.6366,
          0.6366,
          0.6393,
          0.633,
          0.633,
          0.633,
          0.6393,
          0.633,
          0.6262,
          0.6262,
          0.6164,
          0.617,
          0.6134,
          0.6134,
          0.6134,
          0.6134,
          0.6098,
          0.6092,
          0.6092,
          0.6057,
          0.6119,
          0.6119,
          0.6119,
          0.6119,
          0.6119,
          0.6119
         ]
        }
       ],
       "layout": {
        "title": {
         "text": "Top N polynomial feature"
        },
        "xaxis": {
         "title": {
          "text": "number of features"
         }
        },
        "yaxis": {
         "title": {
          "text": "cv score"
         }
        }
       }
      },
      "text/html": [
       "<div>\n",
       "        \n",
       "        \n",
       "            <div id=\"639f9e05-bd73-4cf3-a247-d0cd96b5c03e\" class=\"plotly-graph-div\" style=\"height:525px; width:100%;\"></div>\n",
       "            <script type=\"text/javascript\">\n",
       "                require([\"plotly\"], function(Plotly) {\n",
       "                    window.PLOTLYENV=window.PLOTLYENV || {};\n",
       "                    window.PLOTLYENV.BASE_URL='https://plot.ly';\n",
       "                    \n",
       "                if (document.getElementById(\"639f9e05-bd73-4cf3-a247-d0cd96b5c03e\")) {\n",
       "                    Plotly.newPlot(\n",
       "                        '639f9e05-bd73-4cf3-a247-d0cd96b5c03e',\n",
       "                        [{\"name\": \"CV scores\", \"type\": \"scatter\", \"uid\": \"7165a934-5b61-4360-85fb-5c7c745740b0\", \"x\": [10, 15, 20, 25, 30, 35, 40, 45, 50, 55, 60, 65, 70, 75, 80, 85, 90, 95, 100, 105, 110, 115, 120, 125, 130, 135, 140, 145, 150, 155, 160, 165, 170, 175, 180, 185, 190, 195, 200, 205, 210, 215, 220, 225, 230, 235, 240, 245, 250, 255, 260, 265, 270, 275, 280, 285, 290, 295, 300, 305, 310, 315, 320, 325, 330, 335, 340, 345, 350, 355, 360, 365, 370, 375, 380, 385, 390, 395, 400, 405, 410, 415, 420, 425, 430, 435, 440, 445, 450, 455, 460, 465, 470, 475, 480, 485, 490, 495], \"y\": [0.7646, 0.7896, 0.8262, 0.8324, 0.8408, 0.8354, 0.8208, 0.8366, 0.8179, 0.8128, 0.8307, 0.8068, 0.8021, 0.8083, 0.7932, 0.7932, 0.7765, 0.7744, 0.7699, 0.7699, 0.7699, 0.7813, 0.7771, 0.7667, 0.7738, 0.7536, 0.7229, 0.7312, 0.7592, 0.753, 0.7488, 0.7515, 0.7583, 0.7339, 0.708, 0.708, 0.7024, 0.6929, 0.6815, 0.6842, 0.6801, 0.6613, 0.6613, 0.6551, 0.6557, 0.6565, 0.6565, 0.6583, 0.6548, 0.6548, 0.6423, 0.6423, 0.6443, 0.6345, 0.6289, 0.6289, 0.6351, 0.6351, 0.6351, 0.6414, 0.6351, 0.6387, 0.6345, 0.6345, 0.6262, 0.631, 0.631, 0.6429, 0.6429, 0.647, 0.647, 0.633, 0.6366, 0.6366, 0.6393, 0.633, 0.633, 0.633, 0.6393, 0.633, 0.6262, 0.6262, 0.6164, 0.617, 0.6134, 0.6134, 0.6134, 0.6134, 0.6098, 0.6092, 0.6092, 0.6057, 0.6119, 0.6119, 0.6119, 0.6119, 0.6119, 0.6119]}],\n",
       "                        {\"title\": {\"text\": \"Top N polynomial feature\"}, \"xaxis\": {\"title\": {\"text\": \"number of features\"}}, \"yaxis\": {\"title\": {\"text\": \"cv score\"}}},\n",
       "                        {\"showLink\": false, \"linkText\": \"Export to plot.ly\", \"plotlyServerURL\": \"https://plot.ly\", \"responsive\": true}\n",
       "                    ).then(function(){\n",
       "                            \n",
       "var gd = document.getElementById('639f9e05-bd73-4cf3-a247-d0cd96b5c03e');\n",
       "var x = new MutationObserver(function (mutations, observer) {{\n",
       "        var display = window.getComputedStyle(gd).display;\n",
       "        if (!display || display === 'none') {{\n",
       "            console.log([gd, 'removed!']);\n",
       "            Plotly.purge(gd);\n",
       "            observer.disconnect();\n",
       "        }}\n",
       "}});\n",
       "\n",
       "// Listen for the removal of the full notebook cells\n",
       "var notebookContainer = gd.closest('#notebook-container');\n",
       "if (notebookContainer) {{\n",
       "    x.observe(notebookContainer, {childList: true});\n",
       "}}\n",
       "\n",
       "// Listen for the clearing of the current output cell\n",
       "var outputEl = gd.closest('.output');\n",
       "if (outputEl) {{\n",
       "    x.observe(outputEl, {childList: true});\n",
       "}}\n",
       "\n",
       "                        })\n",
       "                };\n",
       "                });\n",
       "            </script>\n",
       "        </div>"
      ]
     },
     "metadata": {},
     "output_type": "display_data"
    }
   ],
   "source": [
    "data = [go.Scatter(x = list(range(10, 500, 5)),\n",
    "                  y = [np.round(np.mean(i), 4) for i in scores],\n",
    "                  name = 'CV scores')]\n",
    "layout = go.Layout(dict(title='Top N polynomial feature',\n",
    "                       xaxis = dict(title = \"number of features\"),\n",
    "                       yaxis = dict(title = \"cv score\"),))\n",
    "py.iplot(dict(data=data, layout=layout), filename='basic-line')"
   ]
  },
  {
   "cell_type": "code",
   "execution_count": 67,
   "metadata": {
    "ExecuteTime": {
     "end_time": "2019-06-25T10:59:11.635334Z",
     "start_time": "2019-06-25T10:59:11.632625Z"
    }
   },
   "outputs": [],
   "source": [
    "del x_val"
   ]
  },
  {
   "cell_type": "code",
   "execution_count": 72,
   "metadata": {
    "ExecuteTime": {
     "end_time": "2019-06-25T11:01:10.712408Z",
     "start_time": "2019-06-25T11:01:10.685288Z"
    }
   },
   "outputs": [],
   "source": [
    "xtrain = train_data\n",
    "xtest = test.drop(['id'], axis = 1)"
   ]
  },
  {
   "cell_type": "code",
   "execution_count": 73,
   "metadata": {
    "ExecuteTime": {
     "end_time": "2019-06-25T11:01:15.403774Z",
     "start_time": "2019-06-25T11:01:14.824322Z"
    }
   },
   "outputs": [
    {
     "name": "stdout",
     "output_type": "stream",
     "text": [
      "CV mean score: 0.7101, std: 0.1199.\n"
     ]
    }
   ],
   "source": [
    "xtrain = np.hstack((xtrain, xtrain.std(1).reshape(-1, 1)))\n",
    "xtest['300'] = xtest.std(1)\n",
    "sc = StandardScaler()\n",
    "xtrain[:, :300]  = sc.fit_transform(xtrain[:, :300])\n",
    "xtest[xtest.columns[:-1]]  = sc.transform(xtest[xtest.columns[:-1]])\n",
    "model = LogisticRegression(C = 0.1, solver = 'liblinear', class_weight='balanced', penalty = 'l1')\n",
    "oof, score, pred = train_model(xtrain, train_label, xtest, params = None, model= model)"
   ]
  },
  {
   "cell_type": "code",
   "execution_count": 74,
   "metadata": {
    "ExecuteTime": {
     "end_time": "2019-06-25T11:01:39.309497Z",
     "start_time": "2019-06-25T11:01:39.237312Z"
    }
   },
   "outputs": [
    {
     "data": {
      "text/html": [
       "<a href=submission5.csv>Download CSV file</a>"
      ],
      "text/plain": [
       "<IPython.core.display.HTML object>"
      ]
     },
     "execution_count": 74,
     "metadata": {},
     "output_type": "execute_result"
    }
   ],
   "source": [
    "submission = pd.DataFrame({'id':test.id})\n",
    "submission['target'] = pred\n",
    "submission.to_csv('submission5.csv', index= False)\n",
    "create_download_link(filename='submission5.csv')"
   ]
  },
  {
   "cell_type": "code",
   "execution_count": 76,
   "metadata": {
    "ExecuteTime": {
     "end_time": "2019-06-25T11:02:18.119876Z",
     "start_time": "2019-06-25T11:02:09.917599Z"
    }
   },
   "outputs": [
    {
     "name": "stdout",
     "output_type": "stream",
     "text": [
      "CV mean score: 0.6962, std: 0.1371.\n"
     ]
    },
    {
     "data": {
      "text/html": [
       "<a href=submission6.csv>Download CSV file</a>"
      ],
      "text/plain": [
       "<IPython.core.display.HTML object>"
      ]
     },
     "execution_count": 76,
     "metadata": {},
     "output_type": "execute_result"
    }
   ],
   "source": [
    "model = LogisticRegression(C = 0.1, solver = 'liblinear', class_weight='balanced', penalty = 'l1')\n",
    "oof, score, pred = train_model(xtrain, train_label, xtest, params = None, model= model, folds= repeatedfolds)\n",
    "submission = pd.DataFrame({'id':test.id})\n",
    "submission['target'] = pred\n",
    "submission.to_csv('submission6.csv', index= False)\n",
    "create_download_link(filename='submission6.csv')"
   ]
  },
  {
   "cell_type": "code",
   "execution_count": 77,
   "metadata": {
    "ExecuteTime": {
     "end_time": "2019-06-25T11:02:22.100792Z",
     "start_time": "2019-06-25T11:02:21.889635Z"
    }
   },
   "outputs": [],
   "source": [
    "xtest = test.drop('id', axis=1)\n",
    "xtrain = np.hstack((train_data, train_data.std(1).reshape(-1,1)))\n",
    "xtest['300'] = xtest.std(1)\n",
    "sc= StandardScaler()\n",
    "xtrain[:,:300] = sc.fit_transform(xtrain[:, :300])\n",
    "xtest.iloc[:,:300] = sc.transform(xtest.iloc[:, :300])"
   ]
  },
  {
   "cell_type": "code",
   "execution_count": 78,
   "metadata": {
    "ExecuteTime": {
     "end_time": "2019-06-25T11:02:24.273831Z",
     "start_time": "2019-06-25T11:02:24.249674Z"
    }
   },
   "outputs": [],
   "source": [
    "from sklearn.neighbors import NearestNeighbors\n",
    "NN = NearestNeighbors(n_neighbors=5)\n",
    "NN.fit(xtrain)\n",
    "dist, _ = NN.kneighbors(xtrain)\n",
    "mean_near = dist.mean(1)\n",
    "min_near = dist.min(1)\n",
    "max_near = dist.max(1)\n",
    "std_near = dist.std(1)"
   ]
  },
  {
   "cell_type": "code",
   "execution_count": 79,
   "metadata": {
    "ExecuteTime": {
     "end_time": "2019-06-25T11:02:26.276708Z",
     "start_time": "2019-06-25T11:02:26.272426Z"
    }
   },
   "outputs": [],
   "source": [
    "stats = np.hstack((mean_near.reshape(-1, 1), min_near.reshape(-1, 1), max_near.reshape(-1, 1), std_near.reshape(-1, 1)))"
   ]
  },
  {
   "cell_type": "code",
   "execution_count": 80,
   "metadata": {
    "ExecuteTime": {
     "end_time": "2019-06-25T11:02:28.220919Z",
     "start_time": "2019-06-25T11:02:28.215134Z"
    }
   },
   "outputs": [
    {
     "data": {
      "text/plain": [
       "(200, 4)"
      ]
     },
     "execution_count": 80,
     "metadata": {},
     "output_type": "execute_result"
    }
   ],
   "source": [
    "stats.shape"
   ]
  },
  {
   "cell_type": "code",
   "execution_count": 81,
   "metadata": {
    "ExecuteTime": {
     "end_time": "2019-06-25T11:02:32.156303Z",
     "start_time": "2019-06-25T11:02:30.482451Z"
    }
   },
   "outputs": [],
   "source": [
    "dist2, _ = NN.kneighbors(xtest)\n",
    "mean_near_test = dist2.mean(1)\n",
    "min_near_test = dist2.min(1)\n",
    "max_near_test = dist2.max(1)\n",
    "std_near_test = dist2.std(1)"
   ]
  },
  {
   "cell_type": "code",
   "execution_count": 82,
   "metadata": {
    "ExecuteTime": {
     "end_time": "2019-06-25T11:02:34.075779Z",
     "start_time": "2019-06-25T11:02:34.072348Z"
    }
   },
   "outputs": [],
   "source": [
    "stats_test = np.hstack((mean_near_test.reshape(-1, 1), \n",
    "                        min_near_test.reshape(-1, 1), \n",
    "                        max_near_test.reshape(-1, 1), \n",
    "                        std_near_test.reshape(-1, 1)))"
   ]
  },
  {
   "cell_type": "code",
   "execution_count": 83,
   "metadata": {
    "ExecuteTime": {
     "end_time": "2019-06-25T11:02:36.835204Z",
     "start_time": "2019-06-25T11:02:36.798195Z"
    }
   },
   "outputs": [],
   "source": [
    "xtrain = np.hstack((xtrain, stats))\n",
    "xtest = np.hstack((xtest, stats_test))"
   ]
  },
  {
   "cell_type": "code",
   "execution_count": 84,
   "metadata": {
    "ExecuteTime": {
     "end_time": "2019-06-25T11:02:51.947867Z",
     "start_time": "2019-06-25T11:02:51.397233Z"
    }
   },
   "outputs": [
    {
     "name": "stdout",
     "output_type": "stream",
     "text": [
      "CV mean score: 0.6542, std: 0.1217.\n"
     ]
    },
    {
     "data": {
      "text/html": [
       "<a href=submission7.csv>Download CSV file</a>"
      ],
      "text/plain": [
       "<IPython.core.display.HTML object>"
      ]
     },
     "execution_count": 84,
     "metadata": {},
     "output_type": "execute_result"
    }
   ],
   "source": [
    "model = LogisticRegression(C = 0.1, solver='liblinear', penalty='l1', class_weight='balanced')\n",
    "oof, score, pred = train_model(xtrain, train_label, xtest, model= model, params= None)\n",
    "submission = pd.DataFrame({'id':test.id})\n",
    "submission['target'] = pred\n",
    "submission.to_csv('submission7.csv', index= False)\n",
    "create_download_link(filename='submission7.csv')"
   ]
  },
  {
   "cell_type": "code",
   "execution_count": 85,
   "metadata": {
    "ExecuteTime": {
     "end_time": "2019-06-25T11:02:54.911239Z",
     "start_time": "2019-06-25T11:02:54.833858Z"
    }
   },
   "outputs": [],
   "source": [
    "from sklearn.feature_selection import f_classif, mutual_info_classif, SelectPercentile\n",
    "xtrain = train_data\n",
    "xtest = test.drop('id', axis = 1)\n",
    "sc = StandardScaler()\n",
    "xtrain = sc.fit_transform(xtrain)\n",
    "xtest = sc.transform(xtest)"
   ]
  },
  {
   "cell_type": "code",
   "execution_count": 86,
   "metadata": {
    "ExecuteTime": {
     "end_time": "2019-06-25T11:03:23.381190Z",
     "start_time": "2019-06-25T11:02:56.628461Z"
    }
   },
   "outputs": [
    {
     "name": "stdout",
     "output_type": "stream",
     "text": [
      "CV mean score: 0.7080, std: 0.1251.\n"
     ]
    }
   ],
   "source": [
    "scores = {'f_classif':[], 'mutual_info_classif':[]}\n",
    "for i in range(5, 100, 5):\n",
    "    model = LogisticRegression(C = 0.1, solver='liblinear', penalty='l1', class_weight='balanced')\n",
    "    select_fclass = SelectPercentile(f_classif, i)\n",
    "    X_train = select_fclass.fit_transform(xtrain, train_label.astype('int'))\n",
    "    X_test = select_fclass.transform(xtest)\n",
    "    _, scr, _ = train_model(X_train, train_label, X_test, model=model, params=None)\n",
    "    scores['f_classif'].append(np.mean(scr))\n",
    "for i in range(5, 100, 5):\n",
    "    model = LogisticRegression(C = 0.1, solver='liblinear', penalty='l1', class_weight='balanced')\n",
    "    select_fclass = SelectPercentile(mutual_info_classif, i)\n",
    "    X_train = select_fclass.fit_transform(xtrain, train_label.astype('int'))\n",
    "    X_test = select_fclass.transform(xtest)\n",
    "    _, scr, _ = train_model(X_train, train_label, X_test, model=model, params=None)\n",
    "    scores['mutual_info_classif'].append(np.mean(scr))    "
   ]
  },
  {
   "cell_type": "code",
   "execution_count": 87,
   "metadata": {
    "ExecuteTime": {
     "end_time": "2019-06-25T11:03:46.821413Z",
     "start_time": "2019-06-25T11:03:46.678020Z"
    }
   },
   "outputs": [
    {
     "data": {
      "application/vnd.plotly.v1+json": {
       "config": {
        "linkText": "Export to plot.ly",
        "plotlyServerURL": "https://plot.ly",
        "showLink": false
       },
       "data": [
        {
         "name": "f_classif",
         "type": "scatter",
         "uid": "bb64bbe9-edd5-49e4-a358-34e893b3b59f",
         "x": [
          5,
          10,
          15,
          20,
          25,
          30,
          35,
          40,
          45,
          50,
          55,
          60,
          65,
          70,
          75,
          80,
          85,
          90,
          95
         ],
         "y": [
          0.744345238095238,
          0.726190476190476,
          0.693452380952381,
          0.717857142857143,
          0.7288690476190476,
          0.7101190476190476,
          0.7101190476190476,
          0.7101190476190476,
          0.7101190476190476,
          0.7101190476190476,
          0.7101190476190476,
          0.7101190476190476,
          0.7101190476190476,
          0.7101190476190476,
          0.7101190476190476,
          0.7101190476190476,
          0.7101190476190476,
          0.7101190476190476,
          0.7101190476190476
         ]
        },
        {
         "name": "mutual_info_classif",
         "type": "scatter",
         "uid": "87858d55-d4e7-4732-8836-57c824b8f196",
         "x": [
          5,
          10,
          15,
          20,
          25,
          30,
          35,
          40,
          45,
          50,
          55,
          60,
          65,
          70,
          75,
          80,
          85,
          90,
          95
         ],
         "y": [
          0.5720238095238095,
          0.7020833333333334,
          0.6827380952380951,
          0.7541666666666668,
          0.7505952380952381,
          0.7541666666666667,
          0.7470238095238095,
          0.7428571428571428,
          0.7282738095238095,
          0.7282738095238095,
          0.7095238095238096,
          0.6985119047619047,
          0.712202380952381,
          0.7157738095238095,
          0.7157738095238095,
          0.7101190476190476,
          0.7101190476190476,
          0.718452380952381,
          0.7080357142857143
         ]
        }
       ],
       "layout": {
        "title": {
         "text": "top N feature"
        },
        "xaxis": {
         "title": {
          "text": "percentile"
         }
        },
        "yaxis": {
         "title": {
          "text": "score"
         }
        }
       }
      },
      "text/html": [
       "<div>\n",
       "        \n",
       "        \n",
       "            <div id=\"29ba5b45-624c-49a9-a1ad-8bf71d4533c6\" class=\"plotly-graph-div\" style=\"height:525px; width:100%;\"></div>\n",
       "            <script type=\"text/javascript\">\n",
       "                require([\"plotly\"], function(Plotly) {\n",
       "                    window.PLOTLYENV=window.PLOTLYENV || {};\n",
       "                    window.PLOTLYENV.BASE_URL='https://plot.ly';\n",
       "                    \n",
       "                if (document.getElementById(\"29ba5b45-624c-49a9-a1ad-8bf71d4533c6\")) {\n",
       "                    Plotly.newPlot(\n",
       "                        '29ba5b45-624c-49a9-a1ad-8bf71d4533c6',\n",
       "                        [{\"name\": \"f_classif\", \"type\": \"scatter\", \"uid\": \"bb64bbe9-edd5-49e4-a358-34e893b3b59f\", \"x\": [5, 10, 15, 20, 25, 30, 35, 40, 45, 50, 55, 60, 65, 70, 75, 80, 85, 90, 95], \"y\": [0.744345238095238, 0.726190476190476, 0.693452380952381, 0.717857142857143, 0.7288690476190476, 0.7101190476190476, 0.7101190476190476, 0.7101190476190476, 0.7101190476190476, 0.7101190476190476, 0.7101190476190476, 0.7101190476190476, 0.7101190476190476, 0.7101190476190476, 0.7101190476190476, 0.7101190476190476, 0.7101190476190476, 0.7101190476190476, 0.7101190476190476]}, {\"name\": \"mutual_info_classif\", \"type\": \"scatter\", \"uid\": \"87858d55-d4e7-4732-8836-57c824b8f196\", \"x\": [5, 10, 15, 20, 25, 30, 35, 40, 45, 50, 55, 60, 65, 70, 75, 80, 85, 90, 95], \"y\": [0.5720238095238095, 0.7020833333333334, 0.6827380952380951, 0.7541666666666668, 0.7505952380952381, 0.7541666666666667, 0.7470238095238095, 0.7428571428571428, 0.7282738095238095, 0.7282738095238095, 0.7095238095238096, 0.6985119047619047, 0.712202380952381, 0.7157738095238095, 0.7157738095238095, 0.7101190476190476, 0.7101190476190476, 0.718452380952381, 0.7080357142857143]}],\n",
       "                        {\"title\": {\"text\": \"top N feature\"}, \"xaxis\": {\"title\": {\"text\": \"percentile\"}}, \"yaxis\": {\"title\": {\"text\": \"score\"}}},\n",
       "                        {\"showLink\": false, \"linkText\": \"Export to plot.ly\", \"plotlyServerURL\": \"https://plot.ly\", \"responsive\": true}\n",
       "                    ).then(function(){\n",
       "                            \n",
       "var gd = document.getElementById('29ba5b45-624c-49a9-a1ad-8bf71d4533c6');\n",
       "var x = new MutationObserver(function (mutations, observer) {{\n",
       "        var display = window.getComputedStyle(gd).display;\n",
       "        if (!display || display === 'none') {{\n",
       "            console.log([gd, 'removed!']);\n",
       "            Plotly.purge(gd);\n",
       "            observer.disconnect();\n",
       "        }}\n",
       "}});\n",
       "\n",
       "// Listen for the removal of the full notebook cells\n",
       "var notebookContainer = gd.closest('#notebook-container');\n",
       "if (notebookContainer) {{\n",
       "    x.observe(notebookContainer, {childList: true});\n",
       "}}\n",
       "\n",
       "// Listen for the clearing of the current output cell\n",
       "var outputEl = gd.closest('.output');\n",
       "if (outputEl) {{\n",
       "    x.observe(outputEl, {childList: true});\n",
       "}}\n",
       "\n",
       "                        })\n",
       "                };\n",
       "                });\n",
       "            </script>\n",
       "        </div>"
      ]
     },
     "metadata": {},
     "output_type": "display_data"
    }
   ],
   "source": [
    "data = [go.Scatter(x=list(range(5, 100, 5)),\n",
    "                   y = scores['f_classif'],\n",
    "                   name = 'f_classif'),\n",
    "       go.Scatter(x = list(range(5, 100, 5)),\n",
    "                  y = scores['mutual_info_classif'],\n",
    "                  name = 'mutual_info_classif')]\n",
    "layout = go.Layout(dict(title='top N feature',\n",
    "                       xaxis=dict(title='percentile'),\n",
    "                       yaxis = dict(title='score')))\n",
    "py.iplot(dict(data=data, layout=layout), filename = 'basic-line')"
   ]
  },
  {
   "cell_type": "code",
   "execution_count": 88,
   "metadata": {
    "ExecuteTime": {
     "end_time": "2019-06-25T11:05:11.879794Z",
     "start_time": "2019-06-25T11:03:50.315580Z"
    }
   },
   "outputs": [
    {
     "name": "stdout",
     "output_type": "stream",
     "text": [
      "CV mean score: 0.7101, std: 0.1199.\n"
     ]
    }
   ],
   "source": [
    "from sklearn.feature_selection import SelectKBest\n",
    "scores = {'f_classif':[], 'mutual_info_classif':[]}\n",
    "for i in range(5, 301, 5):\n",
    "    skb = SelectKBest(f_classif, i)\n",
    "    X_train = skb.fit_transform(xtrain, train_label)\n",
    "    X_test = skb.transform(xtest)\n",
    "    _, scr, _ = train_model(X_train, train_label, X_test, model = model, params = None)\n",
    "    scores['f_classif'].append(np.mean(scr))\n",
    "    skb = SelectKBest(mutual_info_classif, i)\n",
    "    X_train = skb.fit_transform(xtrain, train_label)\n",
    "    X_test = skb.transform(xtest)\n",
    "    _, scr, _ = train_model(X_train, train_label, X_test, model = model, params = None)\n",
    "    scores['mutual_info_classif'].append(np.mean(scr))"
   ]
  },
  {
   "cell_type": "code",
   "execution_count": 89,
   "metadata": {
    "ExecuteTime": {
     "end_time": "2019-06-25T11:05:33.119491Z",
     "start_time": "2019-06-25T11:05:32.970037Z"
    }
   },
   "outputs": [
    {
     "data": {
      "application/vnd.plotly.v1+json": {
       "config": {
        "linkText": "Export to plot.ly",
        "plotlyServerURL": "https://plot.ly",
        "showLink": false
       },
       "data": [
        {
         "name": "f_classif",
         "type": "scatter",
         "uid": "a70b10dc-c4c0-4e8d-b664-8870edd25f7b",
         "x": [
          5,
          10,
          15,
          20,
          25,
          30,
          35,
          40,
          45,
          50,
          55,
          60,
          65,
          70,
          75,
          80,
          85,
          90,
          95,
          100,
          105,
          110,
          115,
          120,
          125,
          130,
          135,
          140,
          145,
          150,
          155,
          160,
          165,
          170,
          175,
          180,
          185,
          190,
          195,
          200,
          205,
          210,
          215,
          220,
          225,
          230,
          235,
          240,
          245,
          250,
          255,
          260,
          265,
          270,
          275,
          280,
          285,
          290,
          295,
          300
         ],
         "y": [
          0.7583333333333333,
          0.7431547619047618,
          0.744345238095238,
          0.7416666666666667,
          0.7318452380952383,
          0.726190476190476,
          0.7011904761904761,
          0.6830357142857142,
          0.693452380952381,
          0.7157738095238095,
          0.7157738095238095,
          0.717857142857143,
          0.7136904761904763,
          0.7184523809523811,
          0.7288690476190476,
          0.7101190476190476,
          0.7101190476190476,
          0.7101190476190476,
          0.7101190476190476,
          0.7101190476190476,
          0.7101190476190476,
          0.7101190476190476,
          0.7101190476190476,
          0.7101190476190476,
          0.7101190476190476,
          0.7101190476190476,
          0.7101190476190476,
          0.7101190476190476,
          0.7101190476190476,
          0.7101190476190476,
          0.7101190476190476,
          0.7101190476190476,
          0.7101190476190476,
          0.7101190476190476,
          0.7101190476190476,
          0.7101190476190476,
          0.7101190476190476,
          0.7101190476190476,
          0.7101190476190476,
          0.7101190476190476,
          0.7101190476190476,
          0.7101190476190476,
          0.7101190476190476,
          0.7101190476190476,
          0.7101190476190476,
          0.7101190476190476,
          0.7101190476190476,
          0.7101190476190476,
          0.7101190476190476,
          0.7101190476190476,
          0.7101190476190476,
          0.7101190476190476,
          0.7101190476190476,
          0.7101190476190476,
          0.7101190476190476,
          0.7101190476190476,
          0.7101190476190476,
          0.7101190476190476,
          0.7101190476190476,
          0.7101190476190476
         ]
        },
        {
         "name": "mutual_info_classif",
         "type": "scatter",
         "uid": "01672bdc-c158-4041-a918-f5a1119a6c8d",
         "x": [
          5,
          10,
          15,
          20,
          25,
          30,
          35,
          40,
          45,
          50,
          55,
          60,
          65,
          70,
          75,
          80,
          85,
          90,
          95,
          100,
          105,
          110,
          115,
          120,
          125,
          130,
          135,
          140,
          145,
          150,
          155,
          160,
          165,
          170,
          175,
          180,
          185,
          190,
          195,
          200,
          205,
          210,
          215,
          220,
          225,
          230,
          235,
          240,
          245,
          250,
          255,
          260,
          265,
          270,
          275,
          280,
          285,
          290,
          295,
          300
         ],
         "y": [
          0.5345238095238095,
          0.5761904761904761,
          0.5845238095238096,
          0.6285714285714287,
          0.6901785714285714,
          0.7020833333333334,
          0.7014880952380952,
          0.6946428571428571,
          0.6827380952380951,
          0.7372023809523809,
          0.731547619047619,
          0.7541666666666668,
          0.7541666666666668,
          0.7541666666666668,
          0.7541666666666668,
          0.7505952380952381,
          0.7505952380952381,
          0.7476190476190476,
          0.7407738095238096,
          0.7470238095238095,
          0.7470238095238095,
          0.7428571428571428,
          0.7428571428571428,
          0.7428571428571428,
          0.7428571428571428,
          0.7428571428571428,
          0.7428571428571428,
          0.7428571428571428,
          0.7282738095238095,
          0.7211309523809523,
          0.7282738095238095,
          0.7282738095238095,
          0.7282738095238095,
          0.7282738095238095,
          0.7288690476190476,
          0.7282738095238096,
          0.7276785714285714,
          0.7276785714285714,
          0.7276785714285714,
          0.7163690476190476,
          0.7163690476190476,
          0.7193452380952381,
          0.730952380952381,
          0.730952380952381,
          0.736607142857143,
          0.736607142857143,
          0.7407738095238096,
          0.7407738095238096,
          0.7407738095238096,
          0.744345238095238,
          0.7261904761904763,
          0.7261904761904763,
          0.7339285714285715,
          0.7360119047619048,
          0.7360119047619048,
          0.7241071428571428,
          0.7199404761904762,
          0.7267857142857144,
          0.7267857142857144,
          0.7101190476190476
         ]
        }
       ],
       "layout": {
        "title": {
         "text": "top feature using selectkbest"
        },
        "xaxis": {
         "title": {
          "text": "number of features"
         }
        },
        "yaxis": {
         "title": {
          "text": "score"
         }
        }
       }
      },
      "text/html": [
       "<div>\n",
       "        \n",
       "        \n",
       "            <div id=\"0c7e5ccd-ccbe-4bb4-a2d3-37f7981e71db\" class=\"plotly-graph-div\" style=\"height:525px; width:100%;\"></div>\n",
       "            <script type=\"text/javascript\">\n",
       "                require([\"plotly\"], function(Plotly) {\n",
       "                    window.PLOTLYENV=window.PLOTLYENV || {};\n",
       "                    window.PLOTLYENV.BASE_URL='https://plot.ly';\n",
       "                    \n",
       "                if (document.getElementById(\"0c7e5ccd-ccbe-4bb4-a2d3-37f7981e71db\")) {\n",
       "                    Plotly.newPlot(\n",
       "                        '0c7e5ccd-ccbe-4bb4-a2d3-37f7981e71db',\n",
       "                        [{\"name\": \"f_classif\", \"type\": \"scatter\", \"uid\": \"a70b10dc-c4c0-4e8d-b664-8870edd25f7b\", \"x\": [5, 10, 15, 20, 25, 30, 35, 40, 45, 50, 55, 60, 65, 70, 75, 80, 85, 90, 95, 100, 105, 110, 115, 120, 125, 130, 135, 140, 145, 150, 155, 160, 165, 170, 175, 180, 185, 190, 195, 200, 205, 210, 215, 220, 225, 230, 235, 240, 245, 250, 255, 260, 265, 270, 275, 280, 285, 290, 295, 300], \"y\": [0.7583333333333333, 0.7431547619047618, 0.744345238095238, 0.7416666666666667, 0.7318452380952383, 0.726190476190476, 0.7011904761904761, 0.6830357142857142, 0.693452380952381, 0.7157738095238095, 0.7157738095238095, 0.717857142857143, 0.7136904761904763, 0.7184523809523811, 0.7288690476190476, 0.7101190476190476, 0.7101190476190476, 0.7101190476190476, 0.7101190476190476, 0.7101190476190476, 0.7101190476190476, 0.7101190476190476, 0.7101190476190476, 0.7101190476190476, 0.7101190476190476, 0.7101190476190476, 0.7101190476190476, 0.7101190476190476, 0.7101190476190476, 0.7101190476190476, 0.7101190476190476, 0.7101190476190476, 0.7101190476190476, 0.7101190476190476, 0.7101190476190476, 0.7101190476190476, 0.7101190476190476, 0.7101190476190476, 0.7101190476190476, 0.7101190476190476, 0.7101190476190476, 0.7101190476190476, 0.7101190476190476, 0.7101190476190476, 0.7101190476190476, 0.7101190476190476, 0.7101190476190476, 0.7101190476190476, 0.7101190476190476, 0.7101190476190476, 0.7101190476190476, 0.7101190476190476, 0.7101190476190476, 0.7101190476190476, 0.7101190476190476, 0.7101190476190476, 0.7101190476190476, 0.7101190476190476, 0.7101190476190476, 0.7101190476190476]}, {\"name\": \"mutual_info_classif\", \"type\": \"scatter\", \"uid\": \"01672bdc-c158-4041-a918-f5a1119a6c8d\", \"x\": [5, 10, 15, 20, 25, 30, 35, 40, 45, 50, 55, 60, 65, 70, 75, 80, 85, 90, 95, 100, 105, 110, 115, 120, 125, 130, 135, 140, 145, 150, 155, 160, 165, 170, 175, 180, 185, 190, 195, 200, 205, 210, 215, 220, 225, 230, 235, 240, 245, 250, 255, 260, 265, 270, 275, 280, 285, 290, 295, 300], \"y\": [0.5345238095238095, 0.5761904761904761, 0.5845238095238096, 0.6285714285714287, 0.6901785714285714, 0.7020833333333334, 0.7014880952380952, 0.6946428571428571, 0.6827380952380951, 0.7372023809523809, 0.731547619047619, 0.7541666666666668, 0.7541666666666668, 0.7541666666666668, 0.7541666666666668, 0.7505952380952381, 0.7505952380952381, 0.7476190476190476, 0.7407738095238096, 0.7470238095238095, 0.7470238095238095, 0.7428571428571428, 0.7428571428571428, 0.7428571428571428, 0.7428571428571428, 0.7428571428571428, 0.7428571428571428, 0.7428571428571428, 0.7282738095238095, 0.7211309523809523, 0.7282738095238095, 0.7282738095238095, 0.7282738095238095, 0.7282738095238095, 0.7288690476190476, 0.7282738095238096, 0.7276785714285714, 0.7276785714285714, 0.7276785714285714, 0.7163690476190476, 0.7163690476190476, 0.7193452380952381, 0.730952380952381, 0.730952380952381, 0.736607142857143, 0.736607142857143, 0.7407738095238096, 0.7407738095238096, 0.7407738095238096, 0.744345238095238, 0.7261904761904763, 0.7261904761904763, 0.7339285714285715, 0.7360119047619048, 0.7360119047619048, 0.7241071428571428, 0.7199404761904762, 0.7267857142857144, 0.7267857142857144, 0.7101190476190476]}],\n",
       "                        {\"title\": {\"text\": \"top feature using selectkbest\"}, \"xaxis\": {\"title\": {\"text\": \"number of features\"}}, \"yaxis\": {\"title\": {\"text\": \"score\"}}},\n",
       "                        {\"showLink\": false, \"linkText\": \"Export to plot.ly\", \"plotlyServerURL\": \"https://plot.ly\", \"responsive\": true}\n",
       "                    ).then(function(){\n",
       "                            \n",
       "var gd = document.getElementById('0c7e5ccd-ccbe-4bb4-a2d3-37f7981e71db');\n",
       "var x = new MutationObserver(function (mutations, observer) {{\n",
       "        var display = window.getComputedStyle(gd).display;\n",
       "        if (!display || display === 'none') {{\n",
       "            console.log([gd, 'removed!']);\n",
       "            Plotly.purge(gd);\n",
       "            observer.disconnect();\n",
       "        }}\n",
       "}});\n",
       "\n",
       "// Listen for the removal of the full notebook cells\n",
       "var notebookContainer = gd.closest('#notebook-container');\n",
       "if (notebookContainer) {{\n",
       "    x.observe(notebookContainer, {childList: true});\n",
       "}}\n",
       "\n",
       "// Listen for the clearing of the current output cell\n",
       "var outputEl = gd.closest('.output');\n",
       "if (outputEl) {{\n",
       "    x.observe(outputEl, {childList: true});\n",
       "}}\n",
       "\n",
       "                        })\n",
       "                };\n",
       "                });\n",
       "            </script>\n",
       "        </div>"
      ]
     },
     "metadata": {},
     "output_type": "display_data"
    }
   ],
   "source": [
    "data = [go.Scatter(x = list(range(5, 301, 5)),\n",
    "                   y = scores['f_classif'],\n",
    "                   name = 'f_classif'),\n",
    "       go.Scatter(x = list(range(5, 301, 5)),\n",
    "                  y = scores['mutual_info_classif'],\n",
    "                  name = 'mutual_info_classif')]\n",
    "layout = go.Layout(dict(title= 'top feature using selectkbest',\n",
    "                        xaxis = dict(title= 'number of features'),\n",
    "                        yaxis = dict(title ='score')))\n",
    "py.iplot(dict(data=data, layout=layout))"
   ]
  },
  {
   "cell_type": "code",
   "execution_count": 90,
   "metadata": {
    "ExecuteTime": {
     "end_time": "2019-06-25T11:05:37.454128Z",
     "start_time": "2019-06-25T11:05:36.563575Z"
    }
   },
   "outputs": [
    {
     "name": "stdout",
     "output_type": "stream",
     "text": [
      "CV mean score: 0.7542, std: 0.1277.\n"
     ]
    }
   ],
   "source": [
    "selector = SelectKBest(mutual_info_classif, k=60)\n",
    "X_train = selector.fit_transform(xtrain, train_label)\n",
    "X_test = selector.transform(xtest)\n",
    "_, score, pred = train_model(X_train, train_label, X_test, model =model, params = None)"
   ]
  },
  {
   "cell_type": "code",
   "execution_count": 92,
   "metadata": {
    "ExecuteTime": {
     "end_time": "2019-06-25T11:05:45.230818Z",
     "start_time": "2019-06-25T11:05:45.158813Z"
    }
   },
   "outputs": [
    {
     "data": {
      "text/html": [
       "<a href=submission8.csv>Download CSV file</a>"
      ],
      "text/plain": [
       "<IPython.core.display.HTML object>"
      ]
     },
     "execution_count": 92,
     "metadata": {},
     "output_type": "execute_result"
    }
   ],
   "source": [
    "submission = pd.DataFrame({'id':test.id})\n",
    "submission['target'] = pred\n",
    "submission.to_csv('submission8.csv', index= False)\n",
    "create_download_link(filename='submission8.csv')"
   ]
  },
  {
   "cell_type": "code",
   "execution_count": 93,
   "metadata": {
    "ExecuteTime": {
     "end_time": "2019-06-25T11:06:39.842761Z",
     "start_time": "2019-06-25T11:05:57.789419Z"
    }
   },
   "outputs": [
    {
     "name": "stdout",
     "output_type": "stream",
     "text": [
      "CV mean score: 0.7101, std: 0.1199.\n"
     ]
    }
   ],
   "source": [
    "from sklearn.feature_selection import RFE\n",
    "scores = []\n",
    "for i in range(5, 301, 5):\n",
    "    rfe = RFE(model, i)\n",
    "    X_train = rfe.fit_transform(xtrain, train_label)\n",
    "    X_test = rfe.transform(xtest)\n",
    "    _, scr, _ = train_model(X_train, train_label, X_test, model = model, params= None)\n",
    "    scores.append(np.mean(scr))"
   ]
  },
  {
   "cell_type": "code",
   "execution_count": 94,
   "metadata": {
    "ExecuteTime": {
     "end_time": "2019-06-25T11:06:46.240809Z",
     "start_time": "2019-06-25T11:06:45.855100Z"
    }
   },
   "outputs": [
    {
     "data": {
      "application/vnd.plotly.v1+json": {
       "config": {
        "linkText": "Export to plot.ly",
        "plotlyServerURL": "https://plot.ly",
        "showLink": false
       },
       "data": [
        {
         "name": "rfe",
         "type": "scatter",
         "uid": "36a416ad-c7bc-42cf-9246-062b19834f24",
         "x": [
          5,
          10,
          15,
          20,
          25,
          30,
          35,
          40,
          45,
          50,
          55,
          60,
          65,
          70,
          75,
          80,
          85,
          90,
          95,
          100,
          105,
          110,
          115,
          120,
          125,
          130,
          135,
          140,
          145,
          150,
          155,
          160,
          165,
          170,
          175,
          180,
          185,
          190,
          195,
          200,
          205,
          210,
          215,
          220,
          225,
          230,
          235,
          240,
          245,
          250,
          255,
          260,
          265,
          270,
          275,
          280,
          285,
          290,
          295,
          300
         ],
         "y": [
          0.756547619047619,
          0.7723214285714286,
          0.7708333333333333,
          0.7458333333333333,
          0.7366071428571428,
          0.7247023809523809,
          0.712202380952381,
          0.712202380952381,
          0.712202380952381,
          0.7059523809523809,
          0.7101190476190476,
          0.7163690476190477,
          0.7163690476190477,
          0.7101190476190476,
          0.7163690476190477,
          0.7163690476190477,
          0.7101190476190476,
          0.7163690476190477,
          0.7163690476190477,
          0.7163690476190477,
          0.7101190476190476,
          0.7101190476190476,
          0.7101190476190476,
          0.7101190476190476,
          0.7101190476190476,
          0.7101190476190476,
          0.7142857142857143,
          0.7142857142857143,
          0.7142857142857143,
          0.7142857142857143,
          0.7142857142857143,
          0.7142857142857143,
          0.7142857142857143,
          0.7142857142857143,
          0.7142857142857143,
          0.7142857142857143,
          0.7142857142857143,
          0.7142857142857143,
          0.7142857142857143,
          0.7142857142857143,
          0.7142857142857143,
          0.7142857142857143,
          0.7142857142857143,
          0.7142857142857143,
          0.7142857142857143,
          0.7080357142857143,
          0.7080357142857143,
          0.7080357142857143,
          0.7080357142857143,
          0.7080357142857143,
          0.7080357142857143,
          0.7080357142857143,
          0.7080357142857143,
          0.7142857142857143,
          0.7142857142857143,
          0.7142857142857143,
          0.7101190476190476,
          0.7101190476190476,
          0.7101190476190476,
          0.7101190476190476
         ]
        }
       ],
       "layout": {
        "title": {
         "text": "top feature using rfe"
        },
        "xaxis": {
         "title": {
          "text": "number of features"
         }
        },
        "yaxis": {
         "title": {
          "text": "score"
         }
        }
       }
      },
      "text/html": [
       "<div>\n",
       "        \n",
       "        \n",
       "            <div id=\"f8b83cf8-a794-4a7b-a376-c215b4048b90\" class=\"plotly-graph-div\" style=\"height:525px; width:100%;\"></div>\n",
       "            <script type=\"text/javascript\">\n",
       "                require([\"plotly\"], function(Plotly) {\n",
       "                    window.PLOTLYENV=window.PLOTLYENV || {};\n",
       "                    window.PLOTLYENV.BASE_URL='https://plot.ly';\n",
       "                    \n",
       "                if (document.getElementById(\"f8b83cf8-a794-4a7b-a376-c215b4048b90\")) {\n",
       "                    Plotly.newPlot(\n",
       "                        'f8b83cf8-a794-4a7b-a376-c215b4048b90',\n",
       "                        [{\"name\": \"rfe\", \"type\": \"scatter\", \"uid\": \"36a416ad-c7bc-42cf-9246-062b19834f24\", \"x\": [5, 10, 15, 20, 25, 30, 35, 40, 45, 50, 55, 60, 65, 70, 75, 80, 85, 90, 95, 100, 105, 110, 115, 120, 125, 130, 135, 140, 145, 150, 155, 160, 165, 170, 175, 180, 185, 190, 195, 200, 205, 210, 215, 220, 225, 230, 235, 240, 245, 250, 255, 260, 265, 270, 275, 280, 285, 290, 295, 300], \"y\": [0.756547619047619, 0.7723214285714286, 0.7708333333333333, 0.7458333333333333, 0.7366071428571428, 0.7247023809523809, 0.712202380952381, 0.712202380952381, 0.712202380952381, 0.7059523809523809, 0.7101190476190476, 0.7163690476190477, 0.7163690476190477, 0.7101190476190476, 0.7163690476190477, 0.7163690476190477, 0.7101190476190476, 0.7163690476190477, 0.7163690476190477, 0.7163690476190477, 0.7101190476190476, 0.7101190476190476, 0.7101190476190476, 0.7101190476190476, 0.7101190476190476, 0.7101190476190476, 0.7142857142857143, 0.7142857142857143, 0.7142857142857143, 0.7142857142857143, 0.7142857142857143, 0.7142857142857143, 0.7142857142857143, 0.7142857142857143, 0.7142857142857143, 0.7142857142857143, 0.7142857142857143, 0.7142857142857143, 0.7142857142857143, 0.7142857142857143, 0.7142857142857143, 0.7142857142857143, 0.7142857142857143, 0.7142857142857143, 0.7142857142857143, 0.7080357142857143, 0.7080357142857143, 0.7080357142857143, 0.7080357142857143, 0.7080357142857143, 0.7080357142857143, 0.7080357142857143, 0.7080357142857143, 0.7142857142857143, 0.7142857142857143, 0.7142857142857143, 0.7101190476190476, 0.7101190476190476, 0.7101190476190476, 0.7101190476190476]}],\n",
       "                        {\"title\": {\"text\": \"top feature using rfe\"}, \"xaxis\": {\"title\": {\"text\": \"number of features\"}}, \"yaxis\": {\"title\": {\"text\": \"score\"}}},\n",
       "                        {\"showLink\": false, \"linkText\": \"Export to plot.ly\", \"plotlyServerURL\": \"https://plot.ly\", \"responsive\": true}\n",
       "                    ).then(function(){\n",
       "                            \n",
       "var gd = document.getElementById('f8b83cf8-a794-4a7b-a376-c215b4048b90');\n",
       "var x = new MutationObserver(function (mutations, observer) {{\n",
       "        var display = window.getComputedStyle(gd).display;\n",
       "        if (!display || display === 'none') {{\n",
       "            console.log([gd, 'removed!']);\n",
       "            Plotly.purge(gd);\n",
       "            observer.disconnect();\n",
       "        }}\n",
       "}});\n",
       "\n",
       "// Listen for the removal of the full notebook cells\n",
       "var notebookContainer = gd.closest('#notebook-container');\n",
       "if (notebookContainer) {{\n",
       "    x.observe(notebookContainer, {childList: true});\n",
       "}}\n",
       "\n",
       "// Listen for the clearing of the current output cell\n",
       "var outputEl = gd.closest('.output');\n",
       "if (outputEl) {{\n",
       "    x.observe(outputEl, {childList: true});\n",
       "}}\n",
       "\n",
       "                        })\n",
       "                };\n",
       "                });\n",
       "            </script>\n",
       "        </div>"
      ]
     },
     "metadata": {},
     "output_type": "display_data"
    }
   ],
   "source": [
    "data = [go.Scatter(x = list(range(5, 301, 5)),\n",
    "                   y = scores,\n",
    "                   name = 'rfe')]\n",
    "layout= go.Layout(dict(title='top feature using rfe',\n",
    "                      xaxis = dict(title='number of features'),\n",
    "                      yaxis = dict(title = 'score')))\n",
    "py.iplot(dict(data= data, layout=layout))"
   ]
  },
  {
   "cell_type": "code",
   "execution_count": 95,
   "metadata": {
    "ExecuteTime": {
     "end_time": "2019-06-25T11:06:54.862665Z",
     "start_time": "2019-06-25T11:06:54.184491Z"
    }
   },
   "outputs": [
    {
     "name": "stdout",
     "output_type": "stream",
     "text": [
      "CV mean score: 0.7708, std: 0.1398.\n"
     ]
    }
   ],
   "source": [
    "selector= RFE(model, 15)\n",
    "X_train = selector.fit_transform(xtrain, train_label)\n",
    "X_test = selector.transform(xtest)\n",
    "_, scr, pred = train_model(X_train, train_label, X_test, model= model, params= None)"
   ]
  },
  {
   "cell_type": "code",
   "execution_count": 96,
   "metadata": {
    "ExecuteTime": {
     "end_time": "2019-06-25T11:07:01.816114Z",
     "start_time": "2019-06-25T11:07:01.740543Z"
    }
   },
   "outputs": [
    {
     "data": {
      "text/html": [
       "<a href=submission9.csv>Download CSV file</a>"
      ],
      "text/plain": [
       "<IPython.core.display.HTML object>"
      ]
     },
     "execution_count": 96,
     "metadata": {},
     "output_type": "execute_result"
    }
   ],
   "source": [
    "submission = pd.DataFrame({'id':test.id})\n",
    "submission['target'] = pred\n",
    "submission.to_csv('submission9.csv', index= False)\n",
    "create_download_link(filename='submission9.csv')"
   ]
  },
  {
   "cell_type": "code",
   "execution_count": 124,
   "metadata": {
    "ExecuteTime": {
     "end_time": "2019-06-25T11:13:06.124222Z",
     "start_time": "2019-06-25T11:13:06.104883Z"
    }
   },
   "outputs": [
    {
     "data": {
      "text/plain": [
       "LogisticRegression(C=0.1, class_weight='balanced', dual=False,\n",
       "          fit_intercept=True, intercept_scaling=1, max_iter=100,\n",
       "          multi_class='warn', n_jobs=None, penalty='l2', random_state=None,\n",
       "          solver='liblinear', tol=0.0001, verbose=0, warm_start=False)"
      ]
     },
     "execution_count": 124,
     "metadata": {},
     "output_type": "execute_result"
    }
   ],
   "source": [
    "xtrain = train_data.copy()\n",
    "xtest = test.drop('id', axis=1)\n",
    "model = LogisticRegression(C=0.1, solver='liblinear', class_weight='balanced')\n",
    "model.fit(xtrain, train_label)"
   ]
  },
  {
   "cell_type": "code",
   "execution_count": 125,
   "metadata": {
    "ExecuteTime": {
     "end_time": "2019-06-25T11:13:06.995634Z",
     "start_time": "2019-06-25T11:13:06.982624Z"
    }
   },
   "outputs": [],
   "source": [
    "feature_weight = eli5.formatters.as_dataframe.explain_weights_df(model)\n",
    "feature_weight['weight'] = feature_weight['weight'].abs()\n",
    "feature_weight = feature_weight.sort_values('weight', ascending= False)"
   ]
  },
  {
   "cell_type": "code",
   "execution_count": 126,
   "metadata": {
    "ExecuteTime": {
     "end_time": "2019-06-25T11:13:07.887239Z",
     "start_time": "2019-06-25T11:13:07.879069Z"
    }
   },
   "outputs": [
    {
     "data": {
      "text/html": [
       "<div>\n",
       "<style scoped>\n",
       "    .dataframe tbody tr th:only-of-type {\n",
       "        vertical-align: middle;\n",
       "    }\n",
       "\n",
       "    .dataframe tbody tr th {\n",
       "        vertical-align: top;\n",
       "    }\n",
       "\n",
       "    .dataframe thead th {\n",
       "        text-align: right;\n",
       "    }\n",
       "</style>\n",
       "<table border=\"1\" class=\"dataframe\">\n",
       "  <thead>\n",
       "    <tr style=\"text-align: right;\">\n",
       "      <th></th>\n",
       "      <th>target</th>\n",
       "      <th>feature</th>\n",
       "      <th>weight</th>\n",
       "    </tr>\n",
       "  </thead>\n",
       "  <tbody>\n",
       "    <tr>\n",
       "      <th>0</th>\n",
       "      <td>1.0</td>\n",
       "      <td>x33</td>\n",
       "      <td>0.437711</td>\n",
       "    </tr>\n",
       "    <tr>\n",
       "      <th>1</th>\n",
       "      <td>1.0</td>\n",
       "      <td>x65</td>\n",
       "      <td>0.433608</td>\n",
       "    </tr>\n",
       "    <tr>\n",
       "      <th>2</th>\n",
       "      <td>1.0</td>\n",
       "      <td>&lt;BIAS&gt;</td>\n",
       "      <td>0.428185</td>\n",
       "    </tr>\n",
       "    <tr>\n",
       "      <th>3</th>\n",
       "      <td>1.0</td>\n",
       "      <td>x24</td>\n",
       "      <td>0.319395</td>\n",
       "    </tr>\n",
       "    <tr>\n",
       "      <th>300</th>\n",
       "      <td>1.0</td>\n",
       "      <td>x82</td>\n",
       "      <td>0.299113</td>\n",
       "    </tr>\n",
       "  </tbody>\n",
       "</table>\n",
       "</div>"
      ],
      "text/plain": [
       "     target feature    weight\n",
       "0       1.0     x33  0.437711\n",
       "1       1.0     x65  0.433608\n",
       "2       1.0  <BIAS>  0.428185\n",
       "3       1.0     x24  0.319395\n",
       "300     1.0     x82  0.299113"
      ]
     },
     "execution_count": 126,
     "metadata": {},
     "output_type": "execute_result"
    }
   ],
   "source": [
    "feature_weight.head()"
   ]
  },
  {
   "cell_type": "code",
   "execution_count": 127,
   "metadata": {
    "ExecuteTime": {
     "end_time": "2019-06-25T11:13:10.272073Z",
     "start_time": "2019-06-25T11:13:10.179304Z"
    }
   },
   "outputs": [],
   "source": [
    "xtrain = np.hstack((xtrain, xtrain.mean(1).reshape(-1,1)))\n",
    "xtest['mean'] = xtest.mean(1)\n",
    "xtrain = np.hstack((xtrain, xtrain.std(1).reshape(-1,1)))\n",
    "xtest['std'] = xtest.std(1)"
   ]
  },
  {
   "cell_type": "code",
   "execution_count": 128,
   "metadata": {
    "ExecuteTime": {
     "end_time": "2019-06-25T11:13:12.272221Z",
     "start_time": "2019-06-25T11:13:12.250316Z"
    }
   },
   "outputs": [
    {
     "data": {
      "text/html": [
       "<div>\n",
       "<style scoped>\n",
       "    .dataframe tbody tr th:only-of-type {\n",
       "        vertical-align: middle;\n",
       "    }\n",
       "\n",
       "    .dataframe tbody tr th {\n",
       "        vertical-align: top;\n",
       "    }\n",
       "\n",
       "    .dataframe thead th {\n",
       "        text-align: right;\n",
       "    }\n",
       "</style>\n",
       "<table border=\"1\" class=\"dataframe\">\n",
       "  <thead>\n",
       "    <tr style=\"text-align: right;\">\n",
       "      <th></th>\n",
       "      <th>0</th>\n",
       "      <th>1</th>\n",
       "      <th>2</th>\n",
       "      <th>3</th>\n",
       "      <th>4</th>\n",
       "      <th>5</th>\n",
       "      <th>6</th>\n",
       "      <th>7</th>\n",
       "      <th>8</th>\n",
       "      <th>9</th>\n",
       "      <th>...</th>\n",
       "      <th>292</th>\n",
       "      <th>293</th>\n",
       "      <th>294</th>\n",
       "      <th>295</th>\n",
       "      <th>296</th>\n",
       "      <th>297</th>\n",
       "      <th>298</th>\n",
       "      <th>299</th>\n",
       "      <th>mean</th>\n",
       "      <th>std</th>\n",
       "    </tr>\n",
       "  </thead>\n",
       "  <tbody>\n",
       "    <tr>\n",
       "      <th>0</th>\n",
       "      <td>0.188651</td>\n",
       "      <td>1.394180</td>\n",
       "      <td>0.719969</td>\n",
       "      <td>-1.603926</td>\n",
       "      <td>1.759982</td>\n",
       "      <td>-0.394620</td>\n",
       "      <td>-2.900234</td>\n",
       "      <td>0.994814</td>\n",
       "      <td>-0.579765</td>\n",
       "      <td>-1.720235</td>\n",
       "      <td>...</td>\n",
       "      <td>-0.409721</td>\n",
       "      <td>-0.595530</td>\n",
       "      <td>-0.885988</td>\n",
       "      <td>-0.781487</td>\n",
       "      <td>-0.451686</td>\n",
       "      <td>-0.330268</td>\n",
       "      <td>0.298779</td>\n",
       "      <td>-0.500114</td>\n",
       "      <td>0.031973</td>\n",
       "      <td>1.004298</td>\n",
       "    </tr>\n",
       "    <tr>\n",
       "      <th>1</th>\n",
       "      <td>0.474242</td>\n",
       "      <td>-0.843515</td>\n",
       "      <td>0.002057</td>\n",
       "      <td>2.209561</td>\n",
       "      <td>1.290588</td>\n",
       "      <td>0.436525</td>\n",
       "      <td>1.780788</td>\n",
       "      <td>0.818110</td>\n",
       "      <td>-0.962149</td>\n",
       "      <td>0.032150</td>\n",
       "      <td>...</td>\n",
       "      <td>-2.825270</td>\n",
       "      <td>-1.505804</td>\n",
       "      <td>0.539612</td>\n",
       "      <td>0.880086</td>\n",
       "      <td>-0.177276</td>\n",
       "      <td>0.086629</td>\n",
       "      <td>-1.023908</td>\n",
       "      <td>-0.046981</td>\n",
       "      <td>-0.010725</td>\n",
       "      <td>1.021393</td>\n",
       "    </tr>\n",
       "    <tr>\n",
       "      <th>2</th>\n",
       "      <td>-0.438814</td>\n",
       "      <td>-1.421728</td>\n",
       "      <td>0.922730</td>\n",
       "      <td>-0.614709</td>\n",
       "      <td>1.008364</td>\n",
       "      <td>0.289047</td>\n",
       "      <td>0.103365</td>\n",
       "      <td>0.199106</td>\n",
       "      <td>-0.306634</td>\n",
       "      <td>-1.009835</td>\n",
       "      <td>...</td>\n",
       "      <td>-1.149832</td>\n",
       "      <td>0.015434</td>\n",
       "      <td>-0.932255</td>\n",
       "      <td>0.583935</td>\n",
       "      <td>0.620826</td>\n",
       "      <td>1.331052</td>\n",
       "      <td>0.917909</td>\n",
       "      <td>-0.234738</td>\n",
       "      <td>0.055704</td>\n",
       "      <td>0.991229</td>\n",
       "    </tr>\n",
       "    <tr>\n",
       "      <th>3</th>\n",
       "      <td>-0.023978</td>\n",
       "      <td>0.205687</td>\n",
       "      <td>-0.072645</td>\n",
       "      <td>-1.183413</td>\n",
       "      <td>0.570328</td>\n",
       "      <td>0.765190</td>\n",
       "      <td>-0.039664</td>\n",
       "      <td>1.647424</td>\n",
       "      <td>0.843610</td>\n",
       "      <td>0.715983</td>\n",
       "      <td>...</td>\n",
       "      <td>-1.197027</td>\n",
       "      <td>-0.203649</td>\n",
       "      <td>-0.380907</td>\n",
       "      <td>0.345451</td>\n",
       "      <td>-0.959295</td>\n",
       "      <td>0.837880</td>\n",
       "      <td>-0.362080</td>\n",
       "      <td>-2.082932</td>\n",
       "      <td>-0.111368</td>\n",
       "      <td>0.973114</td>\n",
       "    </tr>\n",
       "    <tr>\n",
       "      <th>4</th>\n",
       "      <td>0.622248</td>\n",
       "      <td>-0.479752</td>\n",
       "      <td>1.122581</td>\n",
       "      <td>-0.116252</td>\n",
       "      <td>-0.113674</td>\n",
       "      <td>-0.950823</td>\n",
       "      <td>-0.835564</td>\n",
       "      <td>0.531916</td>\n",
       "      <td>0.737450</td>\n",
       "      <td>0.143334</td>\n",
       "      <td>...</td>\n",
       "      <td>-0.461207</td>\n",
       "      <td>0.025719</td>\n",
       "      <td>0.571421</td>\n",
       "      <td>0.224254</td>\n",
       "      <td>0.424818</td>\n",
       "      <td>0.031252</td>\n",
       "      <td>-0.437773</td>\n",
       "      <td>0.017003</td>\n",
       "      <td>-0.011011</td>\n",
       "      <td>0.974892</td>\n",
       "    </tr>\n",
       "  </tbody>\n",
       "</table>\n",
       "<p>5 rows × 302 columns</p>\n",
       "</div>"
      ],
      "text/plain": [
       "          0         1         2         3         4         5         6  \\\n",
       "0  0.188651  1.394180  0.719969 -1.603926  1.759982 -0.394620 -2.900234   \n",
       "1  0.474242 -0.843515  0.002057  2.209561  1.290588  0.436525  1.780788   \n",
       "2 -0.438814 -1.421728  0.922730 -0.614709  1.008364  0.289047  0.103365   \n",
       "3 -0.023978  0.205687 -0.072645 -1.183413  0.570328  0.765190 -0.039664   \n",
       "4  0.622248 -0.479752  1.122581 -0.116252 -0.113674 -0.950823 -0.835564   \n",
       "\n",
       "          7         8         9    ...          292       293       294  \\\n",
       "0  0.994814 -0.579765 -1.720235    ...    -0.409721 -0.595530 -0.885988   \n",
       "1  0.818110 -0.962149  0.032150    ...    -2.825270 -1.505804  0.539612   \n",
       "2  0.199106 -0.306634 -1.009835    ...    -1.149832  0.015434 -0.932255   \n",
       "3  1.647424  0.843610  0.715983    ...    -1.197027 -0.203649 -0.380907   \n",
       "4  0.531916  0.737450  0.143334    ...    -0.461207  0.025719  0.571421   \n",
       "\n",
       "        295       296       297       298       299      mean       std  \n",
       "0 -0.781487 -0.451686 -0.330268  0.298779 -0.500114  0.031973  1.004298  \n",
       "1  0.880086 -0.177276  0.086629 -1.023908 -0.046981 -0.010725  1.021393  \n",
       "2  0.583935  0.620826  1.331052  0.917909 -0.234738  0.055704  0.991229  \n",
       "3  0.345451 -0.959295  0.837880 -0.362080 -2.082932 -0.111368  0.973114  \n",
       "4  0.224254  0.424818  0.031252 -0.437773  0.017003 -0.011011  0.974892  \n",
       "\n",
       "[5 rows x 302 columns]"
      ]
     },
     "execution_count": 128,
     "metadata": {},
     "output_type": "execute_result"
    }
   ],
   "source": [
    "xtrain = pd.DataFrame(xtrain, columns=xtest.columns)\n",
    "xtrain.head()"
   ]
  },
  {
   "cell_type": "code",
   "execution_count": 122,
   "metadata": {
    "ExecuteTime": {
     "end_time": "2019-06-25T11:12:05.053968Z",
     "start_time": "2019-06-25T11:12:05.051345Z"
    }
   },
   "outputs": [],
   "source": [
    "xtest = xtest.values"
   ]
  },
  {
   "cell_type": "code",
   "execution_count": 136,
   "metadata": {
    "ExecuteTime": {
     "end_time": "2019-06-25T11:17:40.239645Z",
     "start_time": "2019-06-25T11:17:07.644832Z"
    }
   },
   "outputs": [
    {
     "name": "stdout",
     "output_type": "stream",
     "text": [
      "CV mean score: 0.8857, std: 0.1146.\n"
     ]
    }
   ],
   "source": [
    "scores = {'simple':[], 'mean':[], 'std': []}\n",
    "for i in range(1, 50):\n",
    "    top_features = [i[1:] for i in feature_weight['feature'] if 'BIAS' not in i][:i]\n",
    "    X_train = xtrain.loc[:,top_features]\n",
    "    X_test = xtest.loc[:,top_features]\n",
    "    _, scr, _ = train_model(X_train.values, train_label, X_test.values, model = model, params=None)\n",
    "    scores['simple'].append(np.mean(scr))\n",
    "    \n",
    "    X_train = xtrain.loc[:,top_features + ['mean']]\n",
    "    X_test = xtest.loc[:,top_features + ['mean']]\n",
    "    _, scr, _ = train_model(X_train.values, train_label, X_test.values, model = model, params=None)\n",
    "    scores['mean'].append(np.mean(scr))\n",
    "    \n",
    "    X_train = xtrain.loc[:,top_features + ['std']]\n",
    "    X_test = xtest.loc[:,top_features + ['std']]\n",
    "    _, scr, _ = train_model(X_train.values, train_label, X_test.values, model = model, params=None)\n",
    "    scores['std'].append(np.mean(scr))"
   ]
  },
  {
   "cell_type": "code",
   "execution_count": 137,
   "metadata": {
    "ExecuteTime": {
     "end_time": "2019-06-25T11:17:44.025125Z",
     "start_time": "2019-06-25T11:17:43.856606Z"
    }
   },
   "outputs": [
    {
     "data": {
      "application/vnd.plotly.v1+json": {
       "config": {
        "linkText": "Export to plot.ly",
        "plotlyServerURL": "https://plot.ly",
        "showLink": false
       },
       "data": [
        {
         "name": "Simple",
         "type": "scatter",
         "uid": "259f0b99-791f-4c1c-99d1-bd24556e498a",
         "x": [
          1,
          2,
          3,
          4,
          5,
          6,
          7,
          8,
          9,
          10,
          11,
          12,
          13,
          14,
          15,
          16,
          17,
          18,
          19,
          20,
          21,
          22,
          23,
          24,
          25,
          26,
          27,
          28,
          29,
          30,
          31,
          32,
          33,
          34,
          35,
          36,
          37,
          38,
          39,
          40,
          41,
          42,
          43,
          44,
          45,
          46,
          47,
          48,
          49
         ],
         "y": [
          0.6830357142857144,
          0.7431547619047619,
          0.75,
          0.7449404761904762,
          0.7348214285714285,
          0.7779761904761904,
          0.7913690476190476,
          0.7863095238095239,
          0.8101190476190476,
          0.8163690476190476,
          0.8235119047619047,
          0.823511904761905,
          0.7880952380952381,
          0.8151785714285713,
          0.8011904761904761,
          0.8360119047619048,
          0.8464285714285713,
          0.8422619047619045,
          0.837202380952381,
          0.8205357142857143,
          0.8511904761904763,
          0.851190476190476,
          0.831547619047619,
          0.825297619047619,
          0.7925595238095238,
          0.8157738095238095,
          0.8282738095238095,
          0.8491071428571428,
          0.8428571428571429,
          0.8345238095238094,
          0.8354166666666668,
          0.83125,
          0.8297619047619047,
          0.8339285714285716,
          0.8220238095238097,
          0.8166666666666667,
          0.8244047619047621,
          0.8348214285714286,
          0.8327380952380953,
          0.836309523809524,
          0.8529761904761906,
          0.8639880952380953,
          0.8502976190476191,
          0.8538690476190476,
          0.8633928571428571,
          0.8773809523809524,
          0.869047619047619,
          0.8744047619047617,
          0.8898809523809523
         ]
        },
        {
         "name": "Mean",
         "type": "scatter",
         "uid": "a08385b0-39e3-4628-92ae-e93b19b7fc61",
         "x": [
          1,
          2,
          3,
          4,
          5,
          6,
          7,
          8,
          9,
          10,
          11,
          12,
          13,
          14,
          15,
          16,
          17,
          18,
          19,
          20,
          21,
          22,
          23,
          24,
          25,
          26,
          27,
          28,
          29,
          30,
          31,
          32,
          33,
          34,
          35,
          36,
          37,
          38,
          39,
          40,
          41,
          42,
          43,
          44,
          45,
          46,
          47,
          48,
          49
         ],
         "y": [
          0.6913690476190477,
          0.7431547619047619,
          0.75,
          0.7449404761904762,
          0.7389880952380953,
          0.782142857142857,
          0.7913690476190476,
          0.7925595238095239,
          0.8101190476190476,
          0.8163690476190476,
          0.8235119047619047,
          0.823511904761905,
          0.7880952380952381,
          0.8089285714285713,
          0.8011904761904761,
          0.8360119047619048,
          0.8464285714285713,
          0.8422619047619045,
          0.837202380952381,
          0.8205357142857143,
          0.8511904761904763,
          0.851190476190476,
          0.831547619047619,
          0.825297619047619,
          0.7925595238095238,
          0.8157738095238095,
          0.8282738095238095,
          0.8491071428571428,
          0.8428571428571429,
          0.8345238095238094,
          0.8354166666666668,
          0.83125,
          0.8297619047619047,
          0.8339285714285716,
          0.8220238095238097,
          0.8166666666666667,
          0.8244047619047621,
          0.8348214285714286,
          0.8327380952380953,
          0.836309523809524,
          0.8529761904761906,
          0.8577380952380953,
          0.8502976190476191,
          0.8538690476190476,
          0.8633928571428571,
          0.8773809523809524,
          0.869047619047619,
          0.8744047619047617,
          0.8898809523809523
         ]
        },
        {
         "name": "std",
         "type": "scatter",
         "uid": "754e4d4e-a3cc-40b0-ae3a-bc790a00ac28",
         "x": [
          1,
          2,
          3,
          4,
          5,
          6,
          7,
          8,
          9,
          10,
          11,
          12,
          13,
          14,
          15,
          16,
          17,
          18,
          19,
          20,
          21,
          22,
          23,
          24,
          25,
          26,
          27,
          28,
          29,
          30,
          31,
          32,
          33,
          34,
          35,
          36,
          37,
          38,
          39,
          40,
          41,
          42,
          43,
          44,
          45,
          46,
          47,
          48,
          49
         ],
         "y": [
          0.6830357142857144,
          0.7473214285714286,
          0.75,
          0.7449404761904762,
          0.7389880952380953,
          0.7857142857142857,
          0.7934523809523808,
          0.7904761904761906,
          0.8101190476190476,
          0.8101190476190476,
          0.8151785714285715,
          0.823511904761905,
          0.7880952380952381,
          0.8005952380952379,
          0.7964285714285714,
          0.8297619047619047,
          0.8422619047619045,
          0.8360119047619048,
          0.8351190476190476,
          0.818452380952381,
          0.8491071428571428,
          0.8470238095238095,
          0.8273809523809523,
          0.825297619047619,
          0.7955357142857142,
          0.819345238095238,
          0.8303571428571427,
          0.8449404761904761,
          0.8401785714285716,
          0.8318452380952384,
          0.8354166666666668,
          0.83125,
          0.8258928571428573,
          0.8291666666666668,
          0.8270833333333334,
          0.8300595238095237,
          0.8264880952380953,
          0.8383928571428572,
          0.8488095238095239,
          0.8258928571428571,
          0.8571428571428571,
          0.8627976190476192,
          0.8476190476190476,
          0.849702380952381,
          0.8747023809523808,
          0.8648809523809524,
          0.8669642857142856,
          0.8898809523809522,
          0.8857142857142856
         ]
        }
       ],
       "layout": {
        "title": {
         "text": "Top Feature with stats"
        },
        "xaxis": {
         "title": {
          "text": "number of features"
         }
        },
        "yaxis": {
         "title": {
          "text": "score"
         }
        }
       }
      },
      "text/html": [
       "<div>\n",
       "        \n",
       "        \n",
       "            <div id=\"345fb05b-af3c-471b-bf3e-f109554dd452\" class=\"plotly-graph-div\" style=\"height:525px; width:100%;\"></div>\n",
       "            <script type=\"text/javascript\">\n",
       "                require([\"plotly\"], function(Plotly) {\n",
       "                    window.PLOTLYENV=window.PLOTLYENV || {};\n",
       "                    window.PLOTLYENV.BASE_URL='https://plot.ly';\n",
       "                    \n",
       "                if (document.getElementById(\"345fb05b-af3c-471b-bf3e-f109554dd452\")) {\n",
       "                    Plotly.newPlot(\n",
       "                        '345fb05b-af3c-471b-bf3e-f109554dd452',\n",
       "                        [{\"name\": \"Simple\", \"type\": \"scatter\", \"uid\": \"259f0b99-791f-4c1c-99d1-bd24556e498a\", \"x\": [1, 2, 3, 4, 5, 6, 7, 8, 9, 10, 11, 12, 13, 14, 15, 16, 17, 18, 19, 20, 21, 22, 23, 24, 25, 26, 27, 28, 29, 30, 31, 32, 33, 34, 35, 36, 37, 38, 39, 40, 41, 42, 43, 44, 45, 46, 47, 48, 49], \"y\": [0.6830357142857144, 0.7431547619047619, 0.75, 0.7449404761904762, 0.7348214285714285, 0.7779761904761904, 0.7913690476190476, 0.7863095238095239, 0.8101190476190476, 0.8163690476190476, 0.8235119047619047, 0.823511904761905, 0.7880952380952381, 0.8151785714285713, 0.8011904761904761, 0.8360119047619048, 0.8464285714285713, 0.8422619047619045, 0.837202380952381, 0.8205357142857143, 0.8511904761904763, 0.851190476190476, 0.831547619047619, 0.825297619047619, 0.7925595238095238, 0.8157738095238095, 0.8282738095238095, 0.8491071428571428, 0.8428571428571429, 0.8345238095238094, 0.8354166666666668, 0.83125, 0.8297619047619047, 0.8339285714285716, 0.8220238095238097, 0.8166666666666667, 0.8244047619047621, 0.8348214285714286, 0.8327380952380953, 0.836309523809524, 0.8529761904761906, 0.8639880952380953, 0.8502976190476191, 0.8538690476190476, 0.8633928571428571, 0.8773809523809524, 0.869047619047619, 0.8744047619047617, 0.8898809523809523]}, {\"name\": \"Mean\", \"type\": \"scatter\", \"uid\": \"a08385b0-39e3-4628-92ae-e93b19b7fc61\", \"x\": [1, 2, 3, 4, 5, 6, 7, 8, 9, 10, 11, 12, 13, 14, 15, 16, 17, 18, 19, 20, 21, 22, 23, 24, 25, 26, 27, 28, 29, 30, 31, 32, 33, 34, 35, 36, 37, 38, 39, 40, 41, 42, 43, 44, 45, 46, 47, 48, 49], \"y\": [0.6913690476190477, 0.7431547619047619, 0.75, 0.7449404761904762, 0.7389880952380953, 0.782142857142857, 0.7913690476190476, 0.7925595238095239, 0.8101190476190476, 0.8163690476190476, 0.8235119047619047, 0.823511904761905, 0.7880952380952381, 0.8089285714285713, 0.8011904761904761, 0.8360119047619048, 0.8464285714285713, 0.8422619047619045, 0.837202380952381, 0.8205357142857143, 0.8511904761904763, 0.851190476190476, 0.831547619047619, 0.825297619047619, 0.7925595238095238, 0.8157738095238095, 0.8282738095238095, 0.8491071428571428, 0.8428571428571429, 0.8345238095238094, 0.8354166666666668, 0.83125, 0.8297619047619047, 0.8339285714285716, 0.8220238095238097, 0.8166666666666667, 0.8244047619047621, 0.8348214285714286, 0.8327380952380953, 0.836309523809524, 0.8529761904761906, 0.8577380952380953, 0.8502976190476191, 0.8538690476190476, 0.8633928571428571, 0.8773809523809524, 0.869047619047619, 0.8744047619047617, 0.8898809523809523]}, {\"name\": \"std\", \"type\": \"scatter\", \"uid\": \"754e4d4e-a3cc-40b0-ae3a-bc790a00ac28\", \"x\": [1, 2, 3, 4, 5, 6, 7, 8, 9, 10, 11, 12, 13, 14, 15, 16, 17, 18, 19, 20, 21, 22, 23, 24, 25, 26, 27, 28, 29, 30, 31, 32, 33, 34, 35, 36, 37, 38, 39, 40, 41, 42, 43, 44, 45, 46, 47, 48, 49], \"y\": [0.6830357142857144, 0.7473214285714286, 0.75, 0.7449404761904762, 0.7389880952380953, 0.7857142857142857, 0.7934523809523808, 0.7904761904761906, 0.8101190476190476, 0.8101190476190476, 0.8151785714285715, 0.823511904761905, 0.7880952380952381, 0.8005952380952379, 0.7964285714285714, 0.8297619047619047, 0.8422619047619045, 0.8360119047619048, 0.8351190476190476, 0.818452380952381, 0.8491071428571428, 0.8470238095238095, 0.8273809523809523, 0.825297619047619, 0.7955357142857142, 0.819345238095238, 0.8303571428571427, 0.8449404761904761, 0.8401785714285716, 0.8318452380952384, 0.8354166666666668, 0.83125, 0.8258928571428573, 0.8291666666666668, 0.8270833333333334, 0.8300595238095237, 0.8264880952380953, 0.8383928571428572, 0.8488095238095239, 0.8258928571428571, 0.8571428571428571, 0.8627976190476192, 0.8476190476190476, 0.849702380952381, 0.8747023809523808, 0.8648809523809524, 0.8669642857142856, 0.8898809523809522, 0.8857142857142856]}],\n",
       "                        {\"title\": {\"text\": \"Top Feature with stats\"}, \"xaxis\": {\"title\": {\"text\": \"number of features\"}}, \"yaxis\": {\"title\": {\"text\": \"score\"}}},\n",
       "                        {\"showLink\": false, \"linkText\": \"Export to plot.ly\", \"plotlyServerURL\": \"https://plot.ly\", \"responsive\": true}\n",
       "                    ).then(function(){\n",
       "                            \n",
       "var gd = document.getElementById('345fb05b-af3c-471b-bf3e-f109554dd452');\n",
       "var x = new MutationObserver(function (mutations, observer) {{\n",
       "        var display = window.getComputedStyle(gd).display;\n",
       "        if (!display || display === 'none') {{\n",
       "            console.log([gd, 'removed!']);\n",
       "            Plotly.purge(gd);\n",
       "            observer.disconnect();\n",
       "        }}\n",
       "}});\n",
       "\n",
       "// Listen for the removal of the full notebook cells\n",
       "var notebookContainer = gd.closest('#notebook-container');\n",
       "if (notebookContainer) {{\n",
       "    x.observe(notebookContainer, {childList: true});\n",
       "}}\n",
       "\n",
       "// Listen for the clearing of the current output cell\n",
       "var outputEl = gd.closest('.output');\n",
       "if (outputEl) {{\n",
       "    x.observe(outputEl, {childList: true});\n",
       "}}\n",
       "\n",
       "                        })\n",
       "                };\n",
       "                });\n",
       "            </script>\n",
       "        </div>"
      ]
     },
     "metadata": {},
     "output_type": "display_data"
    }
   ],
   "source": [
    "data = [go.Scatter(x = list(range(1, 50)),\n",
    "                   y = scores['simple'],\n",
    "                   name = 'Simple'),\n",
    "        go.Scatter(x= list(range(1, 50)),\n",
    "                   y = scores['mean'],\n",
    "                   name = 'Mean'),\n",
    "        go.Scatter(x = list(range(1, 50)),\n",
    "                   y = scores['std'],\n",
    "                   name = 'std')]\n",
    "layout = go.Layout(dict(title='Top Feature with stats',\n",
    "                       xaxis = dict(title = 'number of features'),\n",
    "                       yaxis = dict(title = 'score')))\n",
    "py.iplot(dict(data=data, layout= layout))"
   ]
  },
  {
   "cell_type": "code",
   "execution_count": 141,
   "metadata": {
    "ExecuteTime": {
     "end_time": "2019-06-25T11:21:36.461425Z",
     "start_time": "2019-06-25T11:19:45.418972Z"
    }
   },
   "outputs": [
    {
     "name": "stdout",
     "output_type": "stream",
     "text": [
      "CV mean score: 0.8755, std: 0.1065.\n"
     ]
    }
   ],
   "source": [
    "scores = {'simple':[], 'mean':[], 'std': []}\n",
    "for i in range(1, 50, 5):\n",
    "    top_features = [i[1:] for i in feature_weight['feature'] if 'BIAS' not in i][:i]\n",
    "    X_train = xtrain[top_features]\n",
    "    X_test = xtest[top_features]\n",
    "    _, scr, _ = train_model(X_train.values, train_label, X_test.values, model = model, params=None, folds=repeatedfolds)\n",
    "    scores['simple'].append(np.mean(scr))\n",
    "    \n",
    "    X_train = xtrain[top_features + ['mean']]\n",
    "    X_test = xtest[top_features + ['mean']]\n",
    "    _, scr, _ = train_model(X_train.values, train_label, X_test.values, model = model, params=None, folds=repeatedfolds)\n",
    "    scores['mean'].append(np.mean(scr))\n",
    "    \n",
    "    X_train = xtrain[top_features + ['std']]\n",
    "    X_test = xtest[top_features + ['std']]\n",
    "    _, scr, _ = train_model(X_train.values, train_label, X_test.values, model = model, params=None, folds=repeatedfolds)\n",
    "    scores['std'].append(np.mean(scr))"
   ]
  },
  {
   "cell_type": "code",
   "execution_count": 143,
   "metadata": {
    "ExecuteTime": {
     "end_time": "2019-06-25T11:22:01.902148Z",
     "start_time": "2019-06-25T11:22:01.710194Z"
    }
   },
   "outputs": [
    {
     "name": "stdout",
     "output_type": "stream",
     "text": [
      "CV mean score: 0.8747, std: 0.1050.\n"
     ]
    }
   ],
   "source": [
    "top = 45\n",
    "top_features = [i[1:] for i in feature_weight['feature'] if 'BIAS' not in i][:top]\n",
    "X_train = xtrain.loc[:,top_features + ['std']]\n",
    "X_test = xtest.loc[:,top_features + ['std']]\n",
    "_, scr, pred = train_model(X_train.values, train_label, X_test.values, model = model, params = None)"
   ]
  },
  {
   "cell_type": "code",
   "execution_count": 144,
   "metadata": {
    "ExecuteTime": {
     "end_time": "2019-06-25T11:22:08.623954Z",
     "start_time": "2019-06-25T11:22:08.551122Z"
    }
   },
   "outputs": [
    {
     "data": {
      "text/html": [
       "<a href=submission10.csv>Download CSV file</a>"
      ],
      "text/plain": [
       "<IPython.core.display.HTML object>"
      ]
     },
     "execution_count": 144,
     "metadata": {},
     "output_type": "execute_result"
    }
   ],
   "source": [
    "submission = pd.DataFrame({'id':test.id})\n",
    "submission['target'] = pred\n",
    "submission.to_csv('submission10.csv', index=False)\n",
    "create_download_link(filename = 'submission10.csv')"
   ]
  },
  {
   "cell_type": "code",
   "execution_count": 145,
   "metadata": {
    "ExecuteTime": {
     "end_time": "2019-06-25T11:22:20.287119Z",
     "start_time": "2019-06-25T11:22:20.137420Z"
    }
   },
   "outputs": [
    {
     "name": "stdout",
     "output_type": "stream",
     "text": [
      "CV mean score: 0.7964, std: 0.1277.\n"
     ]
    }
   ],
   "source": [
    "top = 15\n",
    "top_features = [i[1:] for i in feature_weight['feature'] if 'BIAS' not in i][:top]\n",
    "X_train = xtrain.loc[:,top_features + ['std']]\n",
    "X_test = xtest.loc[:,top_features + ['std']]\n",
    "_, scr, pred = train_model(X_train.values, train_label, X_test.values, model = model, params = None)"
   ]
  },
  {
   "cell_type": "code",
   "execution_count": 146,
   "metadata": {
    "ExecuteTime": {
     "end_time": "2019-06-25T11:22:25.841545Z",
     "start_time": "2019-06-25T11:22:25.770104Z"
    }
   },
   "outputs": [
    {
     "data": {
      "text/html": [
       "<a href=submission10_1.csv>Download CSV file</a>"
      ],
      "text/plain": [
       "<IPython.core.display.HTML object>"
      ]
     },
     "execution_count": 146,
     "metadata": {},
     "output_type": "execute_result"
    }
   ],
   "source": [
    "submission = pd.DataFrame({'id':test.id})\n",
    "submission['target'] = pred\n",
    "submission.to_csv('submission10_1.csv', index=False)\n",
    "create_download_link(filename = 'submission10_1.csv')"
   ]
  }
 ],
 "metadata": {
  "kernelspec": {
   "display_name": "Python 3",
   "language": "python",
   "name": "python3"
  },
  "varInspector": {
   "cols": {
    "lenName": 16,
    "lenType": 16,
    "lenVar": 40
   },
   "kernels_config": {
    "python": {
     "delete_cmd_postfix": "",
     "delete_cmd_prefix": "del ",
     "library": "var_list.py",
     "varRefreshCmd": "print(var_dic_list())"
    },
    "r": {
     "delete_cmd_postfix": ") ",
     "delete_cmd_prefix": "rm(",
     "library": "var_list.r",
     "varRefreshCmd": "cat(var_dic_list()) "
    }
   },
   "oldHeight": 463.85,
   "position": {
    "height": "40px",
    "left": "931px",
    "right": "20px",
    "top": "120px",
    "width": "358px"
   },
   "types_to_exclude": [
    "module",
    "function",
    "builtin_function_or_method",
    "instance",
    "_Feature"
   ],
   "varInspector_section_display": "none",
   "window_display": true
  }
 },
 "nbformat": 4,
 "nbformat_minor": 1
}
