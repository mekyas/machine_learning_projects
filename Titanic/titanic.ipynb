{
 "cells": [
  {
   "cell_type": "markdown",
   "metadata": {},
   "source": [
    "## Titanic\n",
    "This is the solution proposed to predict passengers survival in the titanic voyage\n",
    "this notbook was executed in Kaggle kernel, you can download the data from Kaggle"
   ]
  },
  {
   "cell_type": "code",
   "execution_count": 217,
   "metadata": {
    "_cell_guid": "b1076dfc-b9ad-4769-8c92-a6c4dae69d19",
    "_uuid": "8f2839f25d086af736a60e9eeb907d3b93b6e0e5"
   },
   "outputs": [],
   "source": [
    "\n",
    "\n",
    "import numpy as np \n",
    "import pandas as pd \n",
    "import os\n",
    "print(os.listdir(\"../input\"))\n"
   ]
  },
  {
   "cell_type": "code",
   "execution_count": 218,
   "metadata": {
    "_cell_guid": "79c7e3d0-c299-4dcb-8224-4455121ee9b0",
    "_uuid": "d629ff2d2480ee46fbb7e2d37f6b5fab8052498a",
    "collapsed": true
   },
   "outputs": [],
   "source": [
    "data= pd.read_csv('../input/train.csv')\n",
    "data_val= pd.read_csv('../input/test.csv')"
   ]
  },
  {
   "cell_type": "code",
   "execution_count": 219,
   "metadata": {
    "_uuid": "508a26fc5335a30ed707690d8fca688600248e81"
   },
   "outputs": [],
   "source": [
    "data_val.info()"
   ]
  },
  {
   "cell_type": "code",
   "execution_count": 220,
   "metadata": {
    "_uuid": "13dbf1b26a6485e66c92b87b0e40cfd1e7a5b443"
   },
   "outputs": [],
   "source": [
    "data.head()"
   ]
  },
  {
   "cell_type": "code",
   "execution_count": 221,
   "metadata": {
    "_uuid": "f504817f4a438585063d05acc863565ceab28d6b"
   },
   "outputs": [],
   "source": [
    "data.describe()"
   ]
  },
  {
   "cell_type": "code",
   "execution_count": 222,
   "metadata": {
    "_uuid": "fc6459cf3ea082f2ca8a2c50166ac394bb1516cb"
   },
   "outputs": [],
   "source": [
    "data['Survived'].value_counts()"
   ]
  },
  {
   "cell_type": "code",
   "execution_count": 223,
   "metadata": {
    "_uuid": "d8d0b04e8431b4b1fdc3c043a272f8947d612d1b"
   },
   "outputs": [],
   "source": [
    "import matplotlib.pyplot as plt\n",
    "data.hist(bins=50, figsize=(10,10))\n",
    "plt.show()"
   ]
  },
  {
   "cell_type": "code",
   "execution_count": 224,
   "metadata": {
    "_uuid": "bcea09ea78cbc115f6a7a3bc325565632dc767c6",
    "collapsed": true
   },
   "outputs": [],
   "source": [
    "from sklearn.model_selection import train_test_split, StratifiedShuffleSplit\n",
    "\n",
    "split= StratifiedShuffleSplit(n_splits=1, test_size=0.3)\n",
    "for train_index, test_index in split.split(data, data['Survived']):\n",
    "    train_data=data.loc[train_index]\n",
    "    test_data=data.loc[test_index]"
   ]
  },
  {
   "cell_type": "code",
   "execution_count": 225,
   "metadata": {
    "_uuid": "b77d316e1c8848e05f0c21e4a89163d166e289c1"
   },
   "outputs": [],
   "source": [
    "train_data['Survived'].value_counts()"
   ]
  },
  {
   "cell_type": "code",
   "execution_count": 226,
   "metadata": {
    "_uuid": "d8cc815b12cebf6bbdc7dcabeaed8480e14a6951"
   },
   "outputs": [],
   "source": [
    "corr_matrix= train_data.corr()\n",
    "corr_matrix['Survived'].sort_values(ascending=False)"
   ]
  },
  {
   "cell_type": "code",
   "execution_count": 227,
   "metadata": {
    "_uuid": "e7ffd7587105079d280e6ba5ed0b2e61321895f1"
   },
   "outputs": [],
   "source": [
    "train_data.info()"
   ]
  },
  {
   "cell_type": "code",
   "execution_count": 228,
   "metadata": {
    "_uuid": "1ec6558cb68ab154ae768552fe8f70671dd5fda0",
    "collapsed": true
   },
   "outputs": [],
   "source": [
    "X_train=train_data.drop('Survived', axis=1)\n",
    "y_train=train_data['Survived'].copy()"
   ]
  },
  {
   "cell_type": "code",
   "execution_count": 229,
   "metadata": {
    "_uuid": "2fa3626089c297b21981b40520b4f2a1c72f32e9"
   },
   "outputs": [],
   "source": [
    "train_data.head()\n",
    "#X_train.describe()"
   ]
  },
  {
   "cell_type": "code",
   "execution_count": 230,
   "metadata": {
    "_uuid": "37b6b04a03c510a2542eb1343fa3bfb7ba200374",
    "collapsed": true
   },
   "outputs": [],
   "source": [
    "X_test=test_data.drop('Survived', axis=1)\n",
    "y_test=test_data['Survived'].copy()"
   ]
  },
  {
   "cell_type": "code",
   "execution_count": 231,
   "metadata": {
    "_uuid": "234c311935b6a607f4ffdec1c5910676188acfec",
    "collapsed": true
   },
   "outputs": [],
   "source": [
    "from sklearn.base import BaseEstimator, TransformerMixin\n",
    "\n",
    "class DataFrameSelector(BaseEstimator, TransformerMixin):\n",
    "    def __init__(self, attribut):\n",
    "        self.attribut=attribut\n",
    "    def fit(self, X, y=None):\n",
    "        return self\n",
    "    def transform(self, X):\n",
    "        return X[self.attribut].values"
   ]
  },
  {
   "cell_type": "code",
   "execution_count": 232,
   "metadata": {
    "_uuid": "46c150a76e89ca2a0af236b648b8d1e811c393f4",
    "collapsed": true
   },
   "outputs": [],
   "source": [
    "X_train['Title']=X_train['Name'].str.split(', ', expand=True)[1].str.split('.', expand=True)[0]"
   ]
  },
  {
   "cell_type": "code",
   "execution_count": 233,
   "metadata": {
    "_uuid": "282ef8f43e15197878f7f781d2c73d0be5915439"
   },
   "outputs": [],
   "source": [
    "title_names = (X_train['Title'].value_counts() < 10)\n",
    "X_train['Title']=X_train['Title'].apply(lambda l: 'Misc' if title_names.loc[l]==True else l) \n",
    "print(X_train['Title'].value_counts())"
   ]
  },
  {
   "cell_type": "code",
   "execution_count": 234,
   "metadata": {
    "_uuid": "16f920664e0305ad1cc34fde1992529141bcf124"
   },
   "outputs": [],
   "source": [
    "X_train.info()"
   ]
  },
  {
   "cell_type": "code",
   "execution_count": 235,
   "metadata": {
    "_uuid": "a92ea333a319f54793960401e8c23076315a2373"
   },
   "outputs": [],
   "source": [
    "from sklearn.preprocessing import Imputer, LabelEncoder, LabelBinarizer, StandardScaler, OneHotEncoder\n",
    "from sklearn.pipeline import Pipeline, FeatureUnion\n",
    "\n",
    "num_attribute=['Pclass', 'Age', 'SibSp', 'Parch', 'Fare']\n",
    "cat_attribute=['Sex', 'Embarked', 'Title']\n",
    "oth_attribute=['PassengerId','Name', 'Ticket', 'Cabin']\n",
    "#X_train[cat_attribute].astype(str)\n",
    "X_train['Embarked'].fillna(X_train['Embarked'].mode()[0], inplace = True)\n",
    "X_train.isnull().sum()\n",
    "X_train.head()\n"
   ]
  },
  {
   "cell_type": "code",
   "execution_count": 236,
   "metadata": {
    "_uuid": "5b8d9b714924cf8c3c39617ae3cbe61172db71ae"
   },
   "outputs": [],
   "source": [
    "X_train[\"Title\"].value_counts()"
   ]
  },
  {
   "cell_type": "code",
   "execution_count": 237,
   "metadata": {
    "_uuid": "cbc078dce1659b139c7901a8170077f3bb97a859"
   },
   "outputs": [],
   "source": [
    "class MyLabelBinarizer(TransformerMixin):\n",
    "    def __init__(self, *args, **kwargs):\n",
    "        self.encoder = LabelBinarizer(*args, **kwargs)\n",
    "    def fit(self, x, y=0):\n",
    "        self.encoder.fit(x)\n",
    "        return self\n",
    "    def transform(self, x, y=0):\n",
    "        return self.encoder.transform(x)\n",
    "\n",
    "class CustomLabelBinarizer(BaseEstimator, TransformerMixin):\n",
    "    def __init__(self, sparse_output=False):\n",
    "        self.sparse_output = sparse_output\n",
    "    def fit(self, X, y=None):\n",
    "        return self\n",
    "    def transform(self, X, y=None):\n",
    "        enc = LabelBinarizer(sparse_output=self.sparse_output)\n",
    "        return enc.fit_transform(X)\n",
    "\n",
    "imputer=Imputer(strategy=\"median\")\n",
    "scaler=StandardScaler()\n",
    "label= LabelEncoder()\n",
    "hotEncode= OneHotEncoder()\n",
    "X_train[num_attribute]=imputer.fit_transform(X_train[num_attribute])\n",
    "X_train=X_train.drop(columns=oth_attribute)\n",
    "X_train=pd.get_dummies(X_train)\n",
    "num_pipeline= Pipeline([\n",
    "    ('selector', DataFrameSelector(num_attribute)),\n",
    "    ('imputer', Imputer(strategy=\"median\")),\n",
    "    ('scaler', StandardScaler())\n",
    "])\n",
    "\n",
    "cat_pipeline= Pipeline([\n",
    "    ('selector', DataFrameSelector(cat_attribute)),\n",
    "    ('labelencod', CustomLabelBinarizer())\n",
    "])\n",
    "\n",
    "full_pipelie=FeatureUnion(transformer_list=[\n",
    "    (\"num_pipeline\", num_pipeline),\n",
    "    (\"cat_pipeline\", cat_pipeline)\n",
    "    ])\n",
    "\n",
    "#X_train=full_pipelie.fit_transform(X_train)"
   ]
  },
  {
   "cell_type": "code",
   "execution_count": 238,
   "metadata": {
    "_uuid": "723e9bf97507fea3f8d74744b44756c2dded86ea"
   },
   "outputs": [],
   "source": [
    "X_train.head(10)"
   ]
  },
  {
   "cell_type": "code",
   "execution_count": 239,
   "metadata": {
    "_uuid": "a3faf01e6c5f25fe49519af53c8e3e60b0e85672"
   },
   "outputs": [],
   "source": [
    "X_train.shape"
   ]
  },
  {
   "cell_type": "code",
   "execution_count": 240,
   "metadata": {
    "_uuid": "453974d6874302f6770b34762b992f6ac705c407"
   },
   "outputs": [],
   "source": [
    "from sklearn.linear_model import SGDClassifier\n",
    "from sklearn.model_selection import cross_val_score\n",
    "sgd_clf=SGDClassifier()\n",
    "sgd_clf.fit(X_train, y_train)\n",
    "cross_val_score(sgd_clf, X_train, y_train, cv=3,  scoring=\"accuracy\")"
   ]
  },
  {
   "cell_type": "code",
   "execution_count": 241,
   "metadata": {
    "_uuid": "de20c88a1e56b98d01c2d130adadf40635fe5e3f"
   },
   "outputs": [],
   "source": [
    "from sklearn.model_selection import cross_val_predict\n",
    "from sklearn.metrics import confusion_matrix, f1_score, precision_score, recall_score, accuracy_score\n",
    "y_pred=cross_val_predict(sgd_clf, X_train, y_train, cv=3)\n",
    "confusion_matrix(y_train, y_pred)"
   ]
  },
  {
   "cell_type": "code",
   "execution_count": 242,
   "metadata": {
    "_uuid": "208c58fc85f4b34f83190750dd1000bbc7358a6e"
   },
   "outputs": [],
   "source": [
    "print(f1_score(y_train, y_pred))\n",
    "print(precision_score(y_train, y_pred))\n",
    "print(recall_score(y_train, y_pred))\n",
    "print(accuracy_score(y_train, y_pred))"
   ]
  },
  {
   "cell_type": "code",
   "execution_count": 243,
   "metadata": {
    "_uuid": "0d666a6d5c80fff8683548a43aabc3f795e25477"
   },
   "outputs": [],
   "source": [
    "y_score=cross_val_predict(sgd_clf, X_train, y_train, cv=3, method=\"decision_function\")"
   ]
  },
  {
   "cell_type": "code",
   "execution_count": 244,
   "metadata": {
    "_uuid": "8ab61d8de1e1b20552dbe67874155cd5717f5f8f"
   },
   "outputs": [],
   "source": [
    "from sklearn.metrics import precision_recall_curve\n",
    "\n",
    "precisions, recalls, thresholds= precision_recall_curve(y_train, y_score)\n",
    "def plot_precision_recall_vs_threshold(precisions, recalls, thresholds):\n",
    "    plt.plot(thresholds, precisions[:-1], \"b--\", label=\"Precision\")\n",
    "    plt.plot(thresholds, recalls[:-1], \"g-\", label=\"Recall\")\n",
    "    plt.xlabel(\"Threshold\")\n",
    "    plt.legend(loc=\"upper left\")\n",
    "    plt.ylim([0, 1])\n",
    "plot_precision_recall_vs_threshold(precisions, recalls, thresholds)\n",
    "plt.show()"
   ]
  },
  {
   "cell_type": "code",
   "execution_count": 245,
   "metadata": {
    "_uuid": "f919431b321d5c42b4e83b879e4c0f4fbc952ecf"
   },
   "outputs": [],
   "source": [
    "from sklearn.metrics import roc_curve\n",
    "\n",
    "fpr, tpr, thresholds = roc_curve(y_train, y_score)\n",
    "def plot_roc_curve(fpr, tpr, label=None):\n",
    "    plt.plot(fpr, tpr, label=label)\n",
    "    plt.plot([0,1],[0,1], 'k--')\n",
    "    plt.axis([0,1,0,1])\n",
    "    plt.xlabel(\"False Positive Rate\")\n",
    "    plt.ylabel(\"True Positive Rate\")\n",
    "    plt.title(\"ROC CURVE\")\n",
    "plot_roc_curve(fpr, tpr)\n",
    "plt.show()"
   ]
  },
  {
   "cell_type": "code",
   "execution_count": 246,
   "metadata": {
    "_uuid": "5997903761261af9736cea6c35fd39746969f768"
   },
   "outputs": [],
   "source": [
    "from sklearn.metrics import roc_auc_score\n",
    "roc_auc_score(y_train, y_score)"
   ]
  },
  {
   "cell_type": "code",
   "execution_count": 247,
   "metadata": {
    "_uuid": "5bc809d09272a0b2d08626c4625440de01c7f671"
   },
   "outputs": [],
   "source": [
    "from sklearn.ensemble import RandomForestClassifier\n",
    "\n",
    "forest_clf=RandomForestClassifier(random_state=0)\n",
    "forest_clf.fit(X_train, y_train)\n",
    "cross_val_score(forest_clf, X_train, y_train, cv=3, scoring=\"accuracy\")"
   ]
  },
  {
   "cell_type": "code",
   "execution_count": 248,
   "metadata": {
    "_uuid": "d0b85196c2d5422413a66e2e36df86341c4593e8"
   },
   "outputs": [],
   "source": [
    "y_forest_pred=cross_val_predict(forest_clf, X_train, y_train, cv=3)\n",
    "print(\"confusion_matrix is : \", confusion_matrix(y_train, y_forest_pred))\n",
    "print(\"f1 score is : \", f1_score(y_train, y_forest_pred))\n",
    "print(\"precision score is : \", precision_score(y_train, y_forest_pred))\n",
    "print(\"recall score is : \", recall_score(y_train, y_forest_pred))\n",
    "print(\"accuracy score is : \", accuracy_score(y_train, y_forest_pred))\n",
    "y_forest_proba=cross_val_predict(forest_clf, X_train, y_train, cv=3, method=\"predict_proba\")\n",
    "y_forest_score=y_forest_proba[:,1]\n",
    "precisions, recalls, thresholds= precision_recall_curve(y_train, y_forest_score)\n",
    "plot_precision_recall_vs_threshold(precisions, recalls, thresholds)\n",
    "plt.show()\n",
    "fpr, tpr, thresholds = roc_curve(y_train, y_forest_score)\n",
    "plot_roc_curve(fpr, tpr)\n",
    "plt.show()\n",
    "print(\"AUC is : \", roc_auc_score(y_train, y_forest_score))"
   ]
  },
  {
   "cell_type": "code",
   "execution_count": 249,
   "metadata": {
    "_uuid": "5acadcd479acf152159ff472a71773cfeb773980"
   },
   "outputs": [],
   "source": [
    "y_pred_1=(y_forest_score>0.67)\n",
    "accuracy_score(y_train, y_pred_1)"
   ]
  },
  {
   "cell_type": "code",
   "execution_count": 250,
   "metadata": {
    "_uuid": "a5e8fffcd449eaf6a22a9b467f18d424a237fa95"
   },
   "outputs": [],
   "source": [
    "from sklearn.kernel_approximation import RBFSampler\n",
    "\n",
    "rbfsampler=RBFSampler(gamma=1, random_state=0)\n",
    "X_feature= rbfsampler.fit_transform(X_train)\n",
    "sgd_clf2= SGDClassifier()\n",
    "sgd_clf2.fit(X_feature, y_train)\n",
    "cross_val_score(forest_clf, X_feature, y_train, cv=3, scoring=\"accuracy\")"
   ]
  },
  {
   "cell_type": "code",
   "execution_count": 251,
   "metadata": {
    "_uuid": "42b715873d112cc408ff2b50fa7c41b306da1add"
   },
   "outputs": [],
   "source": [
    "from xgboost import XGBClassifier\n",
    "\n",
    "xgb= XGBClassifier()\n",
    "xgb.fit(X_train, y_train)\n",
    "cross_val_score(xgb, X_train, y_train, cv=3, scoring=\"accuracy\")"
   ]
  },
  {
   "cell_type": "code",
   "execution_count": 252,
   "metadata": {
    "_uuid": "55d15ecc3cb945de856a19b52836279cfcf91ec7"
   },
   "outputs": [],
   "source": [
    "from sklearn.model_selection import GridSearchCV\n",
    "\n",
    "param_grid = [\n",
    "{'n_estimators': [3, 10, 15, 30, 60, 120], 'max_features': [2, 4, 6, 8], 'min_samples_split':[2, 6, 18, 50] },\n",
    "{'bootstrap': [False], 'n_estimators': [3, 10, 30, 60, 120], 'max_features': [2, 3, 4, 6, 8, 10, 12]},\n",
    "]\n",
    "forest_clf=RandomForestClassifier()\n",
    "gridSearch=GridSearchCV(forest_clf, param_grid, cv=3, scoring=\"accuracy\")\n",
    "gridSearch.fit(X_train, y_train)"
   ]
  },
  {
   "cell_type": "code",
   "execution_count": 253,
   "metadata": {
    "_uuid": "56837c7f6ea0df614061b2ae70270929ddd31cff"
   },
   "outputs": [],
   "source": [
    "gridSearch.best_params_"
   ]
  },
  {
   "cell_type": "code",
   "execution_count": 254,
   "metadata": {
    "_uuid": "59ba8a11e5104834ff8b011ef37c0074103865d4"
   },
   "outputs": [],
   "source": [
    "gridSearch.best_score_"
   ]
  },
  {
   "cell_type": "code",
   "execution_count": 255,
   "metadata": {
    "_uuid": "c6de5555e54fa3c995079227541e9e03b4fb9cfc",
    "collapsed": true
   },
   "outputs": [],
   "source": [
    "best_model=gridSearch.best_estimator_ "
   ]
  },
  {
   "cell_type": "code",
   "execution_count": 256,
   "metadata": {
    "_uuid": "f7f47f9f94d0f1dd222eb2619a4a897b236ffb92"
   },
   "outputs": [],
   "source": [
    "X_test['Title']=X_test['Name'].str.split(', ', expand=True)[1].str.split('.', expand=True)[0]\n",
    "X_test[\"Title\"].value_counts()"
   ]
  },
  {
   "cell_type": "code",
   "execution_count": 257,
   "metadata": {
    "_uuid": "024c0c84ae7d3ff3a0e1d49a2b3a1acb44498e3b"
   },
   "outputs": [],
   "source": [
    "X_test['Title']=X_test['Name'].str.split(', ', expand=True)[1].str.split('.', expand=True)[0]\n",
    "title_names = (X_test['Title'].value_counts() < 5)\n",
    "X_test['Title']=X_test['Title'].apply(lambda l: 'Misc' if title_names.loc[l]==True else l) \n",
    "X_test['Embarked'].fillna(X_test['Embarked'].mode()[0], inplace = True)\n",
    "X_test[num_attribute]=imputer.transform(X_test[num_attribute])\n",
    "X_test=X_test.drop(columns=oth_attribute)\n",
    "X_test=pd.get_dummies(X_test)\n",
    "X_test.head(10)"
   ]
  },
  {
   "cell_type": "code",
   "execution_count": 258,
   "metadata": {
    "_uuid": "272ffa12ed2e1c919ad44d56abe1c61698154cd0"
   },
   "outputs": [],
   "source": [
    "y_forest_predict=best_model.predict(X_test)\n",
    "print(\"accuracy score of random forest is : \", accuracy_score(y_test, y_forest_predict))\n",
    "y_xgboost_predict=xgb.predict(X_test)\n",
    "print(\"accuracy score of xgboost is : \", accuracy_score(y_test, y_xgboost_predict))"
   ]
  },
  {
   "cell_type": "code",
   "execution_count": 259,
   "metadata": {
    "_uuid": "01a859c7731cefa298ff7609f1c4d3bf7e7cd156",
    "collapsed": true
   },
   "outputs": [],
   "source": [
    "data_val=pd.read_csv('../input/test.csv')\n",
    "PassengerId=data_val[\"PassengerId\"]\n",
    "data_val['Title']=data_val['Name'].str.split(', ', expand=True)[1].str.split('.', expand=True)[0]\n",
    "title_names = (data_val['Title'].value_counts() < 10)\n",
    "data_val['Title']=data_val['Title'].apply(lambda l: 'Misc' if title_names.loc[l]==True else l) \n",
    "data_val['Embarked'].fillna(data_val['Embarked'].mode()[0], inplace = True)\n",
    "data_val[num_attribute]=imputer.transform(data_val[num_attribute])\n",
    "data_val=data_val.drop(columns=oth_attribute)\n",
    "data_val=pd.get_dummies(data_val)\n",
    "y_val=best_model.predict(data_val)"
   ]
  },
  {
   "cell_type": "code",
   "execution_count": 260,
   "metadata": {
    "_uuid": "b8df4043f9ab1caa3ba95e3b82a9ca7b5004b361",
    "collapsed": true
   },
   "outputs": [],
   "source": [
    "my_submission= pd.DataFrame({'PassengerId': PassengerId, 'Survived':y_val})\n",
    "my_submission.to_csv('submission.csv', index=False)"
   ]
  },
  {
   "cell_type": "code",
   "execution_count": 261,
   "metadata": {
    "_uuid": "f93aa5cd803217a8c7c520035541ed874e886372"
   },
   "outputs": [],
   "source": [
    "my_submission.head()"
   ]
  }
 ],
 "metadata": {
  "kernelspec": {
   "display_name": "Python 3",
   "language": "python",
   "name": "python3"
  },
  "language_info": {
   "codemirror_mode": {
    "name": "ipython",
    "version": 3
   },
   "file_extension": ".py",
   "mimetype": "text/x-python",
   "name": "python",
   "nbconvert_exporter": "python",
   "pygments_lexer": "ipython3",
   "version": "3.7.1"
  },
  "varInspector": {
   "cols": {
    "lenName": 16,
    "lenType": 16,
    "lenVar": 40
   },
   "kernels_config": {
    "python": {
     "delete_cmd_postfix": "",
     "delete_cmd_prefix": "del ",
     "library": "var_list.py",
     "varRefreshCmd": "print(var_dic_list())"
    },
    "r": {
     "delete_cmd_postfix": ") ",
     "delete_cmd_prefix": "rm(",
     "library": "var_list.r",
     "varRefreshCmd": "cat(var_dic_list()) "
    }
   },
   "types_to_exclude": [
    "module",
    "function",
    "builtin_function_or_method",
    "instance",
    "_Feature"
   ],
   "window_display": false
  }
 },
 "nbformat": 4,
 "nbformat_minor": 1
}
